{
 "cells": [
  {
   "cell_type": "markdown",
   "id": "8575ffaa-090e-4803-bad8-0ef5b843eba3",
   "metadata": {
    "tags": []
   },
   "source": [
    "### Libraries"
   ]
  },
  {
   "cell_type": "code",
   "execution_count": 1,
   "id": "d3e0ef66-587f-447e-8bba-171f4ece9eda",
   "metadata": {
    "tags": []
   },
   "outputs": [],
   "source": [
    "import pandas as pd\n",
    "import numpy as np"
   ]
  },
  {
   "cell_type": "code",
   "execution_count": 2,
   "id": "9c3a1fa1-5765-43d6-aed9-f1c67330d9fc",
   "metadata": {
    "tags": []
   },
   "outputs": [],
   "source": [
    "import os\n",
    "\n",
    "os.environ[\"path\"] = r'C:\\Users\\Andres Garcia Bayona\\Documents\\Github\\PyDev-Operational-Library-For-Data-Engineers'\n",
    "\n",
    "os.environ[\"records_folder\"] = r'C:\\Users\\Andres Garcia Bayona\\Documents\\Training\\APIs, CRMs and notebook management\\Challenge3'\n",
    "os.environ[\"df_file_name\"] = 'all-contacts.csv'\n",
    "os.environ[\"account_id\"] = '50189227'\n",
    "os.environ[\"add_hubspot_records_view\"] = 'Yes'\n",
    "\n",
    "# It is not necessary to fill in all of the following fields\n",
    "os.environ[\"full_name_column_name\"] = 'Full Name'\n",
    "os.environ[\"phone_number_column_name\"] = 'Phone Number' # could be empty ''\n",
    "os.environ[\"mobile_phone_number_column_name\"] = 'Mobile Phone Number' # could be empty ''\n",
    "os.environ[\"street_address_column_name\"] = 'Street Address' # could be empty ''\n",
    "os.environ[\"list_of_columns\"] = ''#'Company Domain Name' # could be empty '' or several properties separed with a ; 'Company Domain;Phone Number'"
   ]
  },
  {
   "cell_type": "markdown",
   "id": "848986a4-c4f8-45ff-a5b5-62c3bbe9eeee",
   "metadata": {},
   "source": [
    "### Data Team Libraries"
   ]
  },
  {
   "cell_type": "code",
   "execution_count": 3,
   "id": "51d4ab65-6284-4226-951b-7d29e8c79d41",
   "metadata": {
    "tags": []
   },
   "outputs": [],
   "source": [
    "path = os.getenv('path')"
   ]
  },
  {
   "cell_type": "code",
   "execution_count": 4,
   "id": "8102d462-1cf7-4f39-887b-ee0d91c787cc",
   "metadata": {
    "tags": []
   },
   "outputs": [],
   "source": [
    "import sys\n",
    "sys.path.insert(0,path)\n",
    "\n",
    "from functions.manage_duplicates.find_duplicate_contacts_by_name_and_phone import find_duplicate_contacts_by_name_and_phone\n",
    "from functions.manage_duplicates.find_duplicate_contacts_by_specified_fields import find_duplicate_contacts_by_specified_fields\n",
    "from functions.data_transformations.delete_unnecessary_blank_spaces import delete_unnecessary_blank_spaces\n",
    "\n",
    "from functions.manage_duplicates.standardize_data.standardize_contacts_full_name import standardize_contacts_full_name"
   ]
  },
  {
   "cell_type": "markdown",
   "id": "701293b4-d1b7-4df2-aa50-d7e20d82b589",
   "metadata": {},
   "source": [
    "## Input Data Frame"
   ]
  },
  {
   "cell_type": "code",
   "execution_count": 5,
   "id": "4ff15764-4aaa-4e87-8d60-0892e8f3e2c1",
   "metadata": {
    "tags": []
   },
   "outputs": [],
   "source": [
    "file_path = os.getenv('records_folder')"
   ]
  },
  {
   "cell_type": "code",
   "execution_count": 6,
   "id": "f780cac5-b3a9-49fb-810a-61540a917e7b",
   "metadata": {
    "tags": []
   },
   "outputs": [],
   "source": [
    "df = pd.read_csv(file_path+'//'+os.getenv('df_file_name'), low_memory=False)"
   ]
  },
  {
   "cell_type": "markdown",
   "id": "2b982be4-a7ef-415e-ac7d-3681f7279e7e",
   "metadata": {},
   "source": [
    "#### Standarize empty spaces"
   ]
  },
  {
   "cell_type": "code",
   "execution_count": 7,
   "id": "235ac497-23d4-47bd-8694-ea41bcad386c",
   "metadata": {
    "tags": []
   },
   "outputs": [],
   "source": [
    "df = df.replace(np.nan, '')"
   ]
  },
  {
   "cell_type": "markdown",
   "id": "9e41c564-752f-4bc5-b07f-5da6ad3792e7",
   "metadata": {
    "tags": []
   },
   "source": [
    "### If Name is split in two fields"
   ]
  },
  {
   "cell_type": "code",
   "execution_count": 8,
   "id": "5eee2168-710e-4086-affb-434503e68dd4",
   "metadata": {
    "tags": []
   },
   "outputs": [],
   "source": [
    "full_name_column = os.getenv('full_name_column_name')"
   ]
  },
  {
   "cell_type": "code",
   "execution_count": 9,
   "id": "b05fe546-0838-4804-8b0d-ed1699fbc6ce",
   "metadata": {
    "tags": []
   },
   "outputs": [
    {
     "name": "stderr",
     "output_type": "stream",
     "text": [
      "C:\\Users\\Andres Garcia Bayona\\AppData\\Local\\Temp\\ipykernel_10044\\1354254860.py:1: PerformanceWarning: DataFrame is highly fragmented.  This is usually the result of calling `frame.insert` many times, which has poor performance.  Consider joining all columns at once using pd.concat(axis=1) instead. To get a de-fragmented frame, use `newframe = frame.copy()`\n",
      "  df[full_name_column] = df['First Name'] + ' ' + df['Last Name']\n"
     ]
    }
   ],
   "source": [
    "df[full_name_column] = df['First Name'] + ' ' + df['Last Name']\n",
    "\n",
    "df[full_name_column] = df[full_name_column].apply(delete_unnecessary_blank_spaces)"
   ]
  },
  {
   "cell_type": "code",
   "execution_count": 10,
   "id": "63271fa7-a177-4b64-a4dd-89a50e2a9174",
   "metadata": {
    "tags": []
   },
   "outputs": [
    {
     "name": "stderr",
     "output_type": "stream",
     "text": [
      "C:\\Users\\Andres Garcia Bayona\\AppData\\Local\\Temp\\ipykernel_10044\\1983766633.py:1: PerformanceWarning: DataFrame is highly fragmented.  This is usually the result of calling `frame.insert` many times, which has poor performance.  Consider joining all columns at once using pd.concat(axis=1) instead. To get a de-fragmented frame, use `newframe = frame.copy()`\n",
      "  df['Standardized Full Name'] = df['Full Name'].apply(standardize_contacts_full_name)\n"
     ]
    }
   ],
   "source": [
    "df['Standardized Full Name'] = df['Full Name'].apply(standardize_contacts_full_name)"
   ]
  },
  {
   "cell_type": "markdown",
   "id": "fc877178-6af0-43c1-9638-c5548c0a07c3",
   "metadata": {
    "tags": []
   },
   "source": [
    "## Run Find Duplicates Funcion"
   ]
  },
  {
   "cell_type": "code",
   "execution_count": 11,
   "id": "9c19c012-d702-48ab-b765-9a8dad67b815",
   "metadata": {
    "tags": []
   },
   "outputs": [],
   "source": [
    "frame_phone_column_name = os.getenv('phone_number_column_name')\n",
    "street_address_column_name = os.getenv('street_address_column_name')\n",
    "mobile_phone_number_column_name = os.getenv('mobile_phone_number_column_name')"
   ]
  },
  {
   "cell_type": "code",
   "execution_count": 12,
   "id": "535cc7fe-6eb6-46c6-b280-5920a0fa04aa",
   "metadata": {
    "tags": []
   },
   "outputs": [
    {
     "name": "stdout",
     "output_type": "stream",
     "text": [
      "[]\n"
     ]
    },
    {
     "name": "stderr",
     "output_type": "stream",
     "text": [
      "C:\\Users\\Andres Garcia Bayona\\Documents\\Github\\PyDev-Operational-Library-For-Data-Engineers\\functions\\manage_duplicates\\find_duplicate_contacts_by_specified_fields.py:100: PerformanceWarning: DataFrame is highly fragmented.  This is usually the result of calling `frame.insert` many times, which has poor performance.  Consider joining all columns at once using pd.concat(axis=1) instead. To get a de-fragmented frame, use `newframe = frame.copy()`\n",
      "  frame_data['Standardized Address'] = frame_data[street_address_column_name].apply(standarize_street_address)\n"
     ]
    }
   ],
   "source": [
    "street, no_duplicates_frame = find_duplicate_contacts_by_specified_fields(df,\n",
    "                                                                        full_name_field = full_name_column,\n",
    "                                                                        street_address_column_name = street_address_column_name)"
   ]
  },
  {
   "cell_type": "code",
   "execution_count": 13,
   "id": "5cc0aeb6-e206-4624-ada7-73b0fc9e3d75",
   "metadata": {
    "tags": []
   },
   "outputs": [
    {
     "data": {
      "text/plain": [
       "0"
      ]
     },
     "execution_count": 13,
     "metadata": {},
     "output_type": "execute_result"
    }
   ],
   "source": [
    "len(street)"
   ]
  },
  {
   "cell_type": "code",
   "execution_count": 14,
   "id": "78a09026-1abf-48ed-8102-c292dd6002dc",
   "metadata": {
    "tags": []
   },
   "outputs": [
    {
     "data": {
      "text/html": [
       "<div>\n",
       "<style scoped>\n",
       "    .dataframe tbody tr th:only-of-type {\n",
       "        vertical-align: middle;\n",
       "    }\n",
       "\n",
       "    .dataframe tbody tr th {\n",
       "        vertical-align: top;\n",
       "    }\n",
       "\n",
       "    .dataframe thead th {\n",
       "        text-align: right;\n",
       "    }\n",
       "</style>\n",
       "<table border=\"1\" class=\"dataframe\">\n",
       "  <thead>\n",
       "    <tr style=\"text-align: right;\">\n",
       "      <th></th>\n",
       "      <th>Record ID</th>\n",
       "      <th>First Name</th>\n",
       "      <th>Last Name</th>\n",
       "      <th>Annual Revenue</th>\n",
       "      <th>Attack</th>\n",
       "      <th>Average Pageviews</th>\n",
       "      <th>Buying Role</th>\n",
       "      <th>Campaign of last booking in meetings tool</th>\n",
       "      <th>Checkbox</th>\n",
       "      <th>City</th>\n",
       "      <th>...</th>\n",
       "      <th>Unsubscribed from all email</th>\n",
       "      <th>Updated by user ID</th>\n",
       "      <th>Website URL</th>\n",
       "      <th>WhatsApp Phone Number</th>\n",
       "      <th>Work email</th>\n",
       "      <th>Additional email addresses</th>\n",
       "      <th>Full Name</th>\n",
       "      <th>Standardized Full Name</th>\n",
       "      <th>Standardized Address</th>\n",
       "      <th>Key</th>\n",
       "    </tr>\n",
       "  </thead>\n",
       "  <tbody>\n",
       "  </tbody>\n",
       "</table>\n",
       "<p>0 rows × 257 columns</p>\n",
       "</div>"
      ],
      "text/plain": [
       "Empty DataFrame\n",
       "Columns: [Record ID, First Name, Last Name, Annual Revenue, Attack, Average Pageviews, Buying Role, Campaign of last booking in meetings tool, Checkbox, City, city_found, Close Date, Company Name, Company size, Contact owner, Contact priority, Contact unworked, country_found, Country/Region, Country/Region Code, Create Date, Created by user ID, Cumulative time in \"Customer (Lifecycle Stage Pipeline)\" (HH:mm:ss), Cumulative time in \"Evangelist (Lifecycle Stage Pipeline)\" (HH:mm:ss), Cumulative time in \"Lead (Lifecycle Stage Pipeline)\" (HH:mm:ss), Cumulative time in \"Marketing Qualified Lead (Lifecycle Stage Pipeline)\" (HH:mm:ss), Cumulative time in \"Opportunity (Lifecycle Stage Pipeline)\" (HH:mm:ss), Cumulative time in \"Other (Lifecycle Stage Pipeline)\" (HH:mm:ss), Cumulative time in \"Sales Qualified Lead (Lifecycle Stage Pipeline)\" (HH:mm:ss), Cumulative time in \"Subscriber (Lifecycle Stage Pipeline)\" (HH:mm:ss), Currently in Sequence, Date entered \"Customer (Lifecycle Stage Pipeline)\", Date entered \"Evangelist (Lifecycle Stage Pipeline)\", Date entered \"Lead (Lifecycle Stage Pipeline)\", Date entered \"Marketing Qualified Lead (Lifecycle Stage Pipeline)\", Date entered \"Opportunity (Lifecycle Stage Pipeline)\", Date entered \"Other (Lifecycle Stage Pipeline)\", Date entered \"Sales Qualified Lead (Lifecycle Stage Pipeline)\", Date entered \"Subscriber (Lifecycle Stage Pipeline)\", Date exited \"Customer (Lifecycle Stage Pipeline)\", Date exited \"Evangelist (Lifecycle Stage Pipeline)\", Date exited \"Lead (Lifecycle Stage Pipeline)\", Date exited \"Marketing Qualified Lead (Lifecycle Stage Pipeline)\", Date exited \"Opportunity (Lifecycle Stage Pipeline)\", Date exited \"Other (Lifecycle Stage Pipeline)\", Date exited \"Sales Qualified Lead (Lifecycle Stage Pipeline)\", Date exited \"Subscriber (Lifecycle Stage Pipeline)\", Date of birth, Date of first engagement, Date of last meeting booked in meetings tool, Days To Close, Defense, Degree, Description of first engagement, Domain to which registration email was sent, Email, Email address automated quarantine reason, Email address quarantine reason, Email Address Quarantined, Email Confirmed, Email Domain, Email hard bounce reason, Employment Role, Employment Seniority, Employment Sub Role, Enriched Email Bounce Detected, Enrichment opt out, Enrichment opt out timestamp, Event Revenue, Extension, Facebook click id, Fax Number, Field of study, First Closed Order ID, First Conversion, First Conversion Date, First Deal Created Date, First marketing email click date, First marketing email open date, First marketing email reply date, First marketing email send date, First Order Closed Date, First Page Seen, First Referring Site, First Touch Converting Campaign, Gender, Google ad click id, Graduation date, Has been enriched, HP, HubSpot Score, HubSpot Team, ID of first engagement, Industry, Inferred Language Codes, Invalid email address, IP City, IP Country, IP Country Code, IP State Code/Region Code, ...]\n",
       "Index: []\n",
       "\n",
       "[0 rows x 257 columns]"
      ]
     },
     "execution_count": 14,
     "metadata": {},
     "output_type": "execute_result"
    }
   ],
   "source": [
    "street"
   ]
  },
  {
   "cell_type": "code",
   "execution_count": 15,
   "id": "5ed9fa0a-312d-443f-b956-294a16a2718b",
   "metadata": {
    "tags": []
   },
   "outputs": [
    {
     "data": {
      "text/plain": [
       "Series([], Name: Street Address, dtype: object)"
      ]
     },
     "execution_count": 15,
     "metadata": {},
     "output_type": "execute_result"
    }
   ],
   "source": [
    "street['Street Address']"
   ]
  },
  {
   "cell_type": "code",
   "execution_count": 16,
   "id": "031e7823-b3d1-4a0e-909e-43f506146b8e",
   "metadata": {
    "tags": []
   },
   "outputs": [
    {
     "name": "stderr",
     "output_type": "stream",
     "text": [
      "C:\\Users\\Andres Garcia Bayona\\Documents\\Github\\PyDev-Operational-Library-For-Data-Engineers\\functions\\manage_duplicates\\find_duplicate_contacts_by_name_and_phone.py:43: PerformanceWarning: DataFrame is highly fragmented.  This is usually the result of calling `frame.insert` many times, which has poor performance.  Consider joining all columns at once using pd.concat(axis=1) instead. To get a de-fragmented frame, use `newframe = frame.copy()`\n",
      "  frame_data['Standardized Phone Number'] = frame_data[frame_phone_column_name].apply(standardize_phone)\n",
      "C:\\Users\\Andres Garcia Bayona\\Documents\\Github\\PyDev-Operational-Library-For-Data-Engineers\\functions\\manage_duplicates\\find_duplicate_contacts_by_name_and_phone.py:59: PerformanceWarning: DataFrame is highly fragmented.  This is usually the result of calling `frame.insert` many times, which has poor performance.  Consider joining all columns at once using pd.concat(axis=1) instead. To get a de-fragmented frame, use `newframe = frame.copy()`\n",
      "  duplicates_frame[\"Key\"] = frame_data['Standardized Full Name'] + frame_data['Standardized Phone Number']\n"
     ]
    }
   ],
   "source": [
    "phone, no_duplicates_frame = find_duplicate_contacts_by_name_and_phone(df,\n",
    "                                                                       frame_full_name_column_name = full_name_column,\n",
    "                                                                       frame_phone_column_name = frame_phone_column_name)"
   ]
  },
  {
   "cell_type": "code",
   "execution_count": 17,
   "id": "3ea463cc-10ab-4189-8247-4c3b6aae9efe",
   "metadata": {
    "tags": []
   },
   "outputs": [
    {
     "data": {
      "text/plain": [
       "113"
      ]
     },
     "execution_count": 17,
     "metadata": {},
     "output_type": "execute_result"
    }
   ],
   "source": [
    "len(phone)"
   ]
  },
  {
   "cell_type": "code",
   "execution_count": 18,
   "id": "55753d2f-cd7e-496e-9fbc-fbafaf3daaf5",
   "metadata": {
    "tags": []
   },
   "outputs": [
    {
     "data": {
      "text/html": [
       "<div>\n",
       "<style scoped>\n",
       "    .dataframe tbody tr th:only-of-type {\n",
       "        vertical-align: middle;\n",
       "    }\n",
       "\n",
       "    .dataframe tbody tr th {\n",
       "        vertical-align: top;\n",
       "    }\n",
       "\n",
       "    .dataframe thead th {\n",
       "        text-align: right;\n",
       "    }\n",
       "</style>\n",
       "<table border=\"1\" class=\"dataframe\">\n",
       "  <thead>\n",
       "    <tr style=\"text-align: right;\">\n",
       "      <th></th>\n",
       "      <th>Record ID</th>\n",
       "      <th>First Name</th>\n",
       "      <th>Last Name</th>\n",
       "      <th>Annual Revenue</th>\n",
       "      <th>Attack</th>\n",
       "      <th>Average Pageviews</th>\n",
       "      <th>Buying Role</th>\n",
       "      <th>Campaign of last booking in meetings tool</th>\n",
       "      <th>Checkbox</th>\n",
       "      <th>City</th>\n",
       "      <th>...</th>\n",
       "      <th>Unsubscribed from all email</th>\n",
       "      <th>Updated by user ID</th>\n",
       "      <th>Website URL</th>\n",
       "      <th>WhatsApp Phone Number</th>\n",
       "      <th>Work email</th>\n",
       "      <th>Additional email addresses</th>\n",
       "      <th>Full Name</th>\n",
       "      <th>Standardized Full Name</th>\n",
       "      <th>Standardized Phone Number</th>\n",
       "      <th>Key</th>\n",
       "    </tr>\n",
       "  </thead>\n",
       "  <tbody>\n",
       "    <tr>\n",
       "      <th>2459</th>\n",
       "      <td>132924337805</td>\n",
       "      <td>Tyson</td>\n",
       "      <td>Newman</td>\n",
       "      <td></td>\n",
       "      <td></td>\n",
       "      <td>0.0</td>\n",
       "      <td></td>\n",
       "      <td></td>\n",
       "      <td>Yes</td>\n",
       "      <td></td>\n",
       "      <td>...</td>\n",
       "      <td></td>\n",
       "      <td>Andres Eduardo Garcia Bayona</td>\n",
       "      <td></td>\n",
       "      <td></td>\n",
       "      <td></td>\n",
       "      <td></td>\n",
       "      <td>Tyson Newman</td>\n",
       "      <td>tysonnewman</td>\n",
       "      <td>6835027381</td>\n",
       "      <td>tysonnewman6835027381</td>\n",
       "    </tr>\n",
       "    <tr>\n",
       "      <th>317</th>\n",
       "      <td>132924473401</td>\n",
       "      <td>Tyson</td>\n",
       "      <td>Newman</td>\n",
       "      <td></td>\n",
       "      <td></td>\n",
       "      <td>0.0</td>\n",
       "      <td></td>\n",
       "      <td></td>\n",
       "      <td>Yes</td>\n",
       "      <td></td>\n",
       "      <td>...</td>\n",
       "      <td></td>\n",
       "      <td>Andres Eduardo Garcia Bayona</td>\n",
       "      <td></td>\n",
       "      <td></td>\n",
       "      <td></td>\n",
       "      <td></td>\n",
       "      <td>Tyson Newman</td>\n",
       "      <td>tysonnewman</td>\n",
       "      <td>6835027381</td>\n",
       "      <td>tysonnewman6835027381</td>\n",
       "    </tr>\n",
       "    <tr>\n",
       "      <th>6607</th>\n",
       "      <td>132915056185</td>\n",
       "      <td>Tyson</td>\n",
       "      <td>Newman</td>\n",
       "      <td></td>\n",
       "      <td></td>\n",
       "      <td>0.0</td>\n",
       "      <td></td>\n",
       "      <td></td>\n",
       "      <td>Yes</td>\n",
       "      <td></td>\n",
       "      <td>...</td>\n",
       "      <td></td>\n",
       "      <td>Andres Eduardo Garcia Bayona</td>\n",
       "      <td></td>\n",
       "      <td></td>\n",
       "      <td></td>\n",
       "      <td></td>\n",
       "      <td>Tyson Newman</td>\n",
       "      <td>tysonnewman</td>\n",
       "      <td>6835027381</td>\n",
       "      <td>tysonnewman6835027381</td>\n",
       "    </tr>\n",
       "    <tr>\n",
       "      <th>561</th>\n",
       "      <td>132916656022</td>\n",
       "      <td>Sebastian</td>\n",
       "      <td>Parker</td>\n",
       "      <td></td>\n",
       "      <td></td>\n",
       "      <td>0.0</td>\n",
       "      <td></td>\n",
       "      <td></td>\n",
       "      <td>Yes</td>\n",
       "      <td></td>\n",
       "      <td>...</td>\n",
       "      <td></td>\n",
       "      <td>Andres Eduardo Garcia Bayona</td>\n",
       "      <td></td>\n",
       "      <td></td>\n",
       "      <td></td>\n",
       "      <td></td>\n",
       "      <td>Sebastian Parker</td>\n",
       "      <td>sebastianparker</td>\n",
       "      <td>5517227040</td>\n",
       "      <td>sebastianparker5517227040</td>\n",
       "    </tr>\n",
       "    <tr>\n",
       "      <th>286</th>\n",
       "      <td>132911795531</td>\n",
       "      <td>Sebastian</td>\n",
       "      <td>Parker</td>\n",
       "      <td></td>\n",
       "      <td></td>\n",
       "      <td>0.0</td>\n",
       "      <td></td>\n",
       "      <td></td>\n",
       "      <td>Yes</td>\n",
       "      <td></td>\n",
       "      <td>...</td>\n",
       "      <td></td>\n",
       "      <td>Andres Eduardo Garcia Bayona</td>\n",
       "      <td></td>\n",
       "      <td></td>\n",
       "      <td></td>\n",
       "      <td></td>\n",
       "      <td>Sebastian Parker</td>\n",
       "      <td>sebastianparker</td>\n",
       "      <td>5517227040</td>\n",
       "      <td>sebastianparker5517227040</td>\n",
       "    </tr>\n",
       "    <tr>\n",
       "      <th>...</th>\n",
       "      <td>...</td>\n",
       "      <td>...</td>\n",
       "      <td>...</td>\n",
       "      <td>...</td>\n",
       "      <td>...</td>\n",
       "      <td>...</td>\n",
       "      <td>...</td>\n",
       "      <td>...</td>\n",
       "      <td>...</td>\n",
       "      <td>...</td>\n",
       "      <td>...</td>\n",
       "      <td>...</td>\n",
       "      <td>...</td>\n",
       "      <td>...</td>\n",
       "      <td>...</td>\n",
       "      <td>...</td>\n",
       "      <td>...</td>\n",
       "      <td>...</td>\n",
       "      <td>...</td>\n",
       "      <td>...</td>\n",
       "      <td>...</td>\n",
       "    </tr>\n",
       "    <tr>\n",
       "      <th>6620</th>\n",
       "      <td>132911703138</td>\n",
       "      <td>Anthony</td>\n",
       "      <td>Sinclair</td>\n",
       "      <td></td>\n",
       "      <td></td>\n",
       "      <td>0.0</td>\n",
       "      <td></td>\n",
       "      <td></td>\n",
       "      <td>Yes</td>\n",
       "      <td></td>\n",
       "      <td>...</td>\n",
       "      <td></td>\n",
       "      <td>Andres Eduardo Garcia Bayona</td>\n",
       "      <td></td>\n",
       "      <td></td>\n",
       "      <td></td>\n",
       "      <td></td>\n",
       "      <td>Anthony Sinclair</td>\n",
       "      <td>anthonysinclair</td>\n",
       "      <td>3505033457</td>\n",
       "      <td>anthonysinclair3505033457</td>\n",
       "    </tr>\n",
       "    <tr>\n",
       "      <th>6766</th>\n",
       "      <td>132915666010</td>\n",
       "      <td>Anthony</td>\n",
       "      <td>Sinclair</td>\n",
       "      <td></td>\n",
       "      <td></td>\n",
       "      <td>0.0</td>\n",
       "      <td></td>\n",
       "      <td></td>\n",
       "      <td>Yes</td>\n",
       "      <td></td>\n",
       "      <td>...</td>\n",
       "      <td></td>\n",
       "      <td>Andres Eduardo Garcia Bayona</td>\n",
       "      <td></td>\n",
       "      <td></td>\n",
       "      <td></td>\n",
       "      <td></td>\n",
       "      <td>Anthony Sinclair</td>\n",
       "      <td>anthonysinclair</td>\n",
       "      <td>3505033457</td>\n",
       "      <td>anthonysinclair3505033457</td>\n",
       "    </tr>\n",
       "    <tr>\n",
       "      <th>9</th>\n",
       "      <td>132922326685</td>\n",
       "      <td>Anthony</td>\n",
       "      <td>Sinclair</td>\n",
       "      <td></td>\n",
       "      <td></td>\n",
       "      <td>0.0</td>\n",
       "      <td></td>\n",
       "      <td></td>\n",
       "      <td>Yes</td>\n",
       "      <td></td>\n",
       "      <td>...</td>\n",
       "      <td></td>\n",
       "      <td>Andres Eduardo Garcia Bayona</td>\n",
       "      <td></td>\n",
       "      <td></td>\n",
       "      <td></td>\n",
       "      <td></td>\n",
       "      <td>Anthony Sinclair</td>\n",
       "      <td>anthonysinclair</td>\n",
       "      <td>3505033457</td>\n",
       "      <td>anthonysinclair3505033457</td>\n",
       "    </tr>\n",
       "    <tr>\n",
       "      <th>823</th>\n",
       "      <td>132911299715</td>\n",
       "      <td>Alan</td>\n",
       "      <td>Warner</td>\n",
       "      <td></td>\n",
       "      <td></td>\n",
       "      <td>0.0</td>\n",
       "      <td></td>\n",
       "      <td></td>\n",
       "      <td>Yes</td>\n",
       "      <td></td>\n",
       "      <td>...</td>\n",
       "      <td></td>\n",
       "      <td>Andres Eduardo Garcia Bayona</td>\n",
       "      <td></td>\n",
       "      <td></td>\n",
       "      <td></td>\n",
       "      <td></td>\n",
       "      <td>Alan Warner</td>\n",
       "      <td>alanwarner</td>\n",
       "      <td>7260282170</td>\n",
       "      <td>alanwarner7260282170</td>\n",
       "    </tr>\n",
       "    <tr>\n",
       "      <th>524</th>\n",
       "      <td>132910823976</td>\n",
       "      <td>Alan</td>\n",
       "      <td>Warner</td>\n",
       "      <td></td>\n",
       "      <td></td>\n",
       "      <td>0.0</td>\n",
       "      <td></td>\n",
       "      <td></td>\n",
       "      <td>Yes</td>\n",
       "      <td></td>\n",
       "      <td>...</td>\n",
       "      <td></td>\n",
       "      <td>Andres Eduardo Garcia Bayona</td>\n",
       "      <td></td>\n",
       "      <td></td>\n",
       "      <td></td>\n",
       "      <td></td>\n",
       "      <td>Alan Warner</td>\n",
       "      <td>alanwarner</td>\n",
       "      <td>7260282170</td>\n",
       "      <td>alanwarner7260282170</td>\n",
       "    </tr>\n",
       "  </tbody>\n",
       "</table>\n",
       "<p>113 rows × 257 columns</p>\n",
       "</div>"
      ],
      "text/plain": [
       "         Record ID First Name Last Name Annual Revenue Attack  \\\n",
       "2459  132924337805      Tyson    Newman                         \n",
       "317   132924473401      Tyson    Newman                         \n",
       "6607  132915056185      Tyson    Newman                         \n",
       "561   132916656022  Sebastian    Parker                         \n",
       "286   132911795531  Sebastian    Parker                         \n",
       "...            ...        ...       ...            ...    ...   \n",
       "6620  132911703138    Anthony  Sinclair                         \n",
       "6766  132915666010    Anthony  Sinclair                         \n",
       "9     132922326685    Anthony  Sinclair                         \n",
       "823   132911299715       Alan    Warner                         \n",
       "524   132910823976       Alan    Warner                         \n",
       "\n",
       "     Average Pageviews Buying Role Campaign of last booking in meetings tool  \\\n",
       "2459               0.0                                                         \n",
       "317                0.0                                                         \n",
       "6607               0.0                                                         \n",
       "561                0.0                                                         \n",
       "286                0.0                                                         \n",
       "...                ...         ...                                       ...   \n",
       "6620               0.0                                                         \n",
       "6766               0.0                                                         \n",
       "9                  0.0                                                         \n",
       "823                0.0                                                         \n",
       "524                0.0                                                         \n",
       "\n",
       "     Checkbox City  ... Unsubscribed from all email  \\\n",
       "2459      Yes       ...                               \n",
       "317       Yes       ...                               \n",
       "6607      Yes       ...                               \n",
       "561       Yes       ...                               \n",
       "286       Yes       ...                               \n",
       "...       ...  ...  ...                         ...   \n",
       "6620      Yes       ...                               \n",
       "6766      Yes       ...                               \n",
       "9         Yes       ...                               \n",
       "823       Yes       ...                               \n",
       "524       Yes       ...                               \n",
       "\n",
       "                Updated by user ID Website URL WhatsApp Phone Number  \\\n",
       "2459  Andres Eduardo Garcia Bayona                                     \n",
       "317   Andres Eduardo Garcia Bayona                                     \n",
       "6607  Andres Eduardo Garcia Bayona                                     \n",
       "561   Andres Eduardo Garcia Bayona                                     \n",
       "286   Andres Eduardo Garcia Bayona                                     \n",
       "...                            ...         ...                   ...   \n",
       "6620  Andres Eduardo Garcia Bayona                                     \n",
       "6766  Andres Eduardo Garcia Bayona                                     \n",
       "9     Andres Eduardo Garcia Bayona                                     \n",
       "823   Andres Eduardo Garcia Bayona                                     \n",
       "524   Andres Eduardo Garcia Bayona                                     \n",
       "\n",
       "     Work email Additional email addresses         Full Name  \\\n",
       "2459                                            Tyson Newman   \n",
       "317                                             Tyson Newman   \n",
       "6607                                            Tyson Newman   \n",
       "561                                         Sebastian Parker   \n",
       "286                                         Sebastian Parker   \n",
       "...         ...                        ...               ...   \n",
       "6620                                        Anthony Sinclair   \n",
       "6766                                        Anthony Sinclair   \n",
       "9                                           Anthony Sinclair   \n",
       "823                                              Alan Warner   \n",
       "524                                              Alan Warner   \n",
       "\n",
       "     Standardized Full Name Standardized Phone Number  \\\n",
       "2459            tysonnewman                6835027381   \n",
       "317             tysonnewman                6835027381   \n",
       "6607            tysonnewman                6835027381   \n",
       "561         sebastianparker                5517227040   \n",
       "286         sebastianparker                5517227040   \n",
       "...                     ...                       ...   \n",
       "6620        anthonysinclair                3505033457   \n",
       "6766        anthonysinclair                3505033457   \n",
       "9           anthonysinclair                3505033457   \n",
       "823              alanwarner                7260282170   \n",
       "524              alanwarner                7260282170   \n",
       "\n",
       "                            Key  \n",
       "2459      tysonnewman6835027381  \n",
       "317       tysonnewman6835027381  \n",
       "6607      tysonnewman6835027381  \n",
       "561   sebastianparker5517227040  \n",
       "286   sebastianparker5517227040  \n",
       "...                         ...  \n",
       "6620  anthonysinclair3505033457  \n",
       "6766  anthonysinclair3505033457  \n",
       "9     anthonysinclair3505033457  \n",
       "823        alanwarner7260282170  \n",
       "524        alanwarner7260282170  \n",
       "\n",
       "[113 rows x 257 columns]"
      ]
     },
     "execution_count": 18,
     "metadata": {},
     "output_type": "execute_result"
    }
   ],
   "source": [
    "phone"
   ]
  },
  {
   "cell_type": "markdown",
   "id": "cc04e989-92dd-4dab-9a8a-6c1a9d9566b5",
   "metadata": {},
   "source": [
    "# Add HubSpot Records View and Save Duplicates Frame"
   ]
  },
  {
   "cell_type": "code",
   "execution_count": 19,
   "id": "1451e042-580e-47e1-8c86-d5ba0ea02376",
   "metadata": {
    "tags": []
   },
   "outputs": [],
   "source": [
    "def link_to_view_record(record_id):\n",
    "    \n",
    "    account_id = os.getenv('account_id') ## Change this according your account\n",
    "    record_id = str(int(record_id))\n",
    "    \n",
    "    record_view = 'https://app.hubspot.com/contacts/{}/record/0-1/{}'.format(account_id, record_id)\n",
    "    \n",
    "    return record_view"
   ]
  },
  {
   "cell_type": "code",
   "execution_count": 20,
   "id": "716d2944-6ad4-4b32-9435-d547688a409e",
   "metadata": {
    "tags": []
   },
   "outputs": [],
   "source": [
    "add_hubspot_records_view = os.getenv('add_hubspot_records_view')"
   ]
  },
  {
   "cell_type": "code",
   "execution_count": 21,
   "id": "07b5a375-b121-4dd3-98ae-9601d5a5e5fb",
   "metadata": {
    "tags": []
   },
   "outputs": [],
   "source": [
    "names = [street_address_column_name,frame_phone_column_name]"
   ]
  },
  {
   "cell_type": "code",
   "execution_count": 22,
   "id": "cf183506-030e-4979-911b-b8798bfe240a",
   "metadata": {
    "tags": []
   },
   "outputs": [
    {
     "name": "stdout",
     "output_type": "stream",
     "text": [
      "0 Duplicated Records Found\n",
      "113 Duplicated Records Found\n"
     ]
    },
    {
     "name": "stderr",
     "output_type": "stream",
     "text": [
      "C:\\Users\\Andres Garcia Bayona\\AppData\\Local\\Temp\\ipykernel_10044\\2840681676.py:3: PerformanceWarning: DataFrame is highly fragmented.  This is usually the result of calling `frame.insert` many times, which has poor performance.  Consider joining all columns at once using pd.concat(axis=1) instead. To get a de-fragmented frame, use `newframe = frame.copy()`\n",
      "  dataframe['Record View'] = dataframe['Record ID'].apply(link_to_view_record)\n"
     ]
    }
   ],
   "source": [
    "for dataframe, name in zip([street, phone],names):\n",
    "    if add_hubspot_records_view == 'Yes':\n",
    "        dataframe['Record View'] = dataframe['Record ID'].apply(link_to_view_record)\n",
    "    else:\n",
    "        pass\n",
    "\n",
    "    dataframe[['Record ID', 'First Name', 'Last Name', 'Email',\n",
    "                                         frame_phone_column_name, street_address_column_name, \n",
    "                                         'Record View', 'Key']].to_excel(file_path+r'\\Duplicate Contact Records Found by {}.xlsx'.format(name))\n",
    "\n",
    "    print(len(dataframe), 'Duplicated Records Found')"
   ]
  },
  {
   "cell_type": "markdown",
   "id": "6a13e033-8155-4c60-ba7c-14ad8089d2d2",
   "metadata": {
    "jp-MarkdownHeadingCollapsed": true,
    "tags": []
   },
   "source": [
    "# If few duplicates are found with the previous methods, ask the strategies if the following strategies sound good"
   ]
  },
  {
   "cell_type": "markdown",
   "id": "450cfb65-7e75-47af-b307-accdaea38cc6",
   "metadata": {},
   "source": [
    "### Email domain (Same name and same email domain, mostly for same companies, but might mark as duplicates people with the same name within the same company)"
   ]
  },
  {
   "cell_type": "code",
   "execution_count": 23,
   "id": "2c103a0d-2eb6-4440-a862-4c04419f5c19",
   "metadata": {
    "tags": []
   },
   "outputs": [],
   "source": [
    "excluded_domains = ['gmail.com','yahoo.com','aol.com','hotmail.com','icloud.com','comcast.net','msn.com','outlook.com']"
   ]
  },
  {
   "cell_type": "code",
   "execution_count": 24,
   "id": "71d9b3e2-61c1-458f-aa4d-1f702e0d84d2",
   "metadata": {
    "tags": []
   },
   "outputs": [
    {
     "name": "stderr",
     "output_type": "stream",
     "text": [
      "C:\\Users\\Andres Garcia Bayona\\AppData\\Local\\Temp\\ipykernel_10044\\649866337.py:1: PerformanceWarning: DataFrame is highly fragmented.  This is usually the result of calling `frame.insert` many times, which has poor performance.  Consider joining all columns at once using pd.concat(axis=1) instead. To get a de-fragmented frame, use `newframe = frame.copy()`\n",
      "  df['Email domain key'] = df['Standardized Full Name']+df['Email Domain']\n"
     ]
    }
   ],
   "source": [
    "df['Email domain key'] = df['Standardized Full Name']+df['Email Domain']"
   ]
  },
  {
   "cell_type": "code",
   "execution_count": 25,
   "id": "baeb18ef-a3d9-41f4-8eb9-115cf2f885de",
   "metadata": {
    "tags": []
   },
   "outputs": [],
   "source": [
    "df[df.duplicated(subset=['Email Domain','Email domain key'],keep=False)&(df['Standardized Full Name']!='')&(~df['Email Domain'].isin(excluded_domains))&(df['Email Domain']!='')][['Record ID', 'First Name', 'Last Name',frame_phone_column_name, 'Email', street_address_column_name,'Email domain key']].sort_values('Email domain key').to_excel(file_path+'\\\\Duplicate contacts by name and email domain.xlsx',index=False)"
   ]
  },
  {
   "cell_type": "markdown",
   "id": "ea61ad08-cf21-4a93-91fa-aa25c67d6a3e",
   "metadata": {
    "jp-MarkdownHeadingCollapsed": true,
    "tags": []
   },
   "source": [
    "# Without info (This is useful when there's a lot of contacts without information)"
   ]
  },
  {
   "cell_type": "markdown",
   "id": "56a749a2-ab36-41e7-b0f2-37e31ac2726f",
   "metadata": {},
   "source": [
    "### This generates a dataframe whose name is duplicated but have information, at least one of email, street address or phone number"
   ]
  },
  {
   "cell_type": "code",
   "execution_count": 26,
   "id": "54a982fb-fc95-4bdd-96eb-b641a950c628",
   "metadata": {
    "tags": []
   },
   "outputs": [],
   "source": [
    "with_info = df[(df.duplicated(subset='Standardized Full Name',keep=False))&(df['Standardized Full Name']!='')&((df['Email']!='')|(df['Street Address']!='')|(df['Phone Number']!=''))]"
   ]
  },
  {
   "cell_type": "markdown",
   "id": "4c9bcfae-f6d9-4973-9382-a0f20522bd62",
   "metadata": {},
   "source": [
    "### This generates a dataframe that don't have information but that could be merged into a contact with information"
   ]
  },
  {
   "cell_type": "code",
   "execution_count": 27,
   "id": "0cec31a2-89df-432a-929c-97f31bb55d1d",
   "metadata": {
    "tags": []
   },
   "outputs": [],
   "source": [
    "no_info = df[(df['Email']!='')&(df.duplicated(subset='Standardized Full Name',keep=False))&(df['Street Address']=='')&(df['Phone Number']=='')&((df['Standardized Full Name'].isin(with_info['Standardized Full Name'])))]"
   ]
  },
  {
   "cell_type": "code",
   "execution_count": 28,
   "id": "b3166076-d6ba-4fc1-8c71-84781aa835d0",
   "metadata": {
    "tags": []
   },
   "outputs": [
    {
     "data": {
      "text/html": [
       "<div>\n",
       "<style scoped>\n",
       "    .dataframe tbody tr th:only-of-type {\n",
       "        vertical-align: middle;\n",
       "    }\n",
       "\n",
       "    .dataframe tbody tr th {\n",
       "        vertical-align: top;\n",
       "    }\n",
       "\n",
       "    .dataframe thead th {\n",
       "        text-align: right;\n",
       "    }\n",
       "</style>\n",
       "<table border=\"1\" class=\"dataframe\">\n",
       "  <thead>\n",
       "    <tr style=\"text-align: right;\">\n",
       "      <th></th>\n",
       "      <th>Record ID</th>\n",
       "      <th>First Name</th>\n",
       "      <th>Last Name</th>\n",
       "      <th>Email</th>\n",
       "      <th>Phone Number</th>\n",
       "      <th>Email</th>\n",
       "      <th>Street Address</th>\n",
       "      <th>Standardized Full Name</th>\n",
       "    </tr>\n",
       "  </thead>\n",
       "  <tbody>\n",
       "  </tbody>\n",
       "</table>\n",
       "</div>"
      ],
      "text/plain": [
       "Empty DataFrame\n",
       "Columns: [Record ID, First Name, Last Name, Email, Phone Number, Email, Street Address, Standardized Full Name]\n",
       "Index: []"
      ]
     },
     "execution_count": 28,
     "metadata": {},
     "output_type": "execute_result"
    }
   ],
   "source": [
    "no_info[['Record ID', 'First Name', 'Last Name', 'Email',\n",
    "                                         frame_phone_column_name, 'Email', street_address_column_name, \n",
    "                                         'Standardized Full Name']]#.to_excel(file_path+'\\\\'+'Contacts duplicated by name with but no phone or address.xlsx',index=False)"
   ]
  },
  {
   "cell_type": "code",
   "execution_count": 29,
   "id": "be967bdf-7826-4976-ad96-38056b510208",
   "metadata": {
    "tags": []
   },
   "outputs": [
    {
     "data": {
      "text/html": [
       "<div>\n",
       "<style scoped>\n",
       "    .dataframe tbody tr th:only-of-type {\n",
       "        vertical-align: middle;\n",
       "    }\n",
       "\n",
       "    .dataframe tbody tr th {\n",
       "        vertical-align: top;\n",
       "    }\n",
       "\n",
       "    .dataframe thead th {\n",
       "        text-align: right;\n",
       "    }\n",
       "</style>\n",
       "<table border=\"1\" class=\"dataframe\">\n",
       "  <thead>\n",
       "    <tr style=\"text-align: right;\">\n",
       "      <th></th>\n",
       "      <th>Record ID</th>\n",
       "      <th>First Name</th>\n",
       "      <th>Last Name</th>\n",
       "      <th>Email</th>\n",
       "      <th>Phone Number</th>\n",
       "      <th>Email</th>\n",
       "      <th>Street Address</th>\n",
       "      <th>Standardized Full Name</th>\n",
       "    </tr>\n",
       "  </thead>\n",
       "  <tbody>\n",
       "    <tr>\n",
       "      <th>0</th>\n",
       "      <td>132923444151</td>\n",
       "      <td>Brad</td>\n",
       "      <td>Turner</td>\n",
       "      <td>brad_turner714061428+101@bretoux.com</td>\n",
       "      <td>+(44)7012 324125</td>\n",
       "      <td>brad_turner714061428+101@bretoux.com</td>\n",
       "      <td>Dyott   Alley, 6300</td>\n",
       "      <td>bradturner</td>\n",
       "    </tr>\n",
       "    <tr>\n",
       "      <th>1</th>\n",
       "      <td>132898965405</td>\n",
       "      <td>Leroy</td>\n",
       "      <td>Dwyer</td>\n",
       "      <td>leroy_dwyer505528803@brety.org</td>\n",
       "      <td>+(353)2004 788350</td>\n",
       "      <td>leroy_dwyer505528803@brety.org</td>\n",
       "      <td>Cavell   Street, 7744</td>\n",
       "      <td>leroydwyer</td>\n",
       "    </tr>\n",
       "    <tr>\n",
       "      <th>2</th>\n",
       "      <td>132916082279</td>\n",
       "      <td>Rufus</td>\n",
       "      <td>Reynolds</td>\n",
       "      <td>rufus_reynolds134700300@acrit.org</td>\n",
       "      <td>+(353)5163 616587</td>\n",
       "      <td>rufus_reynolds134700300@acrit.org</td>\n",
       "      <td>Arlington  Walk, 6399</td>\n",
       "      <td>rufusreynolds</td>\n",
       "    </tr>\n",
       "    <tr>\n",
       "      <th>3</th>\n",
       "      <td>132921966191</td>\n",
       "      <td>Daniel</td>\n",
       "      <td>Owen</td>\n",
       "      <td>daniel_owen1303681224+103@fuliss.net</td>\n",
       "      <td></td>\n",
       "      <td>daniel_owen1303681224+103@fuliss.net</td>\n",
       "      <td>Falconberg   Route, 2146</td>\n",
       "      <td>danielowen</td>\n",
       "    </tr>\n",
       "    <tr>\n",
       "      <th>4</th>\n",
       "      <td>132919956831</td>\n",
       "      <td>Tyler</td>\n",
       "      <td>Egerton</td>\n",
       "      <td>tyler_egerton1736440365@liret.org</td>\n",
       "      <td>+(44)2423 307165</td>\n",
       "      <td>tyler_egerton1736440365@liret.org</td>\n",
       "      <td>Bempton   Drive, 5080</td>\n",
       "      <td>tyleregerton</td>\n",
       "    </tr>\n",
       "    <tr>\n",
       "      <th>...</th>\n",
       "      <td>...</td>\n",
       "      <td>...</td>\n",
       "      <td>...</td>\n",
       "      <td>...</td>\n",
       "      <td>...</td>\n",
       "      <td>...</td>\n",
       "      <td>...</td>\n",
       "      <td>...</td>\n",
       "    </tr>\n",
       "    <tr>\n",
       "      <th>6927</th>\n",
       "      <td>132924205089</td>\n",
       "      <td>Bart</td>\n",
       "      <td>Marshall</td>\n",
       "      <td>bart_marshall1615503686@eirey.tech</td>\n",
       "      <td>+(44)2540 505636</td>\n",
       "      <td>bart_marshall1615503686@eirey.tech</td>\n",
       "      <td>Endsleigh  Road, 5909</td>\n",
       "      <td>bartmarshall</td>\n",
       "    </tr>\n",
       "    <tr>\n",
       "      <th>6930</th>\n",
       "      <td>132910908048</td>\n",
       "      <td>Abdul</td>\n",
       "      <td>Stewart</td>\n",
       "      <td>abdul_stewart945145331@deavo.com</td>\n",
       "      <td>+(353)3525 007726</td>\n",
       "      <td>abdul_stewart945145331@deavo.com</td>\n",
       "      <td>Cave   Hill, 7549</td>\n",
       "      <td>abdulstewart</td>\n",
       "    </tr>\n",
       "    <tr>\n",
       "      <th>6932</th>\n",
       "      <td>132923017634</td>\n",
       "      <td>Abdul</td>\n",
       "      <td>Graves</td>\n",
       "      <td>abdul_graves300779932@vetan.org</td>\n",
       "      <td>+(44)3234 436060</td>\n",
       "      <td>abdul_graves300779932@vetan.org</td>\n",
       "      <td>Fawn Crossroad, 1481</td>\n",
       "      <td>abdulgraves</td>\n",
       "    </tr>\n",
       "    <tr>\n",
       "      <th>6933</th>\n",
       "      <td>132914893622</td>\n",
       "      <td>Ada</td>\n",
       "      <td>Robinson</td>\n",
       "      <td>ada_robinson9305370@ubusive.com</td>\n",
       "      <td>+(353)5507 734616</td>\n",
       "      <td>ada_robinson9305370@ubusive.com</td>\n",
       "      <td>Camdale  Avenue, 5737</td>\n",
       "      <td>adarobinson</td>\n",
       "    </tr>\n",
       "    <tr>\n",
       "      <th>6935</th>\n",
       "      <td>132911173722</td>\n",
       "      <td>Rocco</td>\n",
       "      <td>Palmer</td>\n",
       "      <td></td>\n",
       "      <td>+(44)2813 405223</td>\n",
       "      <td></td>\n",
       "      <td>Sherwood  Vale, 7152</td>\n",
       "      <td>roccopalmer</td>\n",
       "    </tr>\n",
       "  </tbody>\n",
       "</table>\n",
       "<p>6189 rows × 8 columns</p>\n",
       "</div>"
      ],
      "text/plain": [
       "         Record ID First Name Last Name                                 Email  \\\n",
       "0     132923444151       Brad    Turner  brad_turner714061428+101@bretoux.com   \n",
       "1     132898965405      Leroy     Dwyer        leroy_dwyer505528803@brety.org   \n",
       "2     132916082279      Rufus  Reynolds     rufus_reynolds134700300@acrit.org   \n",
       "3     132921966191     Daniel      Owen  daniel_owen1303681224+103@fuliss.net   \n",
       "4     132919956831      Tyler   Egerton     tyler_egerton1736440365@liret.org   \n",
       "...            ...        ...       ...                                   ...   \n",
       "6927  132924205089       Bart  Marshall    bart_marshall1615503686@eirey.tech   \n",
       "6930  132910908048      Abdul   Stewart      abdul_stewart945145331@deavo.com   \n",
       "6932  132923017634      Abdul    Graves       abdul_graves300779932@vetan.org   \n",
       "6933  132914893622        Ada  Robinson       ada_robinson9305370@ubusive.com   \n",
       "6935  132911173722      Rocco    Palmer                                         \n",
       "\n",
       "            Phone Number                                 Email  \\\n",
       "0       +(44)7012 324125  brad_turner714061428+101@bretoux.com   \n",
       "1      +(353)2004 788350        leroy_dwyer505528803@brety.org   \n",
       "2      +(353)5163 616587     rufus_reynolds134700300@acrit.org   \n",
       "3                         daniel_owen1303681224+103@fuliss.net   \n",
       "4       +(44)2423 307165     tyler_egerton1736440365@liret.org   \n",
       "...                  ...                                   ...   \n",
       "6927    +(44)2540 505636    bart_marshall1615503686@eirey.tech   \n",
       "6930   +(353)3525 007726      abdul_stewart945145331@deavo.com   \n",
       "6932    +(44)3234 436060       abdul_graves300779932@vetan.org   \n",
       "6933   +(353)5507 734616       ada_robinson9305370@ubusive.com   \n",
       "6935    +(44)2813 405223                                         \n",
       "\n",
       "                Street Address Standardized Full Name  \n",
       "0          Dyott   Alley, 6300             bradturner  \n",
       "1        Cavell   Street, 7744             leroydwyer  \n",
       "2        Arlington  Walk, 6399          rufusreynolds  \n",
       "3     Falconberg   Route, 2146             danielowen  \n",
       "4        Bempton   Drive, 5080           tyleregerton  \n",
       "...                        ...                    ...  \n",
       "6927     Endsleigh  Road, 5909           bartmarshall  \n",
       "6930         Cave   Hill, 7549           abdulstewart  \n",
       "6932      Fawn Crossroad, 1481            abdulgraves  \n",
       "6933     Camdale  Avenue, 5737            adarobinson  \n",
       "6935      Sherwood  Vale, 7152            roccopalmer  \n",
       "\n",
       "[6189 rows x 8 columns]"
      ]
     },
     "execution_count": 29,
     "metadata": {},
     "output_type": "execute_result"
    }
   ],
   "source": [
    "with_info[['Record ID', 'First Name', 'Last Name', 'Email',\n",
    "                                         frame_phone_column_name, 'Email', street_address_column_name, \n",
    "                                         'Standardized Full Name']]#.to_excel(file_path+'\\\\'+'Contacts that could be main contacts for duplicates without information.xlsx',index=False)"
   ]
  },
  {
   "cell_type": "code",
   "execution_count": 30,
   "id": "5da46c0d-547c-49cb-b688-98cb5e400c53",
   "metadata": {
    "tags": []
   },
   "outputs": [
    {
     "data": {
      "text/html": [
       "<div>\n",
       "<style scoped>\n",
       "    .dataframe tbody tr th:only-of-type {\n",
       "        vertical-align: middle;\n",
       "    }\n",
       "\n",
       "    .dataframe tbody tr th {\n",
       "        vertical-align: top;\n",
       "    }\n",
       "\n",
       "    .dataframe thead th {\n",
       "        text-align: right;\n",
       "    }\n",
       "</style>\n",
       "<table border=\"1\" class=\"dataframe\">\n",
       "  <thead>\n",
       "    <tr style=\"text-align: right;\">\n",
       "      <th></th>\n",
       "      <th>Record ID</th>\n",
       "      <th>First Name</th>\n",
       "      <th>Last Name</th>\n",
       "      <th>Annual Revenue</th>\n",
       "      <th>Attack</th>\n",
       "      <th>Average Pageviews</th>\n",
       "      <th>Buying Role</th>\n",
       "      <th>Campaign of last booking in meetings tool</th>\n",
       "      <th>Checkbox</th>\n",
       "      <th>City</th>\n",
       "      <th>...</th>\n",
       "      <th>Types</th>\n",
       "      <th>Unsubscribed from all email</th>\n",
       "      <th>Updated by user ID</th>\n",
       "      <th>Website URL</th>\n",
       "      <th>WhatsApp Phone Number</th>\n",
       "      <th>Work email</th>\n",
       "      <th>Additional email addresses</th>\n",
       "      <th>Full Name</th>\n",
       "      <th>Standardized Full Name</th>\n",
       "      <th>Email domain key</th>\n",
       "    </tr>\n",
       "  </thead>\n",
       "  <tbody>\n",
       "  </tbody>\n",
       "</table>\n",
       "<p>0 rows × 256 columns</p>\n",
       "</div>"
      ],
      "text/plain": [
       "Empty DataFrame\n",
       "Columns: [Record ID, First Name, Last Name, Annual Revenue, Attack, Average Pageviews, Buying Role, Campaign of last booking in meetings tool, Checkbox, City, city_found, Close Date, Company Name, Company size, Contact owner, Contact priority, Contact unworked, country_found, Country/Region, Country/Region Code, Create Date, Created by user ID, Cumulative time in \"Customer (Lifecycle Stage Pipeline)\" (HH:mm:ss), Cumulative time in \"Evangelist (Lifecycle Stage Pipeline)\" (HH:mm:ss), Cumulative time in \"Lead (Lifecycle Stage Pipeline)\" (HH:mm:ss), Cumulative time in \"Marketing Qualified Lead (Lifecycle Stage Pipeline)\" (HH:mm:ss), Cumulative time in \"Opportunity (Lifecycle Stage Pipeline)\" (HH:mm:ss), Cumulative time in \"Other (Lifecycle Stage Pipeline)\" (HH:mm:ss), Cumulative time in \"Sales Qualified Lead (Lifecycle Stage Pipeline)\" (HH:mm:ss), Cumulative time in \"Subscriber (Lifecycle Stage Pipeline)\" (HH:mm:ss), Currently in Sequence, Date entered \"Customer (Lifecycle Stage Pipeline)\", Date entered \"Evangelist (Lifecycle Stage Pipeline)\", Date entered \"Lead (Lifecycle Stage Pipeline)\", Date entered \"Marketing Qualified Lead (Lifecycle Stage Pipeline)\", Date entered \"Opportunity (Lifecycle Stage Pipeline)\", Date entered \"Other (Lifecycle Stage Pipeline)\", Date entered \"Sales Qualified Lead (Lifecycle Stage Pipeline)\", Date entered \"Subscriber (Lifecycle Stage Pipeline)\", Date exited \"Customer (Lifecycle Stage Pipeline)\", Date exited \"Evangelist (Lifecycle Stage Pipeline)\", Date exited \"Lead (Lifecycle Stage Pipeline)\", Date exited \"Marketing Qualified Lead (Lifecycle Stage Pipeline)\", Date exited \"Opportunity (Lifecycle Stage Pipeline)\", Date exited \"Other (Lifecycle Stage Pipeline)\", Date exited \"Sales Qualified Lead (Lifecycle Stage Pipeline)\", Date exited \"Subscriber (Lifecycle Stage Pipeline)\", Date of birth, Date of first engagement, Date of last meeting booked in meetings tool, Days To Close, Defense, Degree, Description of first engagement, Domain to which registration email was sent, Email, Email address automated quarantine reason, Email address quarantine reason, Email Address Quarantined, Email Confirmed, Email Domain, Email hard bounce reason, Employment Role, Employment Seniority, Employment Sub Role, Enriched Email Bounce Detected, Enrichment opt out, Enrichment opt out timestamp, Event Revenue, Extension, Facebook click id, Fax Number, Field of study, First Closed Order ID, First Conversion, First Conversion Date, First Deal Created Date, First marketing email click date, First marketing email open date, First marketing email reply date, First marketing email send date, First Order Closed Date, First Page Seen, First Referring Site, First Touch Converting Campaign, Gender, Google ad click id, Graduation date, Has been enriched, HP, HubSpot Score, HubSpot Team, ID of first engagement, Industry, Inferred Language Codes, Invalid email address, IP City, IP Country, IP Country Code, IP State Code/Region Code, ...]\n",
       "Index: []\n",
       "\n",
       "[0 rows x 256 columns]"
      ]
     },
     "execution_count": 30,
     "metadata": {},
     "output_type": "execute_result"
    }
   ],
   "source": [
    "df[(df['Email']=='')&(df['Street Address']=='')&(df['Phone Number']=='')]#.to_excel(file_path+'\\\\Contacts without street address, email or phone number.xlsx',index=False)"
   ]
  }
 ],
 "metadata": {
  "kernelspec": {
   "display_name": "Python 3",
   "language": "python",
   "name": "python3"
  },
  "language_info": {
   "codemirror_mode": {
    "name": "ipython",
    "version": 3
   },
   "file_extension": ".py",
   "mimetype": "text/x-python",
   "name": "python",
   "nbconvert_exporter": "python",
   "pygments_lexer": "ipython3",
   "version": "3.13.5"
  }
 },
 "nbformat": 4,
 "nbformat_minor": 5
}
