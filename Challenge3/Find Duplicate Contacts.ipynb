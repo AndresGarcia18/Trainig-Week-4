{
 "cells": [
  {
   "cell_type": "markdown",
   "id": "8575ffaa-090e-4803-bad8-0ef5b843eba3",
   "metadata": {
    "tags": []
   },
   "source": [
    "### Libraries"
   ]
  },
  {
   "cell_type": "code",
   "execution_count": 1,
   "id": "d3e0ef66-587f-447e-8bba-171f4ece9eda",
   "metadata": {
    "tags": []
   },
   "outputs": [],
   "source": [
    "import pandas as pd\n",
    "import numpy as np"
   ]
  },
  {
   "cell_type": "code",
   "execution_count": 2,
   "id": "9c3a1fa1-5765-43d6-aed9-f1c67330d9fc",
   "metadata": {
    "tags": []
   },
   "outputs": [],
   "source": [
    "import os\n",
    "\n",
    "os.environ[\"path\"] = r'C:\\Users\\Andres Garcia Bayona\\Documents\\Github\\PyDev-Operational-Library-For-Data-Engineers'\n",
    "\n",
    "os.environ[\"records_folder\"] = r'C:\\Users\\Andres Garcia Bayona\\Documents\\Training\\APIs, CRMs and notebook management\\Challenge3'\n",
    "os.environ[\"df_file_name\"] = 'all-contacts.csv'\n",
    "os.environ[\"account_id\"] = '50189227'\n",
    "os.environ[\"add_hubspot_records_view\"] = 'Yes'\n",
    "\n",
    "# It is not necessary to fill in all of the following fields\n",
    "os.environ[\"full_name_column_name\"] = 'Full Name'\n",
    "os.environ[\"phone_number_column_name\"] = 'Phone Number' # could be empty ''\n",
    "os.environ[\"mobile_phone_number_column_name\"] = 'Mobile Phone Number' # could be empty ''\n",
    "os.environ[\"street_address_column_name\"] = 'Street Address' # could be empty ''\n",
    "os.environ[\"list_of_columns\"] = ''#'Company Domain Name' # could be empty '' or several properties separed with a ; 'Company Domain;Phone Number'"
   ]
  },
  {
   "cell_type": "markdown",
   "id": "848986a4-c4f8-45ff-a5b5-62c3bbe9eeee",
   "metadata": {},
   "source": [
    "### Data Team Libraries"
   ]
  },
  {
   "cell_type": "code",
   "execution_count": 3,
   "id": "51d4ab65-6284-4226-951b-7d29e8c79d41",
   "metadata": {
    "tags": []
   },
   "outputs": [],
   "source": [
    "path = os.getenv('path')"
   ]
  },
  {
   "cell_type": "code",
   "execution_count": 4,
   "id": "8102d462-1cf7-4f39-887b-ee0d91c787cc",
   "metadata": {
    "tags": []
   },
   "outputs": [],
   "source": [
    "import sys\n",
    "sys.path.insert(0,path)\n",
    "\n",
    "from functions.manage_duplicates.find_duplicate_contacts_by_name_and_phone import find_duplicate_contacts_by_name_and_phone\n",
    "from functions.manage_duplicates.find_duplicate_contacts_by_specified_fields import find_duplicate_contacts_by_specified_fields\n",
    "from functions.data_transformations.delete_unnecessary_blank_spaces import delete_unnecessary_blank_spaces\n",
    "\n",
    "from functions.manage_duplicates.standardize_data.standardize_contacts_full_name import standardize_contacts_full_name"
   ]
  },
  {
   "cell_type": "markdown",
   "id": "701293b4-d1b7-4df2-aa50-d7e20d82b589",
   "metadata": {},
   "source": [
    "## Input Data Frame"
   ]
  },
  {
   "cell_type": "code",
   "execution_count": 5,
   "id": "4ff15764-4aaa-4e87-8d60-0892e8f3e2c1",
   "metadata": {
    "tags": []
   },
   "outputs": [],
   "source": [
    "file_path = os.getenv('records_folder')"
   ]
  },
  {
   "cell_type": "code",
   "execution_count": 6,
   "id": "f780cac5-b3a9-49fb-810a-61540a917e7b",
   "metadata": {
    "tags": []
   },
   "outputs": [],
   "source": [
    "df = pd.read_csv(file_path+'//'+os.getenv('df_file_name'), low_memory=False)"
   ]
  },
  {
   "cell_type": "markdown",
   "id": "2b982be4-a7ef-415e-ac7d-3681f7279e7e",
   "metadata": {},
   "source": [
    "#### Standarize empty spaces"
   ]
  },
  {
   "cell_type": "code",
   "execution_count": 7,
   "id": "235ac497-23d4-47bd-8694-ea41bcad386c",
   "metadata": {
    "tags": []
   },
   "outputs": [],
   "source": [
    "df = df.replace(np.nan, '')"
   ]
  },
  {
   "cell_type": "markdown",
   "id": "9e41c564-752f-4bc5-b07f-5da6ad3792e7",
   "metadata": {
    "tags": []
   },
   "source": [
    "### If Name is split in two fields"
   ]
  },
  {
   "cell_type": "code",
   "execution_count": 8,
   "id": "5eee2168-710e-4086-affb-434503e68dd4",
   "metadata": {
    "tags": []
   },
   "outputs": [],
   "source": [
    "full_name_column = os.getenv('full_name_column_name')"
   ]
  },
  {
   "cell_type": "code",
   "execution_count": 9,
   "id": "b05fe546-0838-4804-8b0d-ed1699fbc6ce",
   "metadata": {
    "tags": []
   },
   "outputs": [
    {
     "name": "stderr",
     "output_type": "stream",
     "text": [
      "C:\\Users\\Andres Garcia Bayona\\AppData\\Local\\Temp\\ipykernel_17756\\1354254860.py:1: PerformanceWarning: DataFrame is highly fragmented.  This is usually the result of calling `frame.insert` many times, which has poor performance.  Consider joining all columns at once using pd.concat(axis=1) instead. To get a de-fragmented frame, use `newframe = frame.copy()`\n",
      "  df[full_name_column] = df['First Name'] + ' ' + df['Last Name']\n"
     ]
    }
   ],
   "source": [
    "df[full_name_column] = df['First Name'] + ' ' + df['Last Name']\n",
    "\n",
    "df[full_name_column] = df[full_name_column].apply(delete_unnecessary_blank_spaces)"
   ]
  },
  {
   "cell_type": "code",
   "execution_count": 10,
   "id": "63271fa7-a177-4b64-a4dd-89a50e2a9174",
   "metadata": {
    "tags": []
   },
   "outputs": [
    {
     "name": "stderr",
     "output_type": "stream",
     "text": [
      "C:\\Users\\Andres Garcia Bayona\\AppData\\Local\\Temp\\ipykernel_17756\\1983766633.py:1: PerformanceWarning: DataFrame is highly fragmented.  This is usually the result of calling `frame.insert` many times, which has poor performance.  Consider joining all columns at once using pd.concat(axis=1) instead. To get a de-fragmented frame, use `newframe = frame.copy()`\n",
      "  df['Standardized Full Name'] = df['Full Name'].apply(standardize_contacts_full_name)\n"
     ]
    }
   ],
   "source": [
    "df['Standardized Full Name'] = df['Full Name'].apply(standardize_contacts_full_name)"
   ]
  },
  {
   "cell_type": "markdown",
   "id": "fc877178-6af0-43c1-9638-c5548c0a07c3",
   "metadata": {
    "tags": []
   },
   "source": [
    "## Run Find Duplicates Funcion"
   ]
  },
  {
   "cell_type": "code",
   "execution_count": 11,
   "id": "9c19c012-d702-48ab-b765-9a8dad67b815",
   "metadata": {
    "tags": []
   },
   "outputs": [],
   "source": [
    "frame_phone_column_name = os.getenv('phone_number_column_name')\n",
    "street_address_column_name = os.getenv('street_address_column_name')\n",
    "mobile_phone_number_column_name = os.getenv('mobile_phone_number_column_name')"
   ]
  },
  {
   "cell_type": "code",
   "execution_count": 12,
   "id": "535cc7fe-6eb6-46c6-b280-5920a0fa04aa",
   "metadata": {
    "tags": []
   },
   "outputs": [
    {
     "name": "stdout",
     "output_type": "stream",
     "text": [
      "[]\n"
     ]
    },
    {
     "name": "stderr",
     "output_type": "stream",
     "text": [
      "C:\\Users\\Andres Garcia Bayona\\Documents\\Github\\PyDev-Operational-Library-For-Data-Engineers\\functions\\manage_duplicates\\find_duplicate_contacts_by_specified_fields.py:100: PerformanceWarning: DataFrame is highly fragmented.  This is usually the result of calling `frame.insert` many times, which has poor performance.  Consider joining all columns at once using pd.concat(axis=1) instead. To get a de-fragmented frame, use `newframe = frame.copy()`\n",
      "  frame_data['Standardized Address'] = frame_data[street_address_column_name].apply(standarize_street_address)\n"
     ]
    }
   ],
   "source": [
    "street, no_duplicates_frame = find_duplicate_contacts_by_specified_fields(df,\n",
    "                                                                        full_name_field = full_name_column,\n",
    "                                                                        street_address_column_name = street_address_column_name)"
   ]
  },
  {
   "cell_type": "code",
   "execution_count": 13,
   "id": "5cc0aeb6-e206-4624-ada7-73b0fc9e3d75",
   "metadata": {
    "tags": []
   },
   "outputs": [
    {
     "data": {
      "text/plain": [
       "0"
      ]
     },
     "execution_count": 13,
     "metadata": {},
     "output_type": "execute_result"
    }
   ],
   "source": [
    "len(street)"
   ]
  },
  {
   "cell_type": "code",
   "execution_count": 14,
   "id": "78a09026-1abf-48ed-8102-c292dd6002dc",
   "metadata": {
    "tags": []
   },
   "outputs": [
    {
     "data": {
      "text/html": [
       "<div>\n",
       "<style scoped>\n",
       "    .dataframe tbody tr th:only-of-type {\n",
       "        vertical-align: middle;\n",
       "    }\n",
       "\n",
       "    .dataframe tbody tr th {\n",
       "        vertical-align: top;\n",
       "    }\n",
       "\n",
       "    .dataframe thead th {\n",
       "        text-align: right;\n",
       "    }\n",
       "</style>\n",
       "<table border=\"1\" class=\"dataframe\">\n",
       "  <thead>\n",
       "    <tr style=\"text-align: right;\">\n",
       "      <th></th>\n",
       "      <th>Record ID</th>\n",
       "      <th>First Name</th>\n",
       "      <th>Last Name</th>\n",
       "      <th>Annual Revenue</th>\n",
       "      <th>Attack</th>\n",
       "      <th>Average Pageviews</th>\n",
       "      <th>Buying Role</th>\n",
       "      <th>Campaign of last booking in meetings tool</th>\n",
       "      <th>Checkbox</th>\n",
       "      <th>City</th>\n",
       "      <th>...</th>\n",
       "      <th>Types</th>\n",
       "      <th>Unsubscribed from all email</th>\n",
       "      <th>Updated by user ID</th>\n",
       "      <th>Website URL</th>\n",
       "      <th>WhatsApp Phone Number</th>\n",
       "      <th>Work email</th>\n",
       "      <th>Full Name</th>\n",
       "      <th>Standardized Full Name</th>\n",
       "      <th>Standardized Address</th>\n",
       "      <th>Key</th>\n",
       "    </tr>\n",
       "  </thead>\n",
       "  <tbody>\n",
       "  </tbody>\n",
       "</table>\n",
       "<p>0 rows × 253 columns</p>\n",
       "</div>"
      ],
      "text/plain": [
       "Empty DataFrame\n",
       "Columns: [Record ID, First Name, Last Name, Annual Revenue, Attack, Average Pageviews, Buying Role, Campaign of last booking in meetings tool, Checkbox, City, Close Date, Company Name, Company size, Contact owner, Contact priority, Contact unworked, Country/Region, Country/Region Code, Create Date, Created by user ID, Cumulative time in \"Customer (Lifecycle Stage Pipeline)\" (HH:mm:ss), Cumulative time in \"Evangelist (Lifecycle Stage Pipeline)\" (HH:mm:ss), Cumulative time in \"Lead (Lifecycle Stage Pipeline)\" (HH:mm:ss), Cumulative time in \"Marketing Qualified Lead (Lifecycle Stage Pipeline)\" (HH:mm:ss), Cumulative time in \"Opportunity (Lifecycle Stage Pipeline)\" (HH:mm:ss), Cumulative time in \"Other (Lifecycle Stage Pipeline)\" (HH:mm:ss), Cumulative time in \"Sales Qualified Lead (Lifecycle Stage Pipeline)\" (HH:mm:ss), Cumulative time in \"Subscriber (Lifecycle Stage Pipeline)\" (HH:mm:ss), Currently in Sequence, Date entered \"Customer (Lifecycle Stage Pipeline)\", Date entered \"Evangelist (Lifecycle Stage Pipeline)\", Date entered \"Lead (Lifecycle Stage Pipeline)\", Date entered \"Marketing Qualified Lead (Lifecycle Stage Pipeline)\", Date entered \"Opportunity (Lifecycle Stage Pipeline)\", Date entered \"Other (Lifecycle Stage Pipeline)\", Date entered \"Sales Qualified Lead (Lifecycle Stage Pipeline)\", Date entered \"Subscriber (Lifecycle Stage Pipeline)\", Date exited \"Customer (Lifecycle Stage Pipeline)\", Date exited \"Evangelist (Lifecycle Stage Pipeline)\", Date exited \"Lead (Lifecycle Stage Pipeline)\", Date exited \"Marketing Qualified Lead (Lifecycle Stage Pipeline)\", Date exited \"Opportunity (Lifecycle Stage Pipeline)\", Date exited \"Other (Lifecycle Stage Pipeline)\", Date exited \"Sales Qualified Lead (Lifecycle Stage Pipeline)\", Date exited \"Subscriber (Lifecycle Stage Pipeline)\", Date of birth, Date of first engagement, Date of last meeting booked in meetings tool, Days To Close, Defense, Degree, Description of first engagement, Domain to which registration email was sent, Email, Email address automated quarantine reason, Email address quarantine reason, Email Address Quarantined, Email Confirmed, Email Domain, Email hard bounce reason, Employment Role, Employment Seniority, Employment Sub Role, Enriched Email Bounce Detected, Enrichment opt out, Enrichment opt out timestamp, Event Revenue, Facebook click id, Fax Number, Field of study, First Closed Order ID, First Conversion, First Conversion Date, First Deal Created Date, First marketing email click date, First marketing email open date, First marketing email reply date, First marketing email send date, First Order Closed Date, First Page Seen, First Referring Site, First Touch Converting Campaign, Gender, Google ad click id, Graduation date, Has been enriched, HP, HubSpot Score, HubSpot Team, ID of first engagement, Industry, Inferred Language Codes, Invalid email address, IP City, IP Country, IP Country Code, IP State Code/Region Code, IP State/Region, IP Timezone, Job function, ...]\n",
       "Index: []\n",
       "\n",
       "[0 rows x 253 columns]"
      ]
     },
     "execution_count": 14,
     "metadata": {},
     "output_type": "execute_result"
    }
   ],
   "source": [
    "street"
   ]
  },
  {
   "cell_type": "code",
   "execution_count": 15,
   "id": "5ed9fa0a-312d-443f-b956-294a16a2718b",
   "metadata": {
    "tags": []
   },
   "outputs": [
    {
     "data": {
      "text/plain": [
       "Series([], Name: Street Address, dtype: object)"
      ]
     },
     "execution_count": 15,
     "metadata": {},
     "output_type": "execute_result"
    }
   ],
   "source": [
    "street['Street Address']"
   ]
  },
  {
   "cell_type": "code",
   "execution_count": 16,
   "id": "031e7823-b3d1-4a0e-909e-43f506146b8e",
   "metadata": {
    "tags": []
   },
   "outputs": [
    {
     "name": "stderr",
     "output_type": "stream",
     "text": [
      "C:\\Users\\Andres Garcia Bayona\\Documents\\Github\\PyDev-Operational-Library-For-Data-Engineers\\functions\\manage_duplicates\\find_duplicate_contacts_by_name_and_phone.py:43: PerformanceWarning: DataFrame is highly fragmented.  This is usually the result of calling `frame.insert` many times, which has poor performance.  Consider joining all columns at once using pd.concat(axis=1) instead. To get a de-fragmented frame, use `newframe = frame.copy()`\n",
      "  frame_data['Standardized Phone Number'] = frame_data[frame_phone_column_name].apply(standardize_phone)\n",
      "C:\\Users\\Andres Garcia Bayona\\Documents\\Github\\PyDev-Operational-Library-For-Data-Engineers\\functions\\manage_duplicates\\find_duplicate_contacts_by_name_and_phone.py:59: PerformanceWarning: DataFrame is highly fragmented.  This is usually the result of calling `frame.insert` many times, which has poor performance.  Consider joining all columns at once using pd.concat(axis=1) instead. To get a de-fragmented frame, use `newframe = frame.copy()`\n",
      "  duplicates_frame[\"Key\"] = frame_data['Standardized Full Name'] + frame_data['Standardized Phone Number']\n"
     ]
    }
   ],
   "source": [
    "phone, no_duplicates_frame = find_duplicate_contacts_by_name_and_phone(df,\n",
    "                                                                       frame_full_name_column_name = full_name_column,\n",
    "                                                                       frame_phone_column_name = frame_phone_column_name)"
   ]
  },
  {
   "cell_type": "code",
   "execution_count": 17,
   "id": "3ea463cc-10ab-4189-8247-4c3b6aae9efe",
   "metadata": {
    "tags": []
   },
   "outputs": [
    {
     "data": {
      "text/plain": [
       "130"
      ]
     },
     "execution_count": 17,
     "metadata": {},
     "output_type": "execute_result"
    }
   ],
   "source": [
    "len(phone)"
   ]
  },
  {
   "cell_type": "code",
   "execution_count": 18,
   "id": "55753d2f-cd7e-496e-9fbc-fbafaf3daaf5",
   "metadata": {
    "tags": []
   },
   "outputs": [
    {
     "data": {
      "text/html": [
       "<div>\n",
       "<style scoped>\n",
       "    .dataframe tbody tr th:only-of-type {\n",
       "        vertical-align: middle;\n",
       "    }\n",
       "\n",
       "    .dataframe tbody tr th {\n",
       "        vertical-align: top;\n",
       "    }\n",
       "\n",
       "    .dataframe thead th {\n",
       "        text-align: right;\n",
       "    }\n",
       "</style>\n",
       "<table border=\"1\" class=\"dataframe\">\n",
       "  <thead>\n",
       "    <tr style=\"text-align: right;\">\n",
       "      <th></th>\n",
       "      <th>Record ID</th>\n",
       "      <th>First Name</th>\n",
       "      <th>Last Name</th>\n",
       "      <th>Annual Revenue</th>\n",
       "      <th>Attack</th>\n",
       "      <th>Average Pageviews</th>\n",
       "      <th>Buying Role</th>\n",
       "      <th>Campaign of last booking in meetings tool</th>\n",
       "      <th>Checkbox</th>\n",
       "      <th>City</th>\n",
       "      <th>...</th>\n",
       "      <th>Types</th>\n",
       "      <th>Unsubscribed from all email</th>\n",
       "      <th>Updated by user ID</th>\n",
       "      <th>Website URL</th>\n",
       "      <th>WhatsApp Phone Number</th>\n",
       "      <th>Work email</th>\n",
       "      <th>Full Name</th>\n",
       "      <th>Standardized Full Name</th>\n",
       "      <th>Standardized Phone Number</th>\n",
       "      <th>Key</th>\n",
       "    </tr>\n",
       "  </thead>\n",
       "  <tbody>\n",
       "    <tr>\n",
       "      <th>535</th>\n",
       "      <td>132689368629</td>\n",
       "      <td>Tyson</td>\n",
       "      <td>Newman</td>\n",
       "      <td></td>\n",
       "      <td></td>\n",
       "      <td>0.0</td>\n",
       "      <td></td>\n",
       "      <td></td>\n",
       "      <td>Yes</td>\n",
       "      <td></td>\n",
       "      <td>...</td>\n",
       "      <td></td>\n",
       "      <td></td>\n",
       "      <td>Andres Eduardo Garcia Bayona</td>\n",
       "      <td></td>\n",
       "      <td></td>\n",
       "      <td></td>\n",
       "      <td>Tyson Newman</td>\n",
       "      <td>tysonnewman</td>\n",
       "      <td>6835027381</td>\n",
       "      <td>tysonnewman6835027381</td>\n",
       "    </tr>\n",
       "    <tr>\n",
       "      <th>650</th>\n",
       "      <td>132701233001</td>\n",
       "      <td>Tyson</td>\n",
       "      <td>Newman</td>\n",
       "      <td></td>\n",
       "      <td></td>\n",
       "      <td>0.0</td>\n",
       "      <td></td>\n",
       "      <td></td>\n",
       "      <td>Yes</td>\n",
       "      <td></td>\n",
       "      <td>...</td>\n",
       "      <td></td>\n",
       "      <td></td>\n",
       "      <td>Andres Eduardo Garcia Bayona</td>\n",
       "      <td></td>\n",
       "      <td></td>\n",
       "      <td></td>\n",
       "      <td>Tyson Newman</td>\n",
       "      <td>tysonnewman</td>\n",
       "      <td>6835027381</td>\n",
       "      <td>tysonnewman6835027381</td>\n",
       "    </tr>\n",
       "    <tr>\n",
       "      <th>6301</th>\n",
       "      <td>132687044360</td>\n",
       "      <td>Tyson</td>\n",
       "      <td>Newman</td>\n",
       "      <td></td>\n",
       "      <td></td>\n",
       "      <td>0.0</td>\n",
       "      <td></td>\n",
       "      <td></td>\n",
       "      <td>Yes</td>\n",
       "      <td></td>\n",
       "      <td>...</td>\n",
       "      <td></td>\n",
       "      <td></td>\n",
       "      <td>Andres Eduardo Garcia Bayona</td>\n",
       "      <td></td>\n",
       "      <td></td>\n",
       "      <td></td>\n",
       "      <td>Tyson Newman</td>\n",
       "      <td>tysonnewman</td>\n",
       "      <td>6835027381</td>\n",
       "      <td>tysonnewman6835027381</td>\n",
       "    </tr>\n",
       "    <tr>\n",
       "      <th>1223</th>\n",
       "      <td>132691310432</td>\n",
       "      <td>Sebastian</td>\n",
       "      <td>Parker</td>\n",
       "      <td></td>\n",
       "      <td></td>\n",
       "      <td>0.0</td>\n",
       "      <td></td>\n",
       "      <td></td>\n",
       "      <td>Yes</td>\n",
       "      <td></td>\n",
       "      <td>...</td>\n",
       "      <td></td>\n",
       "      <td></td>\n",
       "      <td>Andres Eduardo Garcia Bayona</td>\n",
       "      <td></td>\n",
       "      <td></td>\n",
       "      <td></td>\n",
       "      <td>Sebastian Parker</td>\n",
       "      <td>sebastianparker</td>\n",
       "      <td>5517227040</td>\n",
       "      <td>sebastianparker5517227040</td>\n",
       "    </tr>\n",
       "    <tr>\n",
       "      <th>2963</th>\n",
       "      <td>132688588168</td>\n",
       "      <td>Sebastian</td>\n",
       "      <td>Parker</td>\n",
       "      <td></td>\n",
       "      <td></td>\n",
       "      <td>0.0</td>\n",
       "      <td></td>\n",
       "      <td></td>\n",
       "      <td>Yes</td>\n",
       "      <td></td>\n",
       "      <td>...</td>\n",
       "      <td></td>\n",
       "      <td></td>\n",
       "      <td>Andres Eduardo Garcia Bayona</td>\n",
       "      <td></td>\n",
       "      <td></td>\n",
       "      <td></td>\n",
       "      <td>Sebastian Parker</td>\n",
       "      <td>sebastianparker</td>\n",
       "      <td>5517227040</td>\n",
       "      <td>sebastianparker5517227040</td>\n",
       "    </tr>\n",
       "    <tr>\n",
       "      <th>...</th>\n",
       "      <td>...</td>\n",
       "      <td>...</td>\n",
       "      <td>...</td>\n",
       "      <td>...</td>\n",
       "      <td>...</td>\n",
       "      <td>...</td>\n",
       "      <td>...</td>\n",
       "      <td>...</td>\n",
       "      <td>...</td>\n",
       "      <td>...</td>\n",
       "      <td>...</td>\n",
       "      <td>...</td>\n",
       "      <td>...</td>\n",
       "      <td>...</td>\n",
       "      <td>...</td>\n",
       "      <td>...</td>\n",
       "      <td>...</td>\n",
       "      <td>...</td>\n",
       "      <td>...</td>\n",
       "      <td>...</td>\n",
       "      <td>...</td>\n",
       "    </tr>\n",
       "    <tr>\n",
       "      <th>6266</th>\n",
       "      <td>132685725964</td>\n",
       "      <td>Anthony</td>\n",
       "      <td>Sinclair</td>\n",
       "      <td></td>\n",
       "      <td></td>\n",
       "      <td>0.0</td>\n",
       "      <td></td>\n",
       "      <td></td>\n",
       "      <td>Yes</td>\n",
       "      <td></td>\n",
       "      <td>...</td>\n",
       "      <td></td>\n",
       "      <td></td>\n",
       "      <td>Andres Eduardo Garcia Bayona</td>\n",
       "      <td></td>\n",
       "      <td></td>\n",
       "      <td></td>\n",
       "      <td>Anthony Sinclair</td>\n",
       "      <td>anthonysinclair</td>\n",
       "      <td>3505033457</td>\n",
       "      <td>anthonysinclair3505033457</td>\n",
       "    </tr>\n",
       "    <tr>\n",
       "      <th>6076</th>\n",
       "      <td>132679269222</td>\n",
       "      <td>Anthony</td>\n",
       "      <td>Sinclair</td>\n",
       "      <td></td>\n",
       "      <td></td>\n",
       "      <td>0.0</td>\n",
       "      <td></td>\n",
       "      <td></td>\n",
       "      <td>Yes</td>\n",
       "      <td></td>\n",
       "      <td>...</td>\n",
       "      <td></td>\n",
       "      <td></td>\n",
       "      <td>Andres Eduardo Garcia Bayona</td>\n",
       "      <td></td>\n",
       "      <td></td>\n",
       "      <td></td>\n",
       "      <td>Anthony Sinclair</td>\n",
       "      <td>anthonysinclair</td>\n",
       "      <td>3505033457</td>\n",
       "      <td>anthonysinclair3505033457</td>\n",
       "    </tr>\n",
       "    <tr>\n",
       "      <th>124</th>\n",
       "      <td>132679269398</td>\n",
       "      <td>Anthony</td>\n",
       "      <td>Sinclair</td>\n",
       "      <td></td>\n",
       "      <td></td>\n",
       "      <td>0.0</td>\n",
       "      <td></td>\n",
       "      <td></td>\n",
       "      <td>Yes</td>\n",
       "      <td></td>\n",
       "      <td>...</td>\n",
       "      <td></td>\n",
       "      <td></td>\n",
       "      <td>Andres Eduardo Garcia Bayona</td>\n",
       "      <td></td>\n",
       "      <td></td>\n",
       "      <td></td>\n",
       "      <td>Anthony Sinclair</td>\n",
       "      <td>anthonysinclair</td>\n",
       "      <td>3505033457</td>\n",
       "      <td>anthonysinclair3505033457</td>\n",
       "    </tr>\n",
       "    <tr>\n",
       "      <th>116</th>\n",
       "      <td>132702073426</td>\n",
       "      <td>Alan</td>\n",
       "      <td>Warner</td>\n",
       "      <td></td>\n",
       "      <td></td>\n",
       "      <td>0.0</td>\n",
       "      <td></td>\n",
       "      <td></td>\n",
       "      <td>Yes</td>\n",
       "      <td></td>\n",
       "      <td>...</td>\n",
       "      <td></td>\n",
       "      <td></td>\n",
       "      <td>Andres Eduardo Garcia Bayona</td>\n",
       "      <td></td>\n",
       "      <td></td>\n",
       "      <td></td>\n",
       "      <td>Alan Warner</td>\n",
       "      <td>alanwarner</td>\n",
       "      <td>7260282170</td>\n",
       "      <td>alanwarner7260282170</td>\n",
       "    </tr>\n",
       "    <tr>\n",
       "      <th>1431</th>\n",
       "      <td>132700294836</td>\n",
       "      <td>Alan</td>\n",
       "      <td>Warner</td>\n",
       "      <td></td>\n",
       "      <td></td>\n",
       "      <td>0.0</td>\n",
       "      <td></td>\n",
       "      <td></td>\n",
       "      <td>Yes</td>\n",
       "      <td></td>\n",
       "      <td>...</td>\n",
       "      <td></td>\n",
       "      <td></td>\n",
       "      <td>Andres Eduardo Garcia Bayona</td>\n",
       "      <td></td>\n",
       "      <td></td>\n",
       "      <td></td>\n",
       "      <td>Alan Warner</td>\n",
       "      <td>alanwarner</td>\n",
       "      <td>7260282170</td>\n",
       "      <td>alanwarner7260282170</td>\n",
       "    </tr>\n",
       "  </tbody>\n",
       "</table>\n",
       "<p>130 rows × 253 columns</p>\n",
       "</div>"
      ],
      "text/plain": [
       "         Record ID First Name Last Name Annual Revenue Attack  \\\n",
       "535   132689368629      Tyson    Newman                         \n",
       "650   132701233001      Tyson    Newman                         \n",
       "6301  132687044360      Tyson    Newman                         \n",
       "1223  132691310432  Sebastian    Parker                         \n",
       "2963  132688588168  Sebastian    Parker                         \n",
       "...            ...        ...       ...            ...    ...   \n",
       "6266  132685725964    Anthony  Sinclair                         \n",
       "6076  132679269222    Anthony  Sinclair                         \n",
       "124   132679269398    Anthony  Sinclair                         \n",
       "116   132702073426       Alan    Warner                         \n",
       "1431  132700294836       Alan    Warner                         \n",
       "\n",
       "      Average Pageviews Buying Role Campaign of last booking in meetings tool  \\\n",
       "535                 0.0                                                         \n",
       "650                 0.0                                                         \n",
       "6301                0.0                                                         \n",
       "1223                0.0                                                         \n",
       "2963                0.0                                                         \n",
       "...                 ...         ...                                       ...   \n",
       "6266                0.0                                                         \n",
       "6076                0.0                                                         \n",
       "124                 0.0                                                         \n",
       "116                 0.0                                                         \n",
       "1431                0.0                                                         \n",
       "\n",
       "     Checkbox City  ... Types Unsubscribed from all email  \\\n",
       "535       Yes       ...                                     \n",
       "650       Yes       ...                                     \n",
       "6301      Yes       ...                                     \n",
       "1223      Yes       ...                                     \n",
       "2963      Yes       ...                                     \n",
       "...       ...  ...  ...   ...                         ...   \n",
       "6266      Yes       ...                                     \n",
       "6076      Yes       ...                                     \n",
       "124       Yes       ...                                     \n",
       "116       Yes       ...                                     \n",
       "1431      Yes       ...                                     \n",
       "\n",
       "                Updated by user ID Website URL WhatsApp Phone Number  \\\n",
       "535   Andres Eduardo Garcia Bayona                                     \n",
       "650   Andres Eduardo Garcia Bayona                                     \n",
       "6301  Andres Eduardo Garcia Bayona                                     \n",
       "1223  Andres Eduardo Garcia Bayona                                     \n",
       "2963  Andres Eduardo Garcia Bayona                                     \n",
       "...                            ...         ...                   ...   \n",
       "6266  Andres Eduardo Garcia Bayona                                     \n",
       "6076  Andres Eduardo Garcia Bayona                                     \n",
       "124   Andres Eduardo Garcia Bayona                                     \n",
       "116   Andres Eduardo Garcia Bayona                                     \n",
       "1431  Andres Eduardo Garcia Bayona                                     \n",
       "\n",
       "      Work email         Full Name Standardized Full Name  \\\n",
       "535                   Tyson Newman            tysonnewman   \n",
       "650                   Tyson Newman            tysonnewman   \n",
       "6301                  Tyson Newman            tysonnewman   \n",
       "1223              Sebastian Parker        sebastianparker   \n",
       "2963              Sebastian Parker        sebastianparker   \n",
       "...          ...               ...                    ...   \n",
       "6266              Anthony Sinclair        anthonysinclair   \n",
       "6076              Anthony Sinclair        anthonysinclair   \n",
       "124               Anthony Sinclair        anthonysinclair   \n",
       "116                    Alan Warner             alanwarner   \n",
       "1431                   Alan Warner             alanwarner   \n",
       "\n",
       "     Standardized Phone Number                        Key  \n",
       "535                 6835027381      tysonnewman6835027381  \n",
       "650                 6835027381      tysonnewman6835027381  \n",
       "6301                6835027381      tysonnewman6835027381  \n",
       "1223                5517227040  sebastianparker5517227040  \n",
       "2963                5517227040  sebastianparker5517227040  \n",
       "...                        ...                        ...  \n",
       "6266                3505033457  anthonysinclair3505033457  \n",
       "6076                3505033457  anthonysinclair3505033457  \n",
       "124                 3505033457  anthonysinclair3505033457  \n",
       "116                 7260282170       alanwarner7260282170  \n",
       "1431                7260282170       alanwarner7260282170  \n",
       "\n",
       "[130 rows x 253 columns]"
      ]
     },
     "execution_count": 18,
     "metadata": {},
     "output_type": "execute_result"
    }
   ],
   "source": [
    "phone"
   ]
  },
  {
   "cell_type": "markdown",
   "id": "cc04e989-92dd-4dab-9a8a-6c1a9d9566b5",
   "metadata": {},
   "source": [
    "# Add HubSpot Records View and Save Duplicates Frame"
   ]
  },
  {
   "cell_type": "code",
   "execution_count": 19,
   "id": "1451e042-580e-47e1-8c86-d5ba0ea02376",
   "metadata": {
    "tags": []
   },
   "outputs": [],
   "source": [
    "def link_to_view_record(record_id):\n",
    "    \n",
    "    account_id = os.getenv('account_id') ## Change this according your account\n",
    "    record_id = str(int(record_id))\n",
    "    \n",
    "    record_view = 'https://app.hubspot.com/contacts/{}/record/0-1/{}'.format(account_id, record_id)\n",
    "    \n",
    "    return record_view"
   ]
  },
  {
   "cell_type": "code",
   "execution_count": 20,
   "id": "716d2944-6ad4-4b32-9435-d547688a409e",
   "metadata": {
    "tags": []
   },
   "outputs": [],
   "source": [
    "add_hubspot_records_view = os.getenv('add_hubspot_records_view')"
   ]
  },
  {
   "cell_type": "code",
   "execution_count": 21,
   "id": "07b5a375-b121-4dd3-98ae-9601d5a5e5fb",
   "metadata": {
    "tags": []
   },
   "outputs": [],
   "source": [
    "names = [street_address_column_name,frame_phone_column_name]"
   ]
  },
  {
   "cell_type": "code",
   "execution_count": 22,
   "id": "cf183506-030e-4979-911b-b8798bfe240a",
   "metadata": {
    "tags": []
   },
   "outputs": [
    {
     "name": "stdout",
     "output_type": "stream",
     "text": [
      "0 Duplicated Records Found\n",
      "130 Duplicated Records Found\n"
     ]
    },
    {
     "name": "stderr",
     "output_type": "stream",
     "text": [
      "C:\\Users\\Andres Garcia Bayona\\AppData\\Local\\Temp\\ipykernel_17756\\2840681676.py:3: PerformanceWarning: DataFrame is highly fragmented.  This is usually the result of calling `frame.insert` many times, which has poor performance.  Consider joining all columns at once using pd.concat(axis=1) instead. To get a de-fragmented frame, use `newframe = frame.copy()`\n",
      "  dataframe['Record View'] = dataframe['Record ID'].apply(link_to_view_record)\n"
     ]
    }
   ],
   "source": [
    "for dataframe, name in zip([street, phone],names):\n",
    "    if add_hubspot_records_view == 'Yes':\n",
    "        dataframe['Record View'] = dataframe['Record ID'].apply(link_to_view_record)\n",
    "    else:\n",
    "        pass\n",
    "\n",
    "    dataframe[['Record ID', 'First Name', 'Last Name', 'Email',\n",
    "                                         frame_phone_column_name, street_address_column_name, \n",
    "                                         'Record View', 'Key']].to_excel(file_path+r'\\Duplicate Contact Records Found by {}.xlsx'.format(name))\n",
    "\n",
    "    print(len(dataframe), 'Duplicated Records Found')"
   ]
  },
  {
   "cell_type": "markdown",
   "id": "6a13e033-8155-4c60-ba7c-14ad8089d2d2",
   "metadata": {
    "jp-MarkdownHeadingCollapsed": true,
    "tags": []
   },
   "source": [
    "# If few duplicates are found with the previous methods, ask the strategies if the following strategies sound good"
   ]
  },
  {
   "cell_type": "markdown",
   "id": "450cfb65-7e75-47af-b307-accdaea38cc6",
   "metadata": {},
   "source": [
    "### Email domain (Same name and same email domain, mostly for same companies, but might mark as duplicates people with the same name within the same company)"
   ]
  },
  {
   "cell_type": "code",
   "execution_count": 23,
   "id": "2c103a0d-2eb6-4440-a862-4c04419f5c19",
   "metadata": {
    "tags": []
   },
   "outputs": [],
   "source": [
    "excluded_domains = ['gmail.com','yahoo.com','aol.com','hotmail.com','icloud.com','comcast.net','msn.com','outlook.com']"
   ]
  },
  {
   "cell_type": "code",
   "execution_count": 24,
   "id": "71d9b3e2-61c1-458f-aa4d-1f702e0d84d2",
   "metadata": {
    "tags": []
   },
   "outputs": [
    {
     "name": "stderr",
     "output_type": "stream",
     "text": [
      "C:\\Users\\Andres Garcia Bayona\\AppData\\Local\\Temp\\ipykernel_17756\\649866337.py:1: PerformanceWarning: DataFrame is highly fragmented.  This is usually the result of calling `frame.insert` many times, which has poor performance.  Consider joining all columns at once using pd.concat(axis=1) instead. To get a de-fragmented frame, use `newframe = frame.copy()`\n",
      "  df['Email domain key'] = df['Standardized Full Name']+df['Email Domain']\n"
     ]
    }
   ],
   "source": [
    "df['Email domain key'] = df['Standardized Full Name']+df['Email Domain']"
   ]
  },
  {
   "cell_type": "code",
   "execution_count": 25,
   "id": "baeb18ef-a3d9-41f4-8eb9-115cf2f885de",
   "metadata": {
    "tags": []
   },
   "outputs": [],
   "source": [
    "df[df.duplicated(subset=['Email Domain','Email domain key'],keep=False)&(df['Standardized Full Name']!='')&(~df['Email Domain'].isin(excluded_domains))&(df['Email Domain']!='')][['Record ID', 'First Name', 'Last Name',frame_phone_column_name, 'Email', street_address_column_name,'Email domain key']].sort_values('Email domain key').to_excel(file_path+'\\\\Duplicate contacts by name and email domain.xlsx',index=False)"
   ]
  },
  {
   "cell_type": "markdown",
   "id": "ea61ad08-cf21-4a93-91fa-aa25c67d6a3e",
   "metadata": {
    "jp-MarkdownHeadingCollapsed": true,
    "tags": []
   },
   "source": [
    "# Without info (This is useful when there's a lot of contacts without information)"
   ]
  },
  {
   "cell_type": "markdown",
   "id": "56a749a2-ab36-41e7-b0f2-37e31ac2726f",
   "metadata": {},
   "source": [
    "### This generates a dataframe whose name is duplicated but have information, at least one of email, street address or phone number"
   ]
  },
  {
   "cell_type": "code",
   "execution_count": 26,
   "id": "54a982fb-fc95-4bdd-96eb-b641a950c628",
   "metadata": {
    "tags": []
   },
   "outputs": [],
   "source": [
    "with_info = df[(df.duplicated(subset='Standardized Full Name',keep=False))&(df['Standardized Full Name']!='')&((df['Email']!='')|(df['Street Address']!='')|(df['Phone Number']!=''))]"
   ]
  },
  {
   "cell_type": "markdown",
   "id": "4c9bcfae-f6d9-4973-9382-a0f20522bd62",
   "metadata": {},
   "source": [
    "### This generates a dataframe that don't have information but that could be merged into a contact with information"
   ]
  },
  {
   "cell_type": "code",
   "execution_count": 27,
   "id": "0cec31a2-89df-432a-929c-97f31bb55d1d",
   "metadata": {
    "tags": []
   },
   "outputs": [],
   "source": [
    "no_info = df[(df['Email']!='')&(df.duplicated(subset='Standardized Full Name',keep=False))&(df['Street Address']=='')&(df['Phone Number']=='')&((df['Standardized Full Name'].isin(with_info['Standardized Full Name'])))]"
   ]
  },
  {
   "cell_type": "code",
   "execution_count": 28,
   "id": "b3166076-d6ba-4fc1-8c71-84781aa835d0",
   "metadata": {
    "tags": []
   },
   "outputs": [
    {
     "data": {
      "text/html": [
       "<div>\n",
       "<style scoped>\n",
       "    .dataframe tbody tr th:only-of-type {\n",
       "        vertical-align: middle;\n",
       "    }\n",
       "\n",
       "    .dataframe tbody tr th {\n",
       "        vertical-align: top;\n",
       "    }\n",
       "\n",
       "    .dataframe thead th {\n",
       "        text-align: right;\n",
       "    }\n",
       "</style>\n",
       "<table border=\"1\" class=\"dataframe\">\n",
       "  <thead>\n",
       "    <tr style=\"text-align: right;\">\n",
       "      <th></th>\n",
       "      <th>Record ID</th>\n",
       "      <th>First Name</th>\n",
       "      <th>Last Name</th>\n",
       "      <th>Email</th>\n",
       "      <th>Phone Number</th>\n",
       "      <th>Email</th>\n",
       "      <th>Street Address</th>\n",
       "      <th>Standardized Full Name</th>\n",
       "    </tr>\n",
       "  </thead>\n",
       "  <tbody>\n",
       "  </tbody>\n",
       "</table>\n",
       "</div>"
      ],
      "text/plain": [
       "Empty DataFrame\n",
       "Columns: [Record ID, First Name, Last Name, Email, Phone Number, Email, Street Address, Standardized Full Name]\n",
       "Index: []"
      ]
     },
     "execution_count": 28,
     "metadata": {},
     "output_type": "execute_result"
    }
   ],
   "source": [
    "no_info[['Record ID', 'First Name', 'Last Name', 'Email',\n",
    "                                         frame_phone_column_name, 'Email', street_address_column_name, \n",
    "                                         'Standardized Full Name']]#.to_excel(file_path+'\\\\'+'Contacts duplicated by name with but no phone or address.xlsx',index=False)"
   ]
  },
  {
   "cell_type": "code",
   "execution_count": 29,
   "id": "be967bdf-7826-4976-ad96-38056b510208",
   "metadata": {
    "tags": []
   },
   "outputs": [
    {
     "data": {
      "text/html": [
       "<div>\n",
       "<style scoped>\n",
       "    .dataframe tbody tr th:only-of-type {\n",
       "        vertical-align: middle;\n",
       "    }\n",
       "\n",
       "    .dataframe tbody tr th {\n",
       "        vertical-align: top;\n",
       "    }\n",
       "\n",
       "    .dataframe thead th {\n",
       "        text-align: right;\n",
       "    }\n",
       "</style>\n",
       "<table border=\"1\" class=\"dataframe\">\n",
       "  <thead>\n",
       "    <tr style=\"text-align: right;\">\n",
       "      <th></th>\n",
       "      <th>Record ID</th>\n",
       "      <th>First Name</th>\n",
       "      <th>Last Name</th>\n",
       "      <th>Email</th>\n",
       "      <th>Phone Number</th>\n",
       "      <th>Email</th>\n",
       "      <th>Street Address</th>\n",
       "      <th>Standardized Full Name</th>\n",
       "    </tr>\n",
       "  </thead>\n",
       "  <tbody>\n",
       "    <tr>\n",
       "      <th>0</th>\n",
       "      <td>132691310466</td>\n",
       "      <td>Eduardo</td>\n",
       "      <td>Quinn</td>\n",
       "      <td>eduardo_quinn1602340966@famism.biz</td>\n",
       "      <td>+(44)1660 817711</td>\n",
       "      <td>eduardo_quinn1602340966@famism.biz</td>\n",
       "      <td>Bingham   Boulevard, 5368</td>\n",
       "      <td>eduardoquinn</td>\n",
       "    </tr>\n",
       "    <tr>\n",
       "      <th>4</th>\n",
       "      <td>132697342087</td>\n",
       "      <td>Stacy</td>\n",
       "      <td>Antcliff</td>\n",
       "      <td>stacy_antcliff1606128290@joiniaa.com</td>\n",
       "      <td>+(353)1210 761557</td>\n",
       "      <td>stacy_antcliff1606128290@joiniaa.com</td>\n",
       "      <td>Longleigh   Way, 9891</td>\n",
       "      <td>stacyantcliff</td>\n",
       "    </tr>\n",
       "    <tr>\n",
       "      <th>7</th>\n",
       "      <td>132686660273</td>\n",
       "      <td>Barry</td>\n",
       "      <td>Ryan</td>\n",
       "      <td>barry_ryan1600445419+103@twace.org</td>\n",
       "      <td>+(44)2742 575850</td>\n",
       "      <td>barry_ryan1600445419+103@twace.org</td>\n",
       "      <td>Boleyn  Drive, 2714</td>\n",
       "      <td>barryryan</td>\n",
       "    </tr>\n",
       "    <tr>\n",
       "      <th>11</th>\n",
       "      <td>132697342086</td>\n",
       "      <td>Michael</td>\n",
       "      <td>Veale</td>\n",
       "      <td>michael_veale472491137+103@gembat.biz</td>\n",
       "      <td>+(44)1817 27057</td>\n",
       "      <td>michael_veale472491137+103@gembat.biz</td>\n",
       "      <td>Bellenden   Drive, 6655</td>\n",
       "      <td>michaelveale</td>\n",
       "    </tr>\n",
       "    <tr>\n",
       "      <th>14</th>\n",
       "      <td>132686099777</td>\n",
       "      <td>William</td>\n",
       "      <td>Adams</td>\n",
       "      <td>william_adams1794191375@joiniaa.com</td>\n",
       "      <td>+(353)8801 324274</td>\n",
       "      <td>william_adams1794191375@joiniaa.com</td>\n",
       "      <td>Lonsdale  Hill, 6074</td>\n",
       "      <td>williamada</td>\n",
       "    </tr>\n",
       "    <tr>\n",
       "      <th>...</th>\n",
       "      <td>...</td>\n",
       "      <td>...</td>\n",
       "      <td>...</td>\n",
       "      <td>...</td>\n",
       "      <td>...</td>\n",
       "      <td>...</td>\n",
       "      <td>...</td>\n",
       "      <td>...</td>\n",
       "    </tr>\n",
       "    <tr>\n",
       "      <th>6924</th>\n",
       "      <td>132687443517</td>\n",
       "      <td>Caleb</td>\n",
       "      <td>Wren</td>\n",
       "      <td>caleb_wren950027996@deavo.com</td>\n",
       "      <td>+(44)8337 435140</td>\n",
       "      <td>caleb_wren950027996@deavo.com</td>\n",
       "      <td>Charnwood   Crossroad, 7335</td>\n",
       "      <td>calebwren</td>\n",
       "    </tr>\n",
       "    <tr>\n",
       "      <th>6925</th>\n",
       "      <td>132678801302</td>\n",
       "      <td>Adina</td>\n",
       "      <td>Dallas</td>\n",
       "      <td>adina_dallas1909134042@guentu.biz</td>\n",
       "      <td>+(353)6808 667101</td>\n",
       "      <td>adina_dallas1909134042@guentu.biz</td>\n",
       "      <td>Eldon  Alley, 9131</td>\n",
       "      <td>adinadallas</td>\n",
       "    </tr>\n",
       "    <tr>\n",
       "      <th>6926</th>\n",
       "      <td>132700676142</td>\n",
       "      <td>Ally</td>\n",
       "      <td>Smith</td>\n",
       "      <td>ally_smith600500464@womeona.net</td>\n",
       "      <td>+(353)2708 308184</td>\n",
       "      <td>ally_smith600500464@womeona.net</td>\n",
       "      <td>Clifton  Pass, 5216</td>\n",
       "      <td>allysmith</td>\n",
       "    </tr>\n",
       "    <tr>\n",
       "      <th>6930</th>\n",
       "      <td>132686789155</td>\n",
       "      <td>Matthew</td>\n",
       "      <td>Fowler</td>\n",
       "      <td></td>\n",
       "      <td>+(44)7733 138312</td>\n",
       "      <td></td>\n",
       "      <td>Magnolia Hill, 1690</td>\n",
       "      <td>matthewfowler</td>\n",
       "    </tr>\n",
       "    <tr>\n",
       "      <th>6935</th>\n",
       "      <td>132686557514</td>\n",
       "      <td>Alba</td>\n",
       "      <td>Warner</td>\n",
       "      <td>alba_warner1407189371@joiniaa.com</td>\n",
       "      <td>+(353)8435 032084</td>\n",
       "      <td>alba_warner1407189371@joiniaa.com</td>\n",
       "      <td>Abbey   Boulevard, 1649</td>\n",
       "      <td>albawarner</td>\n",
       "    </tr>\n",
       "  </tbody>\n",
       "</table>\n",
       "<p>6189 rows × 8 columns</p>\n",
       "</div>"
      ],
      "text/plain": [
       "         Record ID First Name Last Name  \\\n",
       "0     132691310466    Eduardo     Quinn   \n",
       "4     132697342087      Stacy  Antcliff   \n",
       "7     132686660273      Barry      Ryan   \n",
       "11    132697342086    Michael     Veale   \n",
       "14    132686099777    William     Adams   \n",
       "...            ...        ...       ...   \n",
       "6924  132687443517      Caleb      Wren   \n",
       "6925  132678801302      Adina    Dallas   \n",
       "6926  132700676142       Ally     Smith   \n",
       "6930  132686789155    Matthew    Fowler   \n",
       "6935  132686557514       Alba    Warner   \n",
       "\n",
       "                                      Email        Phone Number  \\\n",
       "0        eduardo_quinn1602340966@famism.biz    +(44)1660 817711   \n",
       "4      stacy_antcliff1606128290@joiniaa.com   +(353)1210 761557   \n",
       "7        barry_ryan1600445419+103@twace.org    +(44)2742 575850   \n",
       "11    michael_veale472491137+103@gembat.biz     +(44)1817 27057   \n",
       "14      william_adams1794191375@joiniaa.com   +(353)8801 324274   \n",
       "...                                     ...                 ...   \n",
       "6924          caleb_wren950027996@deavo.com    +(44)8337 435140   \n",
       "6925      adina_dallas1909134042@guentu.biz   +(353)6808 667101   \n",
       "6926        ally_smith600500464@womeona.net   +(353)2708 308184   \n",
       "6930                                           +(44)7733 138312   \n",
       "6935      alba_warner1407189371@joiniaa.com   +(353)8435 032084   \n",
       "\n",
       "                                      Email               Street Address  \\\n",
       "0        eduardo_quinn1602340966@famism.biz    Bingham   Boulevard, 5368   \n",
       "4      stacy_antcliff1606128290@joiniaa.com        Longleigh   Way, 9891   \n",
       "7        barry_ryan1600445419+103@twace.org          Boleyn  Drive, 2714   \n",
       "11    michael_veale472491137+103@gembat.biz      Bellenden   Drive, 6655   \n",
       "14      william_adams1794191375@joiniaa.com         Lonsdale  Hill, 6074   \n",
       "...                                     ...                          ...   \n",
       "6924          caleb_wren950027996@deavo.com  Charnwood   Crossroad, 7335   \n",
       "6925      adina_dallas1909134042@guentu.biz           Eldon  Alley, 9131   \n",
       "6926        ally_smith600500464@womeona.net          Clifton  Pass, 5216   \n",
       "6930                                                 Magnolia Hill, 1690   \n",
       "6935      alba_warner1407189371@joiniaa.com      Abbey   Boulevard, 1649   \n",
       "\n",
       "     Standardized Full Name  \n",
       "0              eduardoquinn  \n",
       "4             stacyantcliff  \n",
       "7                 barryryan  \n",
       "11             michaelveale  \n",
       "14               williamada  \n",
       "...                     ...  \n",
       "6924              calebwren  \n",
       "6925            adinadallas  \n",
       "6926              allysmith  \n",
       "6930          matthewfowler  \n",
       "6935             albawarner  \n",
       "\n",
       "[6189 rows x 8 columns]"
      ]
     },
     "execution_count": 29,
     "metadata": {},
     "output_type": "execute_result"
    }
   ],
   "source": [
    "with_info[['Record ID', 'First Name', 'Last Name', 'Email',\n",
    "                                         frame_phone_column_name, 'Email', street_address_column_name, \n",
    "                                         'Standardized Full Name']]#.to_excel(file_path+'\\\\'+'Contacts that could be main contacts for duplicates without information.xlsx',index=False)"
   ]
  },
  {
   "cell_type": "code",
   "execution_count": 30,
   "id": "5da46c0d-547c-49cb-b688-98cb5e400c53",
   "metadata": {
    "tags": []
   },
   "outputs": [
    {
     "data": {
      "text/html": [
       "<div>\n",
       "<style scoped>\n",
       "    .dataframe tbody tr th:only-of-type {\n",
       "        vertical-align: middle;\n",
       "    }\n",
       "\n",
       "    .dataframe tbody tr th {\n",
       "        vertical-align: top;\n",
       "    }\n",
       "\n",
       "    .dataframe thead th {\n",
       "        text-align: right;\n",
       "    }\n",
       "</style>\n",
       "<table border=\"1\" class=\"dataframe\">\n",
       "  <thead>\n",
       "    <tr style=\"text-align: right;\">\n",
       "      <th></th>\n",
       "      <th>Record ID</th>\n",
       "      <th>First Name</th>\n",
       "      <th>Last Name</th>\n",
       "      <th>Annual Revenue</th>\n",
       "      <th>Attack</th>\n",
       "      <th>Average Pageviews</th>\n",
       "      <th>Buying Role</th>\n",
       "      <th>Campaign of last booking in meetings tool</th>\n",
       "      <th>Checkbox</th>\n",
       "      <th>City</th>\n",
       "      <th>...</th>\n",
       "      <th>Type of first engagement</th>\n",
       "      <th>Types</th>\n",
       "      <th>Unsubscribed from all email</th>\n",
       "      <th>Updated by user ID</th>\n",
       "      <th>Website URL</th>\n",
       "      <th>WhatsApp Phone Number</th>\n",
       "      <th>Work email</th>\n",
       "      <th>Full Name</th>\n",
       "      <th>Standardized Full Name</th>\n",
       "      <th>Email domain key</th>\n",
       "    </tr>\n",
       "  </thead>\n",
       "  <tbody>\n",
       "  </tbody>\n",
       "</table>\n",
       "<p>0 rows × 252 columns</p>\n",
       "</div>"
      ],
      "text/plain": [
       "Empty DataFrame\n",
       "Columns: [Record ID, First Name, Last Name, Annual Revenue, Attack, Average Pageviews, Buying Role, Campaign of last booking in meetings tool, Checkbox, City, Close Date, Company Name, Company size, Contact owner, Contact priority, Contact unworked, Country/Region, Country/Region Code, Create Date, Created by user ID, Cumulative time in \"Customer (Lifecycle Stage Pipeline)\" (HH:mm:ss), Cumulative time in \"Evangelist (Lifecycle Stage Pipeline)\" (HH:mm:ss), Cumulative time in \"Lead (Lifecycle Stage Pipeline)\" (HH:mm:ss), Cumulative time in \"Marketing Qualified Lead (Lifecycle Stage Pipeline)\" (HH:mm:ss), Cumulative time in \"Opportunity (Lifecycle Stage Pipeline)\" (HH:mm:ss), Cumulative time in \"Other (Lifecycle Stage Pipeline)\" (HH:mm:ss), Cumulative time in \"Sales Qualified Lead (Lifecycle Stage Pipeline)\" (HH:mm:ss), Cumulative time in \"Subscriber (Lifecycle Stage Pipeline)\" (HH:mm:ss), Currently in Sequence, Date entered \"Customer (Lifecycle Stage Pipeline)\", Date entered \"Evangelist (Lifecycle Stage Pipeline)\", Date entered \"Lead (Lifecycle Stage Pipeline)\", Date entered \"Marketing Qualified Lead (Lifecycle Stage Pipeline)\", Date entered \"Opportunity (Lifecycle Stage Pipeline)\", Date entered \"Other (Lifecycle Stage Pipeline)\", Date entered \"Sales Qualified Lead (Lifecycle Stage Pipeline)\", Date entered \"Subscriber (Lifecycle Stage Pipeline)\", Date exited \"Customer (Lifecycle Stage Pipeline)\", Date exited \"Evangelist (Lifecycle Stage Pipeline)\", Date exited \"Lead (Lifecycle Stage Pipeline)\", Date exited \"Marketing Qualified Lead (Lifecycle Stage Pipeline)\", Date exited \"Opportunity (Lifecycle Stage Pipeline)\", Date exited \"Other (Lifecycle Stage Pipeline)\", Date exited \"Sales Qualified Lead (Lifecycle Stage Pipeline)\", Date exited \"Subscriber (Lifecycle Stage Pipeline)\", Date of birth, Date of first engagement, Date of last meeting booked in meetings tool, Days To Close, Defense, Degree, Description of first engagement, Domain to which registration email was sent, Email, Email address automated quarantine reason, Email address quarantine reason, Email Address Quarantined, Email Confirmed, Email Domain, Email hard bounce reason, Employment Role, Employment Seniority, Employment Sub Role, Enriched Email Bounce Detected, Enrichment opt out, Enrichment opt out timestamp, Event Revenue, Facebook click id, Fax Number, Field of study, First Closed Order ID, First Conversion, First Conversion Date, First Deal Created Date, First marketing email click date, First marketing email open date, First marketing email reply date, First marketing email send date, First Order Closed Date, First Page Seen, First Referring Site, First Touch Converting Campaign, Gender, Google ad click id, Graduation date, Has been enriched, HP, HubSpot Score, HubSpot Team, ID of first engagement, Industry, Inferred Language Codes, Invalid email address, IP City, IP Country, IP Country Code, IP State Code/Region Code, IP State/Region, IP Timezone, Job function, ...]\n",
       "Index: []\n",
       "\n",
       "[0 rows x 252 columns]"
      ]
     },
     "execution_count": 30,
     "metadata": {},
     "output_type": "execute_result"
    }
   ],
   "source": [
    "df[(df['Email']=='')&(df['Street Address']=='')&(df['Phone Number']=='')]#.to_excel(file_path+'\\\\Contacts without street address, email or phone number.xlsx',index=False)"
   ]
  }
 ],
 "metadata": {
  "kernelspec": {
   "display_name": "Python 3",
   "language": "python",
   "name": "python3"
  },
  "language_info": {
   "codemirror_mode": {
    "name": "ipython",
    "version": 3
   },
   "file_extension": ".py",
   "mimetype": "text/x-python",
   "name": "python",
   "nbconvert_exporter": "python",
   "pygments_lexer": "ipython3",
   "version": "3.13.5"
  }
 },
 "nbformat": 4,
 "nbformat_minor": 5
}
