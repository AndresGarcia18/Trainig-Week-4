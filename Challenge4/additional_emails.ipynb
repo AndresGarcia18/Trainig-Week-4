{
 "cells": [
  {
   "cell_type": "code",
   "execution_count": 1,
   "metadata": {},
   "outputs": [],
   "source": [
    "import requests\n",
    "import json"
   ]
  },
  {
   "cell_type": "code",
   "execution_count": 7,
   "metadata": {},
   "outputs": [],
   "source": [
    "x_hubspot_csrf_hubspotapi = input(\"Csrf_token: \")"
   ]
  },
  {
   "cell_type": "code",
   "execution_count": 8,
   "metadata": {},
   "outputs": [],
   "source": [
    "cookie_value = input(\"Cookie: \")"
   ]
  },
  {
   "cell_type": "code",
   "execution_count": 9,
   "metadata": {},
   "outputs": [],
   "source": [
    "userid = input(\"Userid: \")"
   ]
  },
  {
   "cell_type": "code",
   "execution_count": 10,
   "metadata": {},
   "outputs": [],
   "source": [
    "import requests\n",
    "import json\n",
    "\n",
    "contacts_api_url = \"https://api.hubapi.com/crm/v3/objects/contacts\"\n",
    "ACCESS_TOKEN = ''\n",
    "headers = {\n",
    "    'Authorization': f'Bearer {ACCESS_TOKEN}',\n",
    "    'Content-Type': 'application/json'\n",
    "}\n",
    "\n",
    "def get_contacts():\n",
    "    all_contacts = []\n",
    "    after = None\n",
    "    \n",
    "    while True:\n",
    "        params = {\n",
    "            'properties': 'email,additionalEmails'\n",
    "        }\n",
    "        if after:\n",
    "            params['after'] = after\n",
    "            \n",
    "        response = requests.get(contacts_api_url, headers=headers, params=params)\n",
    "        data = response.json()\n",
    "        \n",
    "        contacts = data.get('results', [])\n",
    "        all_contacts.extend(contacts)\n",
    "        \n",
    "        paging = data.get('paging')\n",
    "        if paging and 'next' in paging:\n",
    "            after = paging['next']['after']\n",
    "        else:\n",
    "            break\n",
    "    \n",
    "    return all_contacts"
   ]
  },
  {
   "cell_type": "code",
   "execution_count": 12,
   "metadata": {},
   "outputs": [],
   "source": [
    "contacts = get_contacts()\n",
    "contact_id = 132916927299\n",
    "emails = []\n",
    "email_to_delete = \"johnny_allen1103061267+1@fuliss.net\""
   ]
  },
  {
   "cell_type": "code",
   "execution_count": 14,
   "metadata": {},
   "outputs": [],
   "source": [
    "for contact in contacts:\n",
    "    additional_emails = contact['properties'].get('additionalEmails')\n",
    "    if additional_emails:\n",
    "        contact_id = contact['id']\n",
    "        \n",
    "        contact_emails = additional_emails.split(';')\n",
    "        for email in contact_emails:\n",
    "            if email.strip():\n",
    "                emails.append({\n",
    "                    'contact_id': contact_id,\n",
    "                    'email': email.strip()\n",
    "                })"
   ]
  },
  {
   "cell_type": "code",
   "execution_count": 15,
   "metadata": {},
   "outputs": [],
   "source": [
    "url = f\"https://app.hubspot.com/api/graphql/crm?portalId={userid}&clienttimeout=60000&hs_static_app=crm-records-ui&hs_static_app_version=1.76446\"\n",
    "\n",
    "headers = {\n",
    "    \"x-hubspot-csrf-hubspotapi\": x_hubspot_csrf_hubspotapi,\n",
    "    \"Content-Type\": \"application/json\",\n",
    "    \"Cookie\": cookie_value\n",
    "}\n",
    "\n",
    "payload = {\n",
    "    \"operationName\": \"PropertiesCardDeleteEmail\",\n",
    "    \"variables\": {\n",
    "        \"deleteEmailInput\": {\n",
    "            \"objectId\": contact_id,\n",
    "            \"secondaryEmailAddress\": email_to_delete\n",
    "        },\n",
    "        \"propertyNames\": [\n",
    "            \"hs_additional_emails\"\n",
    "        ]\n",
    "    },\n",
    "    \"query\": \"\"\"mutation PropertiesCardDeleteEmail($deleteEmailInput: DeleteContactSecondaryEmailAddressInput!, $propertyNames: [String!]!) {\n",
    "  updateResponse: deleteContactSecondaryEmailAddress(input: $deleteEmailInput) {\n",
    "    userErrors\n",
    "    updatedObject {\n",
    "      id\n",
    "      properties(names: $propertyNames) {\n",
    "        id\n",
    "        ...PropertiesCardPropertyValueFragment\n",
    "        __typename\n",
    "      }\n",
    "      __typename\n",
    "    }\n",
    "    __typename\n",
    "  }\n",
    "}\n",
    "\n",
    "fragment PropertiesCardPropertyValueFragment on PropertyValue {\n",
    "  id\n",
    "  definition {\n",
    "    ...PropertiesCardPropertyDefinitionFragment\n",
    "    __typename\n",
    "  }\n",
    "  value\n",
    "  name\n",
    "  source\n",
    "  permission {\n",
    "    ...PropertiesCardFieldLevelPermissionFragment\n",
    "    __typename\n",
    "  }\n",
    "  __typename\n",
    "}\n",
    "\n",
    "fragment PropertiesCardPropertyDefinitionFragment on PropertyDefinition {\n",
    "  name\n",
    "  objectTypeId\n",
    "  label\n",
    "  deleted\n",
    "  hidden\n",
    "  hubspotDefined\n",
    "  dataSensitivity\n",
    "  __typename\n",
    "}\n",
    "\n",
    "fragment PropertiesCardFieldLevelPermissionFragment on FieldLevelPermission {\n",
    "  accessLevel\n",
    "  __typename\n",
    "}\"\"\"\n",
    "}\n",
    "\n",
    "def delete_secondary_email(contact_id, email_to_delete):\n",
    "    payload[\"variables\"][\"deleteEmailInput\"][\"objectId\"] = contact_id\n",
    "    payload[\"variables\"][\"deleteEmailInput\"][\"secondaryEmailAddress\"] = email_to_delete\n",
    "    \n",
    "    try:\n",
    "        response = requests.post(url, headers=headers, json=payload)\n",
    "        \n",
    "        if response.status_code == 200:\n",
    "            result = response.json()\n",
    "            print(f\"Email '{email_to_delete}' deleted from {contact_id}\")\n",
    "            return result\n",
    "        else:\n",
    "            print(f\"Error {response.status_code}: {response.text}\")\n",
    "            return None\n",
    "            \n",
    "    except Exception as e:\n",
    "        print(f\"Error {str(e)}\")\n",
    "        return None"
   ]
  },
  {
   "cell_type": "code",
   "execution_count": 16,
   "metadata": {},
   "outputs": [],
   "source": [
    "for email_data in emails:\n",
    "    contact_id = email_data['contact_id']\n",
    "    email_to_delete = email_data['email']\n",
    "    \n",
    "    print(f\"Eliminando email '{email_to_delete}' del contacto {contact_id}\")\n",
    "    delete_secondary_email(contact_id, email_to_delete)"
   ]
  }
 ],
 "metadata": {
  "kernelspec": {
   "display_name": "Python 3",
   "language": "python",
   "name": "python3"
  },
  "language_info": {
   "codemirror_mode": {
    "name": "ipython",
    "version": 3
   },
   "file_extension": ".py",
   "mimetype": "text/x-python",
   "name": "python",
   "nbconvert_exporter": "python",
   "pygments_lexer": "ipython3",
   "version": "3.13.5"
  }
 },
 "nbformat": 4,
 "nbformat_minor": 2
}
