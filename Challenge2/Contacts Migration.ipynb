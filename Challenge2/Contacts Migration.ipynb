{
 "cells": [
  {
   "cell_type": "markdown",
   "id": "ff859f61-bf2b-45f3-9adf-1346736f2f4c",
   "metadata": {},
   "source": [
    "# <center>MIGRATION MAIN TEMPLATE</center>"
   ]
  },
  {
   "cell_type": "markdown",
   "id": "ca30234e-48e5-4258-9fb2-c0a49b43a42c",
   "metadata": {},
   "source": [
    "## Libraries"
   ]
  },
  {
   "cell_type": "code",
   "execution_count": 1,
   "id": "43f3d7dd-59d8-44c6-8043-43b25f088936",
   "metadata": {
    "tags": []
   },
   "outputs": [],
   "source": [
    "import os\n",
    "import sys"
   ]
  },
  {
   "cell_type": "markdown",
   "id": "3797b03e-d2a4-4194-a604-05fb6fe113d4",
   "metadata": {
    "tags": []
   },
   "source": [
    "# <center>| - - - - Environment variables Input - - - |</center>"
   ]
  },
  {
   "cell_type": "markdown",
   "id": "ea930463-aee6-4f0e-a45f-4fdb1c5fd5d3",
   "metadata": {},
   "source": [
    "Set all yoyr variables, if ypu need extra help to undertan the inputs, please go to the notebook an made a serch, of the envriomental varieable name"
   ]
  },
  {
   "cell_type": "code",
   "execution_count": 2,
   "id": "9c0e6413-76f7-4cc2-a767-7f05ebda5170",
   "metadata": {
    "tags": []
   },
   "outputs": [],
   "source": [
    "os.environ[\"path\"] = r'C:\\Users\\Andres Garcia Bayona\\Documents\\GitHub\\PyDev-Operational-Library-For-Data-Engineers'"
   ]
  },
  {
   "cell_type": "code",
   "execution_count": 3,
   "id": "d7149876",
   "metadata": {
    "tags": []
   },
   "outputs": [],
   "source": [
    "os.environ[\"main_folder\"] = r'C:\\Users\\Andres Garcia Bayona\\Documents\\Training\\APIs, CRMs and notebook management\\Challenge2'"
   ]
  },
  {
   "cell_type": "code",
   "execution_count": 4,
   "id": "c1517e83",
   "metadata": {
    "tags": []
   },
   "outputs": [],
   "source": [
    "os.environ[\"records_folder\"] = r'C:\\Users\\Andres Garcia Bayona\\Documents\\Training\\APIs, CRMs and notebook management\\Challenge2'"
   ]
  },
  {
   "cell_type": "code",
   "execution_count": 5,
   "id": "a064e1c8",
   "metadata": {
    "tags": []
   },
   "outputs": [],
   "source": [
    "os.environ[\"csv_df_name\"] = 'contact_collection - C.csv'"
   ]
  },
  {
   "cell_type": "code",
   "execution_count": 6,
   "id": "fcdc53e6",
   "metadata": {
    "tags": []
   },
   "outputs": [],
   "source": [
    "os.environ[\"limit_of_options\"] = '30'"
   ]
  },
  {
   "cell_type": "code",
   "execution_count": 7,
   "id": "794a2ef5",
   "metadata": {
    "tags": []
   },
   "outputs": [],
   "source": [
    "os.environ[\"default_group_name\"] = 'contactinformation'"
   ]
  },
  {
   "cell_type": "code",
   "execution_count": 8,
   "id": "348b3e9d-eeed-4828-adeb-f0c125d6bb2b",
   "metadata": {
    "tags": []
   },
   "outputs": [],
   "source": [
    "os.environ[\"source_hubspot_access_token\"] = ''"
   ]
  },
  {
   "cell_type": "code",
   "execution_count": 9,
   "id": "b8d62e77-44d0-4643-9264-bf1aa2c1364c",
   "metadata": {
    "tags": []
   },
   "outputs": [],
   "source": [
    "os.environ[\"source_hubspot_object_type\"] = 'contact'"
   ]
  },
  {
   "cell_type": "code",
   "execution_count": 10,
   "id": "98c6bcc2",
   "metadata": {
    "tags": []
   },
   "outputs": [],
   "source": [
    "os.environ[\"r_mapping\"] = 'Properties Mapping - R.csv'"
   ]
  },
  {
   "cell_type": "code",
   "execution_count": 11,
   "id": "0d48a91c-daa4-45aa-8fa6-80872ef2c221",
   "metadata": {
    "tags": []
   },
   "outputs": [],
   "source": [
    "os.environ[\"hubspot_access_token\"] = ''"
   ]
  },
  {
   "cell_type": "code",
   "execution_count": 12,
   "id": "4e0db8bd-5546-4e59-8ec0-98d5e37a6893",
   "metadata": {
    "tags": []
   },
   "outputs": [],
   "source": [
    "os.environ[\"hubspot_object_type\"] = 'contacts'"
   ]
  },
  {
   "cell_type": "code",
   "execution_count": 13,
   "id": "d8b120b6",
   "metadata": {
    "tags": []
   },
   "outputs": [],
   "source": [
    "os.environ[\"hubspot_file_name\"] = 'qa-all-contacts.csv'"
   ]
  },
  {
   "cell_type": "code",
   "execution_count": 14,
   "id": "82297b71",
   "metadata": {
    "tags": []
   },
   "outputs": [],
   "source": [
    "os.environ[\"frame_unique_key_column_name\"] = 'Email'"
   ]
  },
  {
   "cell_type": "code",
   "execution_count": 15,
   "id": "6ce69b60",
   "metadata": {
    "tags": []
   },
   "outputs": [],
   "source": [
    "os.environ[\"hubspot_unique_key_column_name\"] = 'Email'"
   ]
  },
  {
   "cell_type": "markdown",
   "id": "3fbd7fcb-8683-412c-bdb3-5842e6ee697a",
   "metadata": {},
   "source": [
    "## Working Path"
   ]
  },
  {
   "cell_type": "code",
   "execution_count": 16,
   "id": "300187f1-9a9b-4c57-8559-41f644cd1e5d",
   "metadata": {
    "tags": []
   },
   "outputs": [],
   "source": [
    "path = os.getenv('path')\n",
    "jupyter_w_path_import_modules = path+r'\\modules\\imports'\n",
    "jupyter_w_path_hubspot_modules = path+r'\\modules\\migration-hubspot-to-hubspot'"
   ]
  },
  {
   "cell_type": "markdown",
   "id": "8bea8f5d-6f1f-4bab-8efc-31c5ba177284",
   "metadata": {},
   "source": [
    "## 1. Properties Mapping"
   ]
  },
  {
   "cell_type": "code",
   "execution_count": 17,
   "id": "6d4dcee5-3da5-4930-a519-0d4027002e91",
   "metadata": {
    "tags": []
   },
   "outputs": [],
   "source": [
    "s_properties_mapping = jupyter_w_path_import_modules+r'\\1_Properties_Mapping.ipynb'"
   ]
  },
  {
   "cell_type": "code",
   "execution_count": 18,
   "id": "d85e40c8",
   "metadata": {},
   "outputs": [
    {
     "data": {
      "text/plain": [
       "'C:\\\\Users\\\\Andres Garcia Bayona\\\\Documents\\\\GitHub\\\\PyDev-Operational-Library-For-Data-Engineers\\\\modules\\\\imports\\\\1_Properties_Mapping.ipynb'"
      ]
     },
     "execution_count": 18,
     "metadata": {},
     "output_type": "execute_result"
    }
   ],
   "source": [
    "s_properties_mapping"
   ]
  },
  {
   "cell_type": "code",
   "execution_count": 19,
   "id": "ee5a2b8f-c8bd-4d4f-93aa-27835f83bdec",
   "metadata": {
    "tags": []
   },
   "outputs": [
    {
     "data": {
      "text/markdown": [
       "<span style='color:black;font-weight:bold'>Started Data Read</span> "
      ],
      "text/plain": [
       "<IPython.core.display.Markdown object>"
      ]
     },
     "metadata": {},
     "output_type": "display_data"
    },
    {
     "data": {
      "text/markdown": [
       "<span style='color:black;font-weight:bold'>Data Read</span> "
      ],
      "text/plain": [
       "<IPython.core.display.Markdown object>"
      ]
     },
     "metadata": {},
     "output_type": "display_data"
    },
    {
     "data": {
      "text/markdown": [
       "<span style='color:black;font-weight:bold'>Running Mapping Function!</span> "
      ],
      "text/plain": [
       "<IPython.core.display.Markdown object>"
      ]
     },
     "metadata": {},
     "output_type": "display_data"
    },
    {
     "name": "stderr",
     "output_type": "stream",
     "text": [
      "C:\\Users\\Andres Garcia Bayona\\Documents\\GitHub\\PyDev-Operational-Library-For-Data-Engineers\\functions\\data_analysis\\properties_mapping.py:37: FutureWarning: DataFrame.applymap has been deprecated. Use DataFrame.map instead.\n",
      "  df = df.applymap(delete_unnecessary_blank_spaces)\n"
     ]
    },
    {
     "data": {
      "text/markdown": [
       "<span style='color:green;font-weight:bold'>Mapping Completed!</span> "
      ],
      "text/plain": [
       "<IPython.core.display.Markdown object>"
      ]
     },
     "metadata": {},
     "output_type": "display_data"
    },
    {
     "data": {
      "text/markdown": [
       "<span style='color:green;font-weight:bold'>File Saved As 'Properties Mapping.csv'</span> "
      ],
      "text/plain": [
       "<IPython.core.display.Markdown object>"
      ]
     },
     "metadata": {},
     "output_type": "display_data"
    }
   ],
   "source": [
    "%run \"C:\\\\Users\\\\Andres Garcia Bayona\\\\Documents\\\\GitHub\\\\PyDev-Operational-Library-For-Data-Engineers\\\\modules\\\\imports\\\\1_Properties_Mapping.ipynb\""
   ]
  },
  {
   "cell_type": "code",
   "execution_count": 20,
   "id": "a0143d46-2572-4638-bac7-a27c9a3ff6c6",
   "metadata": {
    "tags": []
   },
   "outputs": [
    {
     "data": {
      "text/html": [
       "<div>\n",
       "<style scoped>\n",
       "    .dataframe tbody tr th:only-of-type {\n",
       "        vertical-align: middle;\n",
       "    }\n",
       "\n",
       "    .dataframe tbody tr th {\n",
       "        vertical-align: top;\n",
       "    }\n",
       "\n",
       "    .dataframe thead th {\n",
       "        text-align: right;\n",
       "    }\n",
       "</style>\n",
       "<table border=\"1\" class=\"dataframe\">\n",
       "  <thead>\n",
       "    <tr style=\"text-align: right;\">\n",
       "      <th></th>\n",
       "      <th>Source Property Name</th>\n",
       "      <th>Random Value Sample</th>\n",
       "      <th>Must be on HubSpot?</th>\n",
       "      <th>Must be on HubSpot? No Reason</th>\n",
       "      <th>New Suggested Name for HubSpot</th>\n",
       "      <th>Internal Name Suggested for HubSpot</th>\n",
       "      <th>Number of records with values in this property</th>\n",
       "      <th>Options Found</th>\n",
       "      <th>Possible Field Type</th>\n",
       "      <th>Possible Internal Values Type</th>\n",
       "      <th>Possible Internal Field Type</th>\n",
       "      <th>Values related  from a foreign Frame?</th>\n",
       "      <th>Foreign file name</th>\n",
       "      <th>Foreign file path</th>\n",
       "      <th>Foreign column name to get values</th>\n",
       "      <th>Foreign column with shared key</th>\n",
       "      <th>Possible Group Name</th>\n",
       "    </tr>\n",
       "  </thead>\n",
       "  <tbody>\n",
       "    <tr>\n",
       "      <th>0</th>\n",
       "      <td>firstname</td>\n",
       "      <td>Carrie</td>\n",
       "      <td>Yes</td>\n",
       "      <td></td>\n",
       "      <td>Firstname</td>\n",
       "      <td>firstname</td>\n",
       "      <td>6789.0</td>\n",
       "      <td></td>\n",
       "      <td>Single-line text</td>\n",
       "      <td>string</td>\n",
       "      <td>text</td>\n",
       "      <td></td>\n",
       "      <td></td>\n",
       "      <td></td>\n",
       "      <td></td>\n",
       "      <td></td>\n",
       "      <td>contactinformation</td>\n",
       "    </tr>\n",
       "    <tr>\n",
       "      <th>1</th>\n",
       "      <td>lastname</td>\n",
       "      <td>Rees</td>\n",
       "      <td>Yes</td>\n",
       "      <td></td>\n",
       "      <td>Lastname</td>\n",
       "      <td>lastname</td>\n",
       "      <td>6789.0</td>\n",
       "      <td></td>\n",
       "      <td>Single-line text</td>\n",
       "      <td>string</td>\n",
       "      <td>text</td>\n",
       "      <td></td>\n",
       "      <td></td>\n",
       "      <td></td>\n",
       "      <td></td>\n",
       "      <td></td>\n",
       "      <td>contactinformation</td>\n",
       "    </tr>\n",
       "  </tbody>\n",
       "</table>\n",
       "</div>"
      ],
      "text/plain": [
       "  Source Property Name Random Value Sample Must be on HubSpot?  \\\n",
       "0            firstname              Carrie                 Yes   \n",
       "1             lastname                Rees                 Yes   \n",
       "\n",
       "  Must be on HubSpot? No Reason New Suggested Name for HubSpot  \\\n",
       "0                                                    Firstname   \n",
       "1                                                     Lastname   \n",
       "\n",
       "  Internal Name Suggested for HubSpot  \\\n",
       "0                           firstname   \n",
       "1                            lastname   \n",
       "\n",
       "   Number of records with values in this property Options Found  \\\n",
       "0                                          6789.0                 \n",
       "1                                          6789.0                 \n",
       "\n",
       "  Possible Field Type Possible Internal Values Type  \\\n",
       "0    Single-line text                        string   \n",
       "1    Single-line text                        string   \n",
       "\n",
       "  Possible Internal Field Type Values related  from a foreign Frame?  \\\n",
       "0                         text                                         \n",
       "1                         text                                         \n",
       "\n",
       "  Foreign file name Foreign file path Foreign column name to get values  \\\n",
       "0                                                                         \n",
       "1                                                                         \n",
       "\n",
       "  Foreign column with shared key Possible Group Name  \n",
       "0                                 contactinformation  \n",
       "1                                 contactinformation  "
      ]
     },
     "execution_count": 20,
     "metadata": {},
     "output_type": "execute_result"
    }
   ],
   "source": [
    "mapping.head(2)"
   ]
  },
  {
   "cell_type": "code",
   "execution_count": 21,
   "id": "a7c7187b-697a-4fdb-9adf-a9c863e7d260",
   "metadata": {
    "tags": []
   },
   "outputs": [
    {
     "data": {
      "text/html": [
       "<div>\n",
       "<style scoped>\n",
       "    .dataframe tbody tr th:only-of-type {\n",
       "        vertical-align: middle;\n",
       "    }\n",
       "\n",
       "    .dataframe tbody tr th {\n",
       "        vertical-align: top;\n",
       "    }\n",
       "\n",
       "    .dataframe thead th {\n",
       "        text-align: right;\n",
       "    }\n",
       "</style>\n",
       "<table border=\"1\" class=\"dataframe\">\n",
       "  <thead>\n",
       "    <tr style=\"text-align: right;\">\n",
       "      <th></th>\n",
       "      <th>firstname</th>\n",
       "      <th>lastname</th>\n",
       "      <th>country</th>\n",
       "      <th>phone</th>\n",
       "      <th>training___create_date</th>\n",
       "      <th>industry</th>\n",
       "      <th>address</th>\n",
       "      <th>checkbox</th>\n",
       "      <th>raw_email_id</th>\n",
       "      <th>hs_object_id</th>\n",
       "    </tr>\n",
       "  </thead>\n",
       "  <tbody>\n",
       "    <tr>\n",
       "      <th>0</th>\n",
       "      <td>Carrie</td>\n",
       "      <td>Rees</td>\n",
       "      <td>Dublin</td>\n",
       "      <td>0-045-278-522 ext 25</td>\n",
       "      <td>2021-03-26</td>\n",
       "      <td>Animal feeds</td>\n",
       "      <td>Boadicea   Lane, 1368</td>\n",
       "      <td>True</td>\n",
       "      <td>360</td>\n",
       "      <td>89900742223</td>\n",
       "    </tr>\n",
       "    <tr>\n",
       "      <th>1</th>\n",
       "      <td>Esmeralda</td>\n",
       "      <td>York</td>\n",
       "      <td>Oxford</td>\n",
       "      <td>6-866-445-484 ext 85</td>\n",
       "      <td>2021-10-27</td>\n",
       "      <td>Fruit and vegetables</td>\n",
       "      <td>Norfolk  Rue, 5174</td>\n",
       "      <td>True</td>\n",
       "      <td>268</td>\n",
       "      <td>89923835996</td>\n",
       "    </tr>\n",
       "  </tbody>\n",
       "</table>\n",
       "</div>"
      ],
      "text/plain": [
       "   firstname lastname country                 phone training___create_date  \\\n",
       "0     Carrie     Rees  Dublin  0-045-278-522 ext 25             2021-03-26   \n",
       "1  Esmeralda     York  Oxford  6-866-445-484 ext 85             2021-10-27   \n",
       "\n",
       "               industry                address checkbox  raw_email_id  \\\n",
       "0          Animal feeds  Boadicea   Lane, 1368     True           360   \n",
       "1  Fruit and vegetables     Norfolk  Rue, 5174     True           268   \n",
       "\n",
       "   hs_object_id  \n",
       "0   89900742223  \n",
       "1   89923835996  "
      ]
     },
     "execution_count": 21,
     "metadata": {},
     "output_type": "execute_result"
    }
   ],
   "source": [
    "df.head(2)"
   ]
  },
  {
   "cell_type": "markdown",
   "id": "0655fd14",
   "metadata": {},
   "source": [
    "## 2. Cross Mapping With Original HubSpot Set-Up"
   ]
  },
  {
   "cell_type": "code",
   "execution_count": 22,
   "id": "6a53a628-73c9-4d9d-be1e-7e5109b7a4c9",
   "metadata": {
    "tags": []
   },
   "outputs": [],
   "source": [
    "hubspot_cross_mapping = jupyter_w_path_hubspot_modules+r'\\hubspot_properties_setup_to_cross_mapping.ipynb'"
   ]
  },
  {
   "cell_type": "code",
   "execution_count": 23,
   "id": "a641762d",
   "metadata": {},
   "outputs": [
    {
     "data": {
      "text/plain": [
       "'C:\\\\Users\\\\Andres Garcia Bayona\\\\Documents\\\\GitHub\\\\PyDev-Operational-Library-For-Data-Engineers\\\\modules\\\\migration-hubspot-to-hubspot\\\\hubspot_properties_setup_to_cross_mapping.ipynb'"
      ]
     },
     "execution_count": 23,
     "metadata": {},
     "output_type": "execute_result"
    }
   ],
   "source": [
    "hubspot_cross_mapping"
   ]
  },
  {
   "cell_type": "code",
   "execution_count": 24,
   "id": "5b6e87ba-ea77-4b09-a486-35af94468209",
   "metadata": {
    "tags": []
   },
   "outputs": [
    {
     "ename": "KeyError",
     "evalue": "'results'",
     "output_type": "error",
     "traceback": [
      "\u001b[31m---------------------------------------------------------------------------\u001b[39m",
      "\u001b[31mKeyError\u001b[39m                                  Traceback (most recent call last)",
      "\u001b[36mFile \u001b[39m\u001b[32m~\\AppData\\Local\\Temp\\ipykernel_7892\\3350402589.py:1\u001b[39m\n\u001b[32m----> \u001b[39m\u001b[32m1\u001b[39m object_properties = \u001b[43mknow_all_object_properties\u001b[49m\u001b[43m(\u001b[49m\u001b[43maccess_token\u001b[49m\u001b[43m \u001b[49m\u001b[43m=\u001b[49m\u001b[43m \u001b[49m\u001b[43msource_hubspot_access_token\u001b[49m\u001b[43m,\u001b[49m\u001b[43m \u001b[49m\n\u001b[32m      2\u001b[39m \u001b[43m                                               \u001b[49m\u001b[43mobject_type\u001b[49m\u001b[43m \u001b[49m\u001b[43m=\u001b[49m\u001b[43m \u001b[49m\u001b[43msource_hubspot_object_type\u001b[49m\u001b[43m)\u001b[49m\n",
      "\u001b[36mFile \u001b[39m\u001b[32m~\\Documents\\GitHub\\PyDev-Operational-Library-For-Data-Engineers\\functions\\data_services_for_hubspot\\general_crm_records\\know_all_object_properties.py:24\u001b[39m, in \u001b[36mknow_all_object_properties\u001b[39m\u001b[34m(access_token, object_type)\u001b[39m\n\u001b[32m     20\u001b[39m url = \u001b[33m'\u001b[39m\u001b[33mhttps://api.hubapi.com/crm/v3/properties/\u001b[39m\u001b[38;5;132;01m{}\u001b[39;00m\u001b[33m'\u001b[39m.format(object_type)\n\u001b[32m     22\u001b[39m api_response = requests.request(\u001b[33m'\u001b[39m\u001b[33mGET\u001b[39m\u001b[33m'\u001b[39m, url, headers=headers)\n\u001b[32m---> \u001b[39m\u001b[32m24\u001b[39m data = \u001b[43mapi_response\u001b[49m\u001b[43m.\u001b[49m\u001b[43mjson\u001b[49m\u001b[43m(\u001b[49m\u001b[43m)\u001b[49m\u001b[43m[\u001b[49m\u001b[33;43m'\u001b[39;49m\u001b[33;43mresults\u001b[39;49m\u001b[33;43m'\u001b[39;49m\u001b[43m]\u001b[49m\n\u001b[32m     25\u001b[39m dataframe = pd.DataFrame(data)\n\u001b[32m     27\u001b[39m \u001b[38;5;28;01mreturn\u001b[39;00m dataframe\n",
      "\u001b[31mKeyError\u001b[39m: 'results'"
     ]
    },
    {
     "ename": "KeyError",
     "evalue": "'results'",
     "output_type": "error",
     "traceback": [
      "\u001b[31m---------------------------------------------------------------------------\u001b[39m",
      "\u001b[31mKeyError\u001b[39m                                  Traceback (most recent call last)",
      "\u001b[36mCell\u001b[39m\u001b[36m \u001b[39m\u001b[32mIn[24]\u001b[39m\u001b[32m, line 1\u001b[39m\n\u001b[32m----> \u001b[39m\u001b[32m1\u001b[39m \u001b[43mget_ipython\u001b[49m\u001b[43m(\u001b[49m\u001b[43m)\u001b[49m\u001b[43m.\u001b[49m\u001b[43mrun_line_magic\u001b[49m\u001b[43m(\u001b[49m\u001b[33;43m'\u001b[39;49m\u001b[33;43mrun\u001b[39;49m\u001b[33;43m'\u001b[39;49m\u001b[43m,\u001b[49m\u001b[43m \u001b[49m\u001b[33;43m'\u001b[39;49m\u001b[33;43m\"\u001b[39;49m\u001b[33;43mC:\u001b[39;49m\u001b[38;5;130;43;01m\\\\\u001b[39;49;00m\u001b[38;5;130;43;01m\\\\\u001b[39;49;00m\u001b[33;43mUsers\u001b[39;49m\u001b[38;5;130;43;01m\\\\\u001b[39;49;00m\u001b[38;5;130;43;01m\\\\\u001b[39;49;00m\u001b[33;43mAndres Garcia Bayona\u001b[39;49m\u001b[38;5;130;43;01m\\\\\u001b[39;49;00m\u001b[38;5;130;43;01m\\\\\u001b[39;49;00m\u001b[33;43mDocuments\u001b[39;49m\u001b[38;5;130;43;01m\\\\\u001b[39;49;00m\u001b[38;5;130;43;01m\\\\\u001b[39;49;00m\u001b[33;43mGitHub\u001b[39;49m\u001b[38;5;130;43;01m\\\\\u001b[39;49;00m\u001b[38;5;130;43;01m\\\\\u001b[39;49;00m\u001b[33;43mPyDev-Operational-Library-For-Data-Engineers\u001b[39;49m\u001b[38;5;130;43;01m\\\\\u001b[39;49;00m\u001b[38;5;130;43;01m\\\\\u001b[39;49;00m\u001b[33;43mmodules\u001b[39;49m\u001b[38;5;130;43;01m\\\\\u001b[39;49;00m\u001b[38;5;130;43;01m\\\\\u001b[39;49;00m\u001b[33;43mmigration-hubspot-to-hubspot\u001b[39;49m\u001b[38;5;130;43;01m\\\\\u001b[39;49;00m\u001b[38;5;130;43;01m\\\\\u001b[39;49;00m\u001b[33;43mhubspot_properties_setup_to_cross_mapping.ipynb\u001b[39;49m\u001b[33;43m\"\u001b[39;49m\u001b[33;43m'\u001b[39;49m\u001b[43m)\u001b[49m\n",
      "\u001b[36mFile \u001b[39m\u001b[32m~\\AppData\\Roaming\\Python\\Python313\\site-packages\\IPython\\core\\interactiveshell.py:2488\u001b[39m, in \u001b[36mInteractiveShell.run_line_magic\u001b[39m\u001b[34m(self, magic_name, line, _stack_depth)\u001b[39m\n\u001b[32m   2486\u001b[39m     kwargs[\u001b[33m'\u001b[39m\u001b[33mlocal_ns\u001b[39m\u001b[33m'\u001b[39m] = \u001b[38;5;28mself\u001b[39m.get_local_scope(stack_depth)\n\u001b[32m   2487\u001b[39m \u001b[38;5;28;01mwith\u001b[39;00m \u001b[38;5;28mself\u001b[39m.builtin_trap:\n\u001b[32m-> \u001b[39m\u001b[32m2488\u001b[39m     result = \u001b[43mfn\u001b[49m\u001b[43m(\u001b[49m\u001b[43m*\u001b[49m\u001b[43margs\u001b[49m\u001b[43m,\u001b[49m\u001b[43m \u001b[49m\u001b[43m*\u001b[49m\u001b[43m*\u001b[49m\u001b[43mkwargs\u001b[49m\u001b[43m)\u001b[49m\n\u001b[32m   2490\u001b[39m \u001b[38;5;66;03m# The code below prevents the output from being displayed\u001b[39;00m\n\u001b[32m   2491\u001b[39m \u001b[38;5;66;03m# when using magics with decorator @output_can_be_silenced\u001b[39;00m\n\u001b[32m   2492\u001b[39m \u001b[38;5;66;03m# when the last Python token in the expression is a ';'.\u001b[39;00m\n\u001b[32m   2493\u001b[39m \u001b[38;5;28;01mif\u001b[39;00m \u001b[38;5;28mgetattr\u001b[39m(fn, magic.MAGIC_OUTPUT_CAN_BE_SILENCED, \u001b[38;5;28;01mFalse\u001b[39;00m):\n",
      "\u001b[36mFile \u001b[39m\u001b[32m~\\AppData\\Roaming\\Python\\Python313\\site-packages\\IPython\\core\\magics\\execution.py:748\u001b[39m, in \u001b[36mExecutionMagics.run\u001b[39m\u001b[34m(self, parameter_s, runner, file_finder)\u001b[39m\n\u001b[32m    746\u001b[39m     \u001b[38;5;28;01mwith\u001b[39;00m preserve_keys(\u001b[38;5;28mself\u001b[39m.shell.user_ns, \u001b[33m'\u001b[39m\u001b[33m__file__\u001b[39m\u001b[33m'\u001b[39m):\n\u001b[32m    747\u001b[39m         \u001b[38;5;28mself\u001b[39m.shell.user_ns[\u001b[33m'\u001b[39m\u001b[33m__file__\u001b[39m\u001b[33m'\u001b[39m] = filename\n\u001b[32m--> \u001b[39m\u001b[32m748\u001b[39m         \u001b[38;5;28;43mself\u001b[39;49m\u001b[43m.\u001b[49m\u001b[43mshell\u001b[49m\u001b[43m.\u001b[49m\u001b[43msafe_execfile_ipy\u001b[49m\u001b[43m(\u001b[49m\u001b[43mfilename\u001b[49m\u001b[43m,\u001b[49m\u001b[43m \u001b[49m\u001b[43mraise_exceptions\u001b[49m\u001b[43m=\u001b[49m\u001b[38;5;28;43;01mTrue\u001b[39;49;00m\u001b[43m)\u001b[49m\n\u001b[32m    749\u001b[39m     \u001b[38;5;28;01mreturn\u001b[39;00m\n\u001b[32m    751\u001b[39m \u001b[38;5;66;03m# Control the response to exit() calls made by the script being run\u001b[39;00m\n",
      "\u001b[36mFile \u001b[39m\u001b[32m~\\AppData\\Roaming\\Python\\Python313\\site-packages\\IPython\\core\\interactiveshell.py:2979\u001b[39m, in \u001b[36mInteractiveShell.safe_execfile_ipy\u001b[39m\u001b[34m(self, fname, shell_futures, raise_exceptions)\u001b[39m\n\u001b[32m   2977\u001b[39m result = \u001b[38;5;28mself\u001b[39m.run_cell(cell, silent=\u001b[38;5;28;01mTrue\u001b[39;00m, shell_futures=shell_futures)\n\u001b[32m   2978\u001b[39m \u001b[38;5;28;01mif\u001b[39;00m raise_exceptions:\n\u001b[32m-> \u001b[39m\u001b[32m2979\u001b[39m     \u001b[43mresult\u001b[49m\u001b[43m.\u001b[49m\u001b[43mraise_error\u001b[49m\u001b[43m(\u001b[49m\u001b[43m)\u001b[49m\n\u001b[32m   2980\u001b[39m \u001b[38;5;28;01melif\u001b[39;00m \u001b[38;5;129;01mnot\u001b[39;00m result.success:\n\u001b[32m   2981\u001b[39m     \u001b[38;5;28;01mbreak\u001b[39;00m\n",
      "\u001b[36mFile \u001b[39m\u001b[32m~\\AppData\\Roaming\\Python\\Python313\\site-packages\\IPython\\core\\interactiveshell.py:310\u001b[39m, in \u001b[36mExecutionResult.raise_error\u001b[39m\u001b[34m(self)\u001b[39m\n\u001b[32m    308\u001b[39m     \u001b[38;5;28;01mraise\u001b[39;00m \u001b[38;5;28mself\u001b[39m.error_before_exec\n\u001b[32m    309\u001b[39m \u001b[38;5;28;01mif\u001b[39;00m \u001b[38;5;28mself\u001b[39m.error_in_exec \u001b[38;5;129;01mis\u001b[39;00m \u001b[38;5;129;01mnot\u001b[39;00m \u001b[38;5;28;01mNone\u001b[39;00m:\n\u001b[32m--> \u001b[39m\u001b[32m310\u001b[39m     \u001b[38;5;28;01mraise\u001b[39;00m \u001b[38;5;28mself\u001b[39m.error_in_exec\n",
      "    \u001b[31m[... skipping hidden 1 frame]\u001b[39m\n",
      "\u001b[36mFile \u001b[39m\u001b[32m~\\AppData\\Local\\Temp\\ipykernel_7892\\3350402589.py:1\u001b[39m\n\u001b[32m----> \u001b[39m\u001b[32m1\u001b[39m object_properties = \u001b[43mknow_all_object_properties\u001b[49m\u001b[43m(\u001b[49m\u001b[43maccess_token\u001b[49m\u001b[43m \u001b[49m\u001b[43m=\u001b[49m\u001b[43m \u001b[49m\u001b[43msource_hubspot_access_token\u001b[49m\u001b[43m,\u001b[49m\u001b[43m \u001b[49m\n\u001b[32m      2\u001b[39m \u001b[43m                                               \u001b[49m\u001b[43mobject_type\u001b[49m\u001b[43m \u001b[49m\u001b[43m=\u001b[49m\u001b[43m \u001b[49m\u001b[43msource_hubspot_object_type\u001b[49m\u001b[43m)\u001b[49m\n",
      "\u001b[36mFile \u001b[39m\u001b[32m~\\Documents\\GitHub\\PyDev-Operational-Library-For-Data-Engineers\\functions\\data_services_for_hubspot\\general_crm_records\\know_all_object_properties.py:24\u001b[39m, in \u001b[36mknow_all_object_properties\u001b[39m\u001b[34m(access_token, object_type)\u001b[39m\n\u001b[32m     20\u001b[39m url = \u001b[33m'\u001b[39m\u001b[33mhttps://api.hubapi.com/crm/v3/properties/\u001b[39m\u001b[38;5;132;01m{}\u001b[39;00m\u001b[33m'\u001b[39m.format(object_type)\n\u001b[32m     22\u001b[39m api_response = requests.request(\u001b[33m'\u001b[39m\u001b[33mGET\u001b[39m\u001b[33m'\u001b[39m, url, headers=headers)\n\u001b[32m---> \u001b[39m\u001b[32m24\u001b[39m data = \u001b[43mapi_response\u001b[49m\u001b[43m.\u001b[49m\u001b[43mjson\u001b[49m\u001b[43m(\u001b[49m\u001b[43m)\u001b[49m\u001b[43m[\u001b[49m\u001b[33;43m'\u001b[39;49m\u001b[33;43mresults\u001b[39;49m\u001b[33;43m'\u001b[39;49m\u001b[43m]\u001b[49m\n\u001b[32m     25\u001b[39m dataframe = pd.DataFrame(data)\n\u001b[32m     27\u001b[39m \u001b[38;5;28;01mreturn\u001b[39;00m dataframe\n",
      "\u001b[31mKeyError\u001b[39m: 'results'"
     ]
    }
   ],
   "source": [
    "%run \"C:\\\\Users\\\\Andres Garcia Bayona\\\\Documents\\\\GitHub\\\\PyDev-Operational-Library-For-Data-Engineers\\\\modules\\\\migration-hubspot-to-hubspot\\\\hubspot_properties_setup_to_cross_mapping.ipynb\""
   ]
  },
  {
   "cell_type": "code",
   "execution_count": null,
   "id": "03c55007-50d4-4d57-b346-2ba1a19d4ebd",
   "metadata": {
    "tags": []
   },
   "outputs": [],
   "source": [
    "mapping"
   ]
  },
  {
   "cell_type": "code",
   "execution_count": null,
   "id": "51915050-8042-4b75-b842-9d923e0cedeb",
   "metadata": {
    "tags": []
   },
   "outputs": [],
   "source": [
    "mapping"
   ]
  },
  {
   "cell_type": "markdown",
   "id": "412068f8",
   "metadata": {},
   "source": [
    "## 3. Update And Create Properties"
   ]
  },
  {
   "cell_type": "code",
   "execution_count": null,
   "id": "f6994cdc-b867-4f3b-bd20-6875db821963",
   "metadata": {
    "tags": []
   },
   "outputs": [],
   "source": [
    "create_and_update_properties = jupyter_w_path_import_modules+r'\\2_create_and_update_properties.ipynb'"
   ]
  },
  {
   "cell_type": "code",
   "execution_count": null,
   "id": "d0620235",
   "metadata": {},
   "outputs": [],
   "source": [
    "create_and_update_properties"
   ]
  },
  {
   "cell_type": "code",
   "execution_count": null,
   "id": "c5dc1d54-b0c4-4f5e-ad71-95d0d48b046e",
   "metadata": {
    "tags": []
   },
   "outputs": [],
   "source": [
    "%run \"C:\\\\Users\\\\Andres Garcia Bayona\\\\Documents\\\\GitHub\\\\PyDev-Operational-Library-For-Data-Engineers\\\\modules\\\\imports\\\\2_create_and_update_properties.ipynb\""
   ]
  },
  {
   "cell_type": "code",
   "execution_count": null,
   "id": "ae2bc197-5ce0-4367-93c6-b3e8a60ac1f4",
   "metadata": {
    "tags": []
   },
   "outputs": [],
   "source": [
    "mapping_reviewed[mapping_reviewed[\"Operation State\"] != \"Success! Set-Up Correctly\"]"
   ]
  },
  {
   "cell_type": "markdown",
   "id": "20168df5",
   "metadata": {},
   "source": [
    "## 4. Default Transformations"
   ]
  },
  {
   "cell_type": "code",
   "execution_count": 25,
   "id": "3697b9e9",
   "metadata": {
    "tags": []
   },
   "outputs": [],
   "source": [
    "default_transformations = jupyter_w_path_import_modules+r'\\3_default_data_transformation.ipynb'"
   ]
  },
  {
   "cell_type": "code",
   "execution_count": 26,
   "id": "9d6714f9",
   "metadata": {},
   "outputs": [
    {
     "data": {
      "text/plain": [
       "'C:\\\\Users\\\\Andres Garcia Bayona\\\\Documents\\\\GitHub\\\\PyDev-Operational-Library-For-Data-Engineers\\\\modules\\\\imports\\\\3_default_data_transformation.ipynb'"
      ]
     },
     "execution_count": 26,
     "metadata": {},
     "output_type": "execute_result"
    }
   ],
   "source": [
    "default_transformations"
   ]
  },
  {
   "cell_type": "code",
   "execution_count": 27,
   "id": "0e5b1060",
   "metadata": {
    "tags": []
   },
   "outputs": [
    {
     "data": {
      "text/markdown": [
       "<span style='color:black;font-weight:bold'>Data Transformations Started</span> "
      ],
      "text/plain": [
       "<IPython.core.display.Markdown object>"
      ]
     },
     "metadata": {},
     "output_type": "display_data"
    },
    {
     "data": {
      "text/markdown": [
       "<span style='color:green;font-weight:bold'>Renamed Columns Done</span> "
      ],
      "text/plain": [
       "<IPython.core.display.Markdown object>"
      ]
     },
     "metadata": {},
     "output_type": "display_data"
    },
    {
     "data": {
      "text/markdown": [
       "<span style='color:black;font-weight:bold'>Columns To Delete</span> "
      ],
      "text/plain": [
       "<IPython.core.display.Markdown object>"
      ]
     },
     "metadata": {},
     "output_type": "display_data"
    },
    {
     "name": "stdout",
     "output_type": "stream",
     "text": [
      "[]\n"
     ]
    },
    {
     "data": {
      "text/markdown": [
       "<span style='color:green;font-weight:bold'>Eliminated Columns Done:</span> "
      ],
      "text/plain": [
       "<IPython.core.display.Markdown object>"
      ]
     },
     "metadata": {},
     "output_type": "display_data"
    },
    {
     "data": {
      "text/markdown": [
       "<span style='color:black;font-weight:bold'>Fix Format for Date Columns</span> "
      ],
      "text/plain": [
       "<IPython.core.display.Markdown object>"
      ]
     },
     "metadata": {},
     "output_type": "display_data"
    },
    {
     "name": "stdout",
     "output_type": "stream",
     "text": [
      "Fix Completed For: Training Create Date\n"
     ]
    },
    {
     "data": {
      "text/markdown": [
       "<span style='color:green;font-weight:bold'>Fixed Dates Columns</span> "
      ],
      "text/plain": [
       "<IPython.core.display.Markdown object>"
      ]
     },
     "metadata": {},
     "output_type": "display_data"
    },
    {
     "data": {
      "text/markdown": [
       "<span style='color:black;font-weight:bold'>Fix Single checkbox Columns</span> "
      ],
      "text/plain": [
       "<IPython.core.display.Markdown object>"
      ]
     },
     "metadata": {},
     "output_type": "display_data"
    },
    {
     "name": "stdout",
     "output_type": "stream",
     "text": [
      "Fix Completed For: Checkbox\n"
     ]
    },
    {
     "data": {
      "text/markdown": [
       "<span style='color:green;font-weight:bold'>Fixed Checkbox Columns</span> "
      ],
      "text/plain": [
       "<IPython.core.display.Markdown object>"
      ]
     },
     "metadata": {},
     "output_type": "display_data"
    },
    {
     "data": {
      "text/markdown": [
       "<span style='color:black;font-weight:bold'>Fix Mutiplecheck boxColumns</span> "
      ],
      "text/plain": [
       "<IPython.core.display.Markdown object>"
      ]
     },
     "metadata": {},
     "output_type": "display_data"
    },
    {
     "name": "stdout",
     "output_type": "stream",
     "text": [
      "Fix Completed For: Industry\n"
     ]
    },
    {
     "data": {
      "text/markdown": [
       "<span style='color:green;font-weight:bold'>Fixed Multiple-Checkbox Columns</span> "
      ],
      "text/plain": [
       "<IPython.core.display.Markdown object>"
      ]
     },
     "metadata": {},
     "output_type": "display_data"
    }
   ],
   "source": [
    "%run \"C:\\\\Users\\\\Andres Garcia Bayona\\\\Documents\\\\GitHub\\\\PyDev-Operational-Library-For-Data-Engineers\\\\modules\\\\imports\\\\3_default_data_transformation.ipynb\""
   ]
  },
  {
   "cell_type": "markdown",
   "id": "84063408",
   "metadata": {},
   "source": [
    "## 5. Bring Relational Tables Values"
   ]
  },
  {
   "cell_type": "code",
   "execution_count": 28,
   "id": "66baa9c0",
   "metadata": {
    "tags": []
   },
   "outputs": [],
   "source": [
    "bring_relational_tables_values = jupyter_w_path_import_modules+r'\\4_bring_relational_tables_values.ipynb'"
   ]
  },
  {
   "cell_type": "code",
   "execution_count": 29,
   "id": "9812a76b",
   "metadata": {},
   "outputs": [
    {
     "data": {
      "text/plain": [
       "'C:\\\\Users\\\\Andres Garcia Bayona\\\\Documents\\\\GitHub\\\\PyDev-Operational-Library-For-Data-Engineers\\\\modules\\\\imports\\\\4_bring_relational_tables_values.ipynb'"
      ]
     },
     "execution_count": 29,
     "metadata": {},
     "output_type": "execute_result"
    }
   ],
   "source": [
    "bring_relational_tables_values"
   ]
  },
  {
   "cell_type": "code",
   "execution_count": 30,
   "id": "74d27a48",
   "metadata": {
    "tags": []
   },
   "outputs": [
    {
     "name": "stdout",
     "output_type": "stream",
     "text": [
      "Loop # 0\n",
      "Keys Processed as Int\n",
      "Process start!\n",
      "Process successfully completed!\n"
     ]
    }
   ],
   "source": [
    "%run \"C:\\\\Users\\\\Andres Garcia Bayona\\\\Documents\\\\GitHub\\\\PyDev-Operational-Library-For-Data-Engineers\\\\modules\\\\imports\\\\4_bring_relational_tables_values.ipynb\""
   ]
  },
  {
   "cell_type": "code",
   "execution_count": 31,
   "id": "db28e40e",
   "metadata": {},
   "outputs": [],
   "source": [
    "from transformations import extract_email\n",
    "\n",
    "df['Email'] = df['Email'].apply(extract_email)"
   ]
  },
  {
   "cell_type": "code",
   "execution_count": 32,
   "id": "657851ed",
   "metadata": {},
   "outputs": [],
   "source": [
    "df.to_csv('../Challenge2/File To Import.csv', index=False)"
   ]
  },
  {
   "cell_type": "markdown",
   "id": "4ff500db",
   "metadata": {},
   "source": [
    "## 6. Detect Invalid Emails"
   ]
  },
  {
   "cell_type": "code",
   "execution_count": 33,
   "id": "d3807f68",
   "metadata": {
    "tags": []
   },
   "outputs": [],
   "source": [
    "detect_invalid_emails = jupyter_w_path_import_modules+r'\\detect_invalid_emails.ipynb'"
   ]
  },
  {
   "cell_type": "code",
   "execution_count": 34,
   "id": "8fc90512",
   "metadata": {},
   "outputs": [
    {
     "data": {
      "text/plain": [
       "'C:\\\\Users\\\\Andres Garcia Bayona\\\\Documents\\\\GitHub\\\\PyDev-Operational-Library-For-Data-Engineers\\\\modules\\\\imports\\\\detect_invalid_emails.ipynb'"
      ]
     },
     "execution_count": 34,
     "metadata": {},
     "output_type": "execute_result"
    }
   ],
   "source": [
    "detect_invalid_emails"
   ]
  },
  {
   "cell_type": "code",
   "execution_count": 35,
   "id": "072588e4",
   "metadata": {
    "tags": []
   },
   "outputs": [],
   "source": [
    "%run \"C:\\\\Users\\\\Andres Garcia Bayona\\\\Documents\\\\GitHub\\\\PyDev-Operational-Library-For-Data-Engineers\\\\modules\\\\imports\\\\detect_invalid_emails.ipynb\""
   ]
  },
  {
   "cell_type": "code",
   "execution_count": 36,
   "id": "2b3a1058",
   "metadata": {},
   "outputs": [
    {
     "data": {
      "text/plain": [
       "Series([], Name: Email, dtype: object)"
      ]
     },
     "execution_count": 36,
     "metadata": {},
     "output_type": "execute_result"
    }
   ],
   "source": [
    "records_invalid_emails['Email']"
   ]
  },
  {
   "cell_type": "markdown",
   "id": "1fe8589a",
   "metadata": {},
   "source": [
    "## 7. Duplicates Managment"
   ]
  },
  {
   "cell_type": "code",
   "execution_count": 37,
   "id": "73bc8db0",
   "metadata": {
    "tags": []
   },
   "outputs": [],
   "source": [
    "duplicate_managment = jupyter_w_path_import_modules+r'\\duplicate_managment_add_email_alias.ipynb'"
   ]
  },
  {
   "cell_type": "code",
   "execution_count": 38,
   "id": "2d3a96c1",
   "metadata": {},
   "outputs": [
    {
     "data": {
      "text/plain": [
       "'C:\\\\Users\\\\Andres Garcia Bayona\\\\Documents\\\\GitHub\\\\PyDev-Operational-Library-For-Data-Engineers\\\\modules\\\\imports\\\\duplicate_managment_add_email_alias.ipynb'"
      ]
     },
     "execution_count": 38,
     "metadata": {},
     "output_type": "execute_result"
    }
   ],
   "source": [
    "duplicate_managment"
   ]
  },
  {
   "cell_type": "code",
   "execution_count": 39,
   "id": "eb854f1d",
   "metadata": {},
   "outputs": [
    {
     "name": "stdout",
     "output_type": "stream",
     "text": [
      "279 Duplicated Records Found\n",
      "✔ Frame Free Of Duplicates\n"
     ]
    }
   ],
   "source": [
    "%run \"C:\\\\Users\\\\Andres Garcia Bayona\\\\Documents\\\\GitHub\\\\PyDev-Operational-Library-For-Data-Engineers\\\\modules\\\\imports\\\\duplicate_managment_add_email_alias.ipynb\""
   ]
  },
  {
   "cell_type": "code",
   "execution_count": 40,
   "id": "2db5922c",
   "metadata": {},
   "outputs": [
    {
     "data": {
      "text/plain": [
       "6131          tyson_newman1021718471@yahoo.com\n",
       "6675          tyson_newman1021718471@yahoo.com\n",
       "6665          tyson_newman1021718471@yahoo.com\n",
       "6058          tyson_newman1021718471@yahoo.com\n",
       "5062    sebastian_parker1458479109@joiniaa.com\n",
       "                         ...                  \n",
       "907             alan_warner22954315@fuliss.net\n",
       "2824            alan_warner22954315@fuliss.net\n",
       "2997            alan_warner22954315@fuliss.net\n",
       "279             alan_warner22954315@fuliss.net\n",
       "192             alan_warner22954315@fuliss.net\n",
       "Name: Email, Length: 279, dtype: object"
      ]
     },
     "execution_count": 40,
     "metadata": {},
     "output_type": "execute_result"
    }
   ],
   "source": [
    "duplicates_frame['Email']"
   ]
  },
  {
   "cell_type": "code",
   "execution_count": 41,
   "id": "db54dfc8",
   "metadata": {},
   "outputs": [
    {
     "data": {
      "text/html": [
       "<div>\n",
       "<style scoped>\n",
       "    .dataframe tbody tr th:only-of-type {\n",
       "        vertical-align: middle;\n",
       "    }\n",
       "\n",
       "    .dataframe tbody tr th {\n",
       "        vertical-align: top;\n",
       "    }\n",
       "\n",
       "    .dataframe thead th {\n",
       "        text-align: right;\n",
       "    }\n",
       "</style>\n",
       "<table border=\"1\" class=\"dataframe\">\n",
       "  <thead>\n",
       "    <tr style=\"text-align: right;\">\n",
       "      <th></th>\n",
       "      <th>First Name</th>\n",
       "      <th>Last Name</th>\n",
       "      <th>Country/Region</th>\n",
       "      <th>Phone Number</th>\n",
       "      <th>Training Create Date</th>\n",
       "      <th>Industry</th>\n",
       "      <th>Street Address</th>\n",
       "      <th>Checkbox</th>\n",
       "      <th>Email</th>\n",
       "      <th>Temporary ID</th>\n",
       "      <th>Email Validation</th>\n",
       "      <th>Original Email</th>\n",
       "    </tr>\n",
       "  </thead>\n",
       "  <tbody>\n",
       "    <tr>\n",
       "      <th>0</th>\n",
       "      <td>Carrie</td>\n",
       "      <td>Rees</td>\n",
       "      <td>Dublin</td>\n",
       "      <td>0-045-278-522 ext 25</td>\n",
       "      <td>2021-03-26</td>\n",
       "      <td>Animal feeds</td>\n",
       "      <td>Boadicea   Lane, 1368</td>\n",
       "      <td>Yes</td>\n",
       "      <td>carrie_rees1243518944@tonsy.org</td>\n",
       "      <td>89900742223</td>\n",
       "      <td>Valid</td>\n",
       "      <td>NaN</td>\n",
       "    </tr>\n",
       "    <tr>\n",
       "      <th>1</th>\n",
       "      <td>Esmeralda</td>\n",
       "      <td>York</td>\n",
       "      <td>Oxford</td>\n",
       "      <td>6-866-445-484 ext 85</td>\n",
       "      <td>2021-10-27</td>\n",
       "      <td>Fruit and vegetables</td>\n",
       "      <td>Norfolk  Rue, 5174</td>\n",
       "      <td>Yes</td>\n",
       "      <td>esmeralda_york235096819@ubusive.com</td>\n",
       "      <td>89923835996</td>\n",
       "      <td>Valid</td>\n",
       "      <td>NaN</td>\n",
       "    </tr>\n",
       "    <tr>\n",
       "      <th>2</th>\n",
       "      <td>Javier</td>\n",
       "      <td>Ogilvy</td>\n",
       "      <td>Limerick</td>\n",
       "      <td>4-330-564-786 ext 2</td>\n",
       "      <td>2021-05-10</td>\n",
       "      <td>Animal feeds</td>\n",
       "      <td>Walnut Route, 8868</td>\n",
       "      <td>Yes</td>\n",
       "      <td>javier_ogilvy1286833203@sveldo.biz</td>\n",
       "      <td>89926039813</td>\n",
       "      <td>Valid</td>\n",
       "      <td>NaN</td>\n",
       "    </tr>\n",
       "    <tr>\n",
       "      <th>3</th>\n",
       "      <td>Payton</td>\n",
       "      <td>Becker</td>\n",
       "      <td>Cork</td>\n",
       "      <td>4-822-073-186 ext 19</td>\n",
       "      <td>2021-07-31</td>\n",
       "      <td>Meat</td>\n",
       "      <td>Thomas More   Walk, 6363</td>\n",
       "      <td>Yes</td>\n",
       "      <td>payton_becker94954582@acrit.org</td>\n",
       "      <td>89931282301</td>\n",
       "      <td>Valid</td>\n",
       "      <td>NaN</td>\n",
       "    </tr>\n",
       "    <tr>\n",
       "      <th>4</th>\n",
       "      <td>Aeris</td>\n",
       "      <td>Clarke</td>\n",
       "      <td>Winchester</td>\n",
       "      <td>0-206-223-571 ext 60</td>\n",
       "      <td>2021-02-07</td>\n",
       "      <td>Poultry and fish</td>\n",
       "      <td>Baylis  Avenue, 5446</td>\n",
       "      <td>Yes</td>\n",
       "      <td>aeris_clarke836034276@qater.org</td>\n",
       "      <td>89923178834</td>\n",
       "      <td>Valid</td>\n",
       "      <td>NaN</td>\n",
       "    </tr>\n",
       "    <tr>\n",
       "      <th>...</th>\n",
       "      <td>...</td>\n",
       "      <td>...</td>\n",
       "      <td>...</td>\n",
       "      <td>...</td>\n",
       "      <td>...</td>\n",
       "      <td>...</td>\n",
       "      <td>...</td>\n",
       "      <td>...</td>\n",
       "      <td>...</td>\n",
       "      <td>...</td>\n",
       "      <td>...</td>\n",
       "      <td>...</td>\n",
       "    </tr>\n",
       "    <tr>\n",
       "      <th>6931</th>\n",
       "      <td>Alan</td>\n",
       "      <td>Warner</td>\n",
       "      <td>England</td>\n",
       "      <td>7-260-282-170 ext 87</td>\n",
       "      <td>2021-04-28</td>\n",
       "      <td>Meat</td>\n",
       "      <td>Bede  Avenue, 4773</td>\n",
       "      <td>Yes</td>\n",
       "      <td>alan_warner22954315@fuliss.net</td>\n",
       "      <td>89929492338</td>\n",
       "      <td>Valid</td>\n",
       "      <td>alan_warner22954315@fuliss.net</td>\n",
       "    </tr>\n",
       "    <tr>\n",
       "      <th>6932</th>\n",
       "      <td>Alan</td>\n",
       "      <td>Warner</td>\n",
       "      <td>England</td>\n",
       "      <td>7-260-282-170 ext 2</td>\n",
       "      <td>2021-03-04</td>\n",
       "      <td>Poultry and fish</td>\n",
       "      <td>Cedarne  Vale, 145</td>\n",
       "      <td>Yes</td>\n",
       "      <td>alan_warner22954315+101@fuliss.net</td>\n",
       "      <td>89922872760</td>\n",
       "      <td>Valid</td>\n",
       "      <td>alan_warner22954315@fuliss.net</td>\n",
       "    </tr>\n",
       "    <tr>\n",
       "      <th>6933</th>\n",
       "      <td></td>\n",
       "      <td></td>\n",
       "      <td>England</td>\n",
       "      <td></td>\n",
       "      <td>2021-08-08</td>\n",
       "      <td>Bakery products</td>\n",
       "      <td>Timothy  Lane, 7367</td>\n",
       "      <td>Yes</td>\n",
       "      <td>alan_warner22954315+102@fuliss.net</td>\n",
       "      <td>89924828747</td>\n",
       "      <td>Valid</td>\n",
       "      <td>alan_warner22954315@fuliss.net</td>\n",
       "    </tr>\n",
       "    <tr>\n",
       "      <th>6934</th>\n",
       "      <td></td>\n",
       "      <td></td>\n",
       "      <td>England</td>\n",
       "      <td>7-260-282-170 ext 44</td>\n",
       "      <td>2021-12-06</td>\n",
       "      <td>Bakery products</td>\n",
       "      <td>Chartham  Tunnel, 2674</td>\n",
       "      <td>Yes</td>\n",
       "      <td>alan_warner22954315+103@fuliss.net</td>\n",
       "      <td>89922428342</td>\n",
       "      <td>Valid</td>\n",
       "      <td>alan_warner22954315@fuliss.net</td>\n",
       "    </tr>\n",
       "    <tr>\n",
       "      <th>6935</th>\n",
       "      <td></td>\n",
       "      <td></td>\n",
       "      <td>England</td>\n",
       "      <td></td>\n",
       "      <td>2021-05-28</td>\n",
       "      <td>Fruit and vegetables</td>\n",
       "      <td>Vincent  Drive, 874</td>\n",
       "      <td>Yes</td>\n",
       "      <td>alan_warner22954315+104@fuliss.net</td>\n",
       "      <td>89922983299</td>\n",
       "      <td>Valid</td>\n",
       "      <td>alan_warner22954315@fuliss.net</td>\n",
       "    </tr>\n",
       "  </tbody>\n",
       "</table>\n",
       "<p>6936 rows × 12 columns</p>\n",
       "</div>"
      ],
      "text/plain": [
       "     First Name Last Name Country/Region          Phone Number  \\\n",
       "0        Carrie      Rees         Dublin  0-045-278-522 ext 25   \n",
       "1     Esmeralda      York         Oxford  6-866-445-484 ext 85   \n",
       "2        Javier    Ogilvy       Limerick   4-330-564-786 ext 2   \n",
       "3        Payton    Becker           Cork  4-822-073-186 ext 19   \n",
       "4         Aeris    Clarke     Winchester  0-206-223-571 ext 60   \n",
       "...         ...       ...            ...                   ...   \n",
       "6931       Alan    Warner        England  7-260-282-170 ext 87   \n",
       "6932       Alan    Warner        England   7-260-282-170 ext 2   \n",
       "6933                             England                         \n",
       "6934                             England  7-260-282-170 ext 44   \n",
       "6935                             England                         \n",
       "\n",
       "     Training Create Date              Industry            Street Address  \\\n",
       "0              2021-03-26          Animal feeds     Boadicea   Lane, 1368   \n",
       "1              2021-10-27  Fruit and vegetables        Norfolk  Rue, 5174   \n",
       "2              2021-05-10          Animal feeds        Walnut Route, 8868   \n",
       "3              2021-07-31                  Meat  Thomas More   Walk, 6363   \n",
       "4              2021-02-07      Poultry and fish      Baylis  Avenue, 5446   \n",
       "...                   ...                   ...                       ...   \n",
       "6931           2021-04-28                  Meat        Bede  Avenue, 4773   \n",
       "6932           2021-03-04      Poultry and fish        Cedarne  Vale, 145   \n",
       "6933           2021-08-08       Bakery products       Timothy  Lane, 7367   \n",
       "6934           2021-12-06       Bakery products    Chartham  Tunnel, 2674   \n",
       "6935           2021-05-28  Fruit and vegetables       Vincent  Drive, 874   \n",
       "\n",
       "     Checkbox                                Email  Temporary ID  \\\n",
       "0         Yes      carrie_rees1243518944@tonsy.org   89900742223   \n",
       "1         Yes  esmeralda_york235096819@ubusive.com   89923835996   \n",
       "2         Yes   javier_ogilvy1286833203@sveldo.biz   89926039813   \n",
       "3         Yes      payton_becker94954582@acrit.org   89931282301   \n",
       "4         Yes      aeris_clarke836034276@qater.org   89923178834   \n",
       "...       ...                                  ...           ...   \n",
       "6931      Yes       alan_warner22954315@fuliss.net   89929492338   \n",
       "6932      Yes   alan_warner22954315+101@fuliss.net   89922872760   \n",
       "6933      Yes   alan_warner22954315+102@fuliss.net   89924828747   \n",
       "6934      Yes   alan_warner22954315+103@fuliss.net   89922428342   \n",
       "6935      Yes   alan_warner22954315+104@fuliss.net   89922983299   \n",
       "\n",
       "     Email Validation                  Original Email  \n",
       "0               Valid                             NaN  \n",
       "1               Valid                             NaN  \n",
       "2               Valid                             NaN  \n",
       "3               Valid                             NaN  \n",
       "4               Valid                             NaN  \n",
       "...               ...                             ...  \n",
       "6931            Valid  alan_warner22954315@fuliss.net  \n",
       "6932            Valid  alan_warner22954315@fuliss.net  \n",
       "6933            Valid  alan_warner22954315@fuliss.net  \n",
       "6934            Valid  alan_warner22954315@fuliss.net  \n",
       "6935            Valid  alan_warner22954315@fuliss.net  \n",
       "\n",
       "[6936 rows x 12 columns]"
      ]
     },
     "execution_count": 41,
     "metadata": {},
     "output_type": "execute_result"
    }
   ],
   "source": [
    "df"
   ]
  },
  {
   "cell_type": "markdown",
   "id": "f818a5cf",
   "metadata": {},
   "source": [
    "## 8. Find Record ID"
   ]
  },
  {
   "cell_type": "code",
   "execution_count": 42,
   "id": "0ee7afca",
   "metadata": {},
   "outputs": [],
   "source": [
    "find_record_id = jupyter_w_path_import_modules+r'\\find_record_id.ipynb'"
   ]
  },
  {
   "cell_type": "code",
   "execution_count": 43,
   "id": "80e99b87",
   "metadata": {},
   "outputs": [
    {
     "data": {
      "text/plain": [
       "'C:\\\\Users\\\\Andres Garcia Bayona\\\\Documents\\\\GitHub\\\\PyDev-Operational-Library-For-Data-Engineers\\\\modules\\\\imports\\\\find_record_id.ipynb'"
      ]
     },
     "execution_count": 43,
     "metadata": {},
     "output_type": "execute_result"
    }
   ],
   "source": [
    "find_record_id"
   ]
  },
  {
   "cell_type": "code",
   "execution_count": 44,
   "id": "4794f6eb",
   "metadata": {},
   "outputs": [
    {
     "name": "stdout",
     "output_type": "stream",
     "text": [
      "IDs Processed as String\n",
      "Process start!\n",
      "Process successfully completed!\n",
      "WARNING: The key is no unique, please review before continue.\n"
     ]
    },
    {
     "name": "stderr",
     "output_type": "stream",
     "text": [
      "C:\\Users\\Andres Garcia Bayona\\Documents\\GitHub\\PyDev-Operational-Library-For-Data-Engineers\\functions\\find_hubspot_id\\find_hubspot_record_id_by_unique_key.py:63: PerformanceWarning: DataFrame is highly fragmented.  This is usually the result of calling `frame.insert` many times, which has poor performance.  Consider joining all columns at once using pd.concat(axis=1) instead. To get a de-fragmented frame, use `newframe = frame.copy()`\n",
      "  hubspot_data.insert(0, 'Foreign Values', '')\n"
     ]
    }
   ],
   "source": [
    "%run \"C:\\\\Users\\\\Andres Garcia Bayona\\\\Documents\\\\GitHub\\\\PyDev-Operational-Library-For-Data-Engineers\\\\modules\\\\imports\\\\find_record_id.ipynb\""
   ]
  },
  {
   "cell_type": "code",
   "execution_count": 45,
   "id": "8c3348f0",
   "metadata": {},
   "outputs": [
    {
     "data": {
      "text/plain": [
       "0                   \n",
       "1       132628438581\n",
       "2                NaN\n",
       "3                NaN\n",
       "4                NaN\n",
       "            ...     \n",
       "6931             NaN\n",
       "6932             NaN\n",
       "6933             NaN\n",
       "6934             NaN\n",
       "6935             NaN\n",
       "Name: HubSpot Record ID, Length: 6936, dtype: object"
      ]
     },
     "execution_count": 45,
     "metadata": {},
     "output_type": "execute_result"
    }
   ],
   "source": [
    "df['HubSpot Record ID']"
   ]
  },
  {
   "cell_type": "code",
   "execution_count": 46,
   "id": "60f7a083",
   "metadata": {},
   "outputs": [],
   "source": [
    "df = df.replace(np.nan, '')"
   ]
  },
  {
   "cell_type": "code",
   "execution_count": 47,
   "id": "1305ff82",
   "metadata": {},
   "outputs": [
    {
     "data": {
      "text/html": [
       "<div>\n",
       "<style scoped>\n",
       "    .dataframe tbody tr th:only-of-type {\n",
       "        vertical-align: middle;\n",
       "    }\n",
       "\n",
       "    .dataframe tbody tr th {\n",
       "        vertical-align: top;\n",
       "    }\n",
       "\n",
       "    .dataframe thead th {\n",
       "        text-align: right;\n",
       "    }\n",
       "</style>\n",
       "<table border=\"1\" class=\"dataframe\">\n",
       "  <thead>\n",
       "    <tr style=\"text-align: right;\">\n",
       "      <th></th>\n",
       "      <th>Checkbox</th>\n",
       "      <th>Country/Region</th>\n",
       "      <th>Email</th>\n",
       "      <th>Email Validation</th>\n",
       "      <th>First Name</th>\n",
       "      <th>HubSpot Record ID</th>\n",
       "      <th>Industry</th>\n",
       "      <th>Last Name</th>\n",
       "      <th>Original Email</th>\n",
       "      <th>Phone Number</th>\n",
       "      <th>Street Address</th>\n",
       "      <th>Temporary ID</th>\n",
       "      <th>Training Create Date</th>\n",
       "    </tr>\n",
       "  </thead>\n",
       "  <tbody>\n",
       "    <tr>\n",
       "      <th>1</th>\n",
       "      <td>Yes</td>\n",
       "      <td></td>\n",
       "      <td>tyson_newman1021718471@yahoo.com</td>\n",
       "      <td>Valid</td>\n",
       "      <td></td>\n",
       "      <td>132628438581</td>\n",
       "      <td>Poultry and fish</td>\n",
       "      <td></td>\n",
       "      <td>tyson_newman1021718471@yahoo.com</td>\n",
       "      <td></td>\n",
       "      <td>Blake  Grove, 4981</td>\n",
       "      <td>89917963693</td>\n",
       "      <td>2021-03-04</td>\n",
       "    </tr>\n",
       "  </tbody>\n",
       "</table>\n",
       "</div>"
      ],
      "text/plain": [
       "  Checkbox Country/Region                             Email Email Validation  \\\n",
       "1      Yes                 tyson_newman1021718471@yahoo.com            Valid   \n",
       "\n",
       "  First Name HubSpot Record ID          Industry Last Name  \\\n",
       "1                 132628438581  Poultry and fish             \n",
       "\n",
       "                     Original Email Phone Number      Street Address  \\\n",
       "1  tyson_newman1021718471@yahoo.com               Blake  Grove, 4981   \n",
       "\n",
       "   Temporary ID Training Create Date  \n",
       "1   89917963693           2021-03-04  "
      ]
     },
     "execution_count": 47,
     "metadata": {},
     "output_type": "execute_result"
    }
   ],
   "source": [
    "df.loc[df['HubSpot Record ID'] != '']"
   ]
  },
  {
   "cell_type": "markdown",
   "id": "e04986a8",
   "metadata": {},
   "source": [
    "## a. Country Recognition"
   ]
  },
  {
   "cell_type": "markdown",
   "id": "cbe7a16f",
   "metadata": {},
   "source": [
    "| Give the array with unique values in \"Country/Region\""
   ]
  },
  {
   "cell_type": "code",
   "execution_count": 48,
   "id": "e0827ed3",
   "metadata": {},
   "outputs": [
    {
     "name": "stdout",
     "output_type": "stream",
     "text": [
      "['Dublin' '' 'Oxford' 'Limerick' 'Cork' 'Winchester' 'Plymouth'\n",
      " 'Milton Keynes' 'London' 'Waterford' 'England' 'Ireland']\n"
     ]
    }
   ],
   "source": [
    "unique_countries = df['Country/Region'].head(100).dropna().unique()\n",
    "print(unique_countries)"
   ]
  },
  {
   "cell_type": "code",
   "execution_count": 49,
   "id": "4b143428",
   "metadata": {},
   "outputs": [
    {
     "data": {
      "text/plain": [
       "array(['Dublin', '', 'Oxford', 'Limerick', 'Cork', 'Winchester',\n",
       "       'Plymouth', 'Milton Keynes', 'London', 'Waterford', 'England',\n",
       "       'Ireland'], dtype=object)"
      ]
     },
     "execution_count": 49,
     "metadata": {},
     "output_type": "execute_result"
    }
   ],
   "source": [
    "df['Country/Region'].unique()"
   ]
  },
  {
   "cell_type": "code",
   "execution_count": null,
   "id": "7f231f16",
   "metadata": {},
   "outputs": [],
   "source": [
    "from transformations import country_recognition\n",
    "import pandas as pd\n",
    "\n",
    "df['Country/Region Raw'] = df['Country/Region']\n",
    "\n",
    "df[['Country/Region', 'City']] = df['Country/Region Raw'].apply(\n",
    "    lambda x: pd.Series(country_recognition(x))\n",
    ")\n",
    "\n",
    "df[['country_found', 'city_found']] = df['Country/Region Raw'].apply(\n",
    "    lambda x: pd.Series(country_recognition(x))\n",
    ")\n",
    "df['Known City'] = df['city_found'].apply(lambda x: bool(x and x.strip()))\n",
    "\n",
    "if 'Country/Region Raw' in df.columns:\n",
    "    df.drop(columns=['Country/Region Raw'], inplace=True)"
   ]
  },
  {
   "cell_type": "code",
   "execution_count": 56,
   "id": "abdebd6d",
   "metadata": {},
   "outputs": [
    {
     "data": {
      "text/plain": [
       "array(['Ireland', '', 'England'], dtype=object)"
      ]
     },
     "execution_count": 56,
     "metadata": {},
     "output_type": "execute_result"
    }
   ],
   "source": [
    "df['Country/Region'].unique()"
   ]
  },
  {
   "cell_type": "code",
   "execution_count": 57,
   "id": "a25d12a3",
   "metadata": {},
   "outputs": [
    {
     "data": {
      "text/plain": [
       "array(['Ireland', '', 'England'], dtype=object)"
      ]
     },
     "execution_count": 57,
     "metadata": {},
     "output_type": "execute_result"
    }
   ],
   "source": [
    "df['country_found'].unique()"
   ]
  },
  {
   "cell_type": "code",
   "execution_count": 58,
   "id": "6cd9821a",
   "metadata": {},
   "outputs": [
    {
     "data": {
      "text/plain": [
       "array(['Dublin', '', 'Oxford', 'Limerick', 'Cork', 'Winchester',\n",
       "       'Plymouth', 'Milton Keynes', 'London', 'Waterford'], dtype=object)"
      ]
     },
     "execution_count": 58,
     "metadata": {},
     "output_type": "execute_result"
    }
   ],
   "source": [
    "df['city_found'].unique()"
   ]
  },
  {
   "cell_type": "markdown",
   "id": "9637ae49",
   "metadata": {},
   "source": [
    "## b. Fix Phone Numbers"
   ]
  },
  {
   "cell_type": "code",
   "execution_count": 52,
   "id": "43a38c8b",
   "metadata": {},
   "outputs": [],
   "source": [
    "from transformations import format_phone\n",
    "import re\n",
    "\n",
    "df[['Phone Number', 'Extension']] = df.apply(\n",
    "    lambda row: pd.Series(format_phone(str(row['Phone Number']), str(row['country_found']))), axis=1\n",
    ")\n",
    "df['Phone Number'] = df['Phone Number'].str.strip()\n",
    "df['Extension'] = df['Extension'].str.strip()"
   ]
  },
  {
   "cell_type": "markdown",
   "id": "b67c393f",
   "metadata": {},
   "source": [
    "## c. Fixing Industry options"
   ]
  },
  {
   "cell_type": "code",
   "execution_count": 53,
   "id": "0b155179",
   "metadata": {},
   "outputs": [],
   "source": [
    "from transformations import fix_industry_multicheck\n",
    "\n",
    "df['Industry'] = df['Industry'].apply(fix_industry_multicheck)\n"
   ]
  },
  {
   "cell_type": "code",
   "execution_count": 54,
   "id": "b935faf1",
   "metadata": {},
   "outputs": [
    {
     "data": {
      "text/html": [
       "<div>\n",
       "<style scoped>\n",
       "    .dataframe tbody tr th:only-of-type {\n",
       "        vertical-align: middle;\n",
       "    }\n",
       "\n",
       "    .dataframe tbody tr th {\n",
       "        vertical-align: top;\n",
       "    }\n",
       "\n",
       "    .dataframe thead th {\n",
       "        text-align: right;\n",
       "    }\n",
       "</style>\n",
       "<table border=\"1\" class=\"dataframe\">\n",
       "  <thead>\n",
       "    <tr style=\"text-align: right;\">\n",
       "      <th></th>\n",
       "      <th>Checkbox</th>\n",
       "      <th>Country/Region</th>\n",
       "      <th>Email</th>\n",
       "      <th>Email Validation</th>\n",
       "      <th>First Name</th>\n",
       "      <th>HubSpot Record ID</th>\n",
       "      <th>Industry</th>\n",
       "      <th>Last Name</th>\n",
       "      <th>Original Email</th>\n",
       "      <th>Phone Number</th>\n",
       "      <th>Street Address</th>\n",
       "      <th>Temporary ID</th>\n",
       "      <th>Training Create Date</th>\n",
       "      <th>City</th>\n",
       "      <th>country_found</th>\n",
       "      <th>city_found</th>\n",
       "      <th>Known City</th>\n",
       "      <th>Extension</th>\n",
       "    </tr>\n",
       "  </thead>\n",
       "  <tbody>\n",
       "    <tr>\n",
       "      <th>0</th>\n",
       "      <td>Yes</td>\n",
       "      <td>Ireland</td>\n",
       "      <td>carrie_rees1243518944@tonsy.org</td>\n",
       "      <td>Valid</td>\n",
       "      <td>Carrie</td>\n",
       "      <td></td>\n",
       "      <td>Animal feeds</td>\n",
       "      <td>Rees</td>\n",
       "      <td></td>\n",
       "      <td>+(353)4527 8522</td>\n",
       "      <td>Boadicea   Lane, 1368</td>\n",
       "      <td>89900742223</td>\n",
       "      <td>2021-03-26</td>\n",
       "      <td>Dublin</td>\n",
       "      <td>Ireland</td>\n",
       "      <td>Dublin</td>\n",
       "      <td>True</td>\n",
       "      <td>ext 25</td>\n",
       "    </tr>\n",
       "    <tr>\n",
       "      <th>1</th>\n",
       "      <td>Yes</td>\n",
       "      <td></td>\n",
       "      <td>tyson_newman1021718471@yahoo.com</td>\n",
       "      <td>Valid</td>\n",
       "      <td></td>\n",
       "      <td>132628438581</td>\n",
       "      <td>Poultry;Fish</td>\n",
       "      <td></td>\n",
       "      <td>tyson_newman1021718471@yahoo.com</td>\n",
       "      <td></td>\n",
       "      <td>Blake  Grove, 4981</td>\n",
       "      <td>89917963693</td>\n",
       "      <td>2021-03-04</td>\n",
       "      <td></td>\n",
       "      <td></td>\n",
       "      <td></td>\n",
       "      <td>False</td>\n",
       "      <td></td>\n",
       "    </tr>\n",
       "    <tr>\n",
       "      <th>2</th>\n",
       "      <td>Yes</td>\n",
       "      <td>England</td>\n",
       "      <td>esmeralda_york235096819@ubusive.com</td>\n",
       "      <td>Valid</td>\n",
       "      <td>Esmeralda</td>\n",
       "      <td></td>\n",
       "      <td>Fruit;Vegetables</td>\n",
       "      <td>York</td>\n",
       "      <td></td>\n",
       "      <td>+(44)6866 445484</td>\n",
       "      <td>Norfolk  Rue, 5174</td>\n",
       "      <td>89923835996</td>\n",
       "      <td>2021-10-27</td>\n",
       "      <td>Oxford</td>\n",
       "      <td>England</td>\n",
       "      <td>Oxford</td>\n",
       "      <td>True</td>\n",
       "      <td>ext 85</td>\n",
       "    </tr>\n",
       "    <tr>\n",
       "      <th>3</th>\n",
       "      <td>Yes</td>\n",
       "      <td>Ireland</td>\n",
       "      <td>javier_ogilvy1286833203@sveldo.biz</td>\n",
       "      <td>Valid</td>\n",
       "      <td>Javier</td>\n",
       "      <td></td>\n",
       "      <td>Animal feeds</td>\n",
       "      <td>Ogilvy</td>\n",
       "      <td></td>\n",
       "      <td>+(353)4330 564786</td>\n",
       "      <td>Walnut Route, 8868</td>\n",
       "      <td>89926039813</td>\n",
       "      <td>2021-05-10</td>\n",
       "      <td>Limerick</td>\n",
       "      <td>Ireland</td>\n",
       "      <td>Limerick</td>\n",
       "      <td>True</td>\n",
       "      <td>ext 2</td>\n",
       "    </tr>\n",
       "    <tr>\n",
       "      <th>4</th>\n",
       "      <td>Yes</td>\n",
       "      <td>Ireland</td>\n",
       "      <td>payton_becker94954582@acrit.org</td>\n",
       "      <td>Valid</td>\n",
       "      <td>Payton</td>\n",
       "      <td></td>\n",
       "      <td>Meat</td>\n",
       "      <td>Becker</td>\n",
       "      <td></td>\n",
       "      <td>+(353)4822 073186</td>\n",
       "      <td>Thomas More   Walk, 6363</td>\n",
       "      <td>89931282301</td>\n",
       "      <td>2021-07-31</td>\n",
       "      <td>Cork</td>\n",
       "      <td>Ireland</td>\n",
       "      <td>Cork</td>\n",
       "      <td>True</td>\n",
       "      <td>ext 19</td>\n",
       "    </tr>\n",
       "    <tr>\n",
       "      <th>...</th>\n",
       "      <td>...</td>\n",
       "      <td>...</td>\n",
       "      <td>...</td>\n",
       "      <td>...</td>\n",
       "      <td>...</td>\n",
       "      <td>...</td>\n",
       "      <td>...</td>\n",
       "      <td>...</td>\n",
       "      <td>...</td>\n",
       "      <td>...</td>\n",
       "      <td>...</td>\n",
       "      <td>...</td>\n",
       "      <td>...</td>\n",
       "      <td>...</td>\n",
       "      <td>...</td>\n",
       "      <td>...</td>\n",
       "      <td>...</td>\n",
       "      <td>...</td>\n",
       "    </tr>\n",
       "    <tr>\n",
       "      <th>6931</th>\n",
       "      <td>Yes</td>\n",
       "      <td>England</td>\n",
       "      <td>alan_warner22954315@fuliss.net</td>\n",
       "      <td>Valid</td>\n",
       "      <td>Alan</td>\n",
       "      <td></td>\n",
       "      <td>Meat</td>\n",
       "      <td>Warner</td>\n",
       "      <td>alan_warner22954315@fuliss.net</td>\n",
       "      <td>+(44)7260 282170</td>\n",
       "      <td>Bede  Avenue, 4773</td>\n",
       "      <td>89929492338</td>\n",
       "      <td>2021-04-28</td>\n",
       "      <td></td>\n",
       "      <td>England</td>\n",
       "      <td></td>\n",
       "      <td>False</td>\n",
       "      <td>ext 87</td>\n",
       "    </tr>\n",
       "    <tr>\n",
       "      <th>6932</th>\n",
       "      <td>Yes</td>\n",
       "      <td>England</td>\n",
       "      <td>alan_warner22954315+101@fuliss.net</td>\n",
       "      <td>Valid</td>\n",
       "      <td>Alan</td>\n",
       "      <td></td>\n",
       "      <td>Poultry;Fish</td>\n",
       "      <td>Warner</td>\n",
       "      <td>alan_warner22954315@fuliss.net</td>\n",
       "      <td>+(44)7260 282170</td>\n",
       "      <td>Cedarne  Vale, 145</td>\n",
       "      <td>89922872760</td>\n",
       "      <td>2021-03-04</td>\n",
       "      <td></td>\n",
       "      <td>England</td>\n",
       "      <td></td>\n",
       "      <td>False</td>\n",
       "      <td>ext 2</td>\n",
       "    </tr>\n",
       "    <tr>\n",
       "      <th>6933</th>\n",
       "      <td>Yes</td>\n",
       "      <td>England</td>\n",
       "      <td>alan_warner22954315+102@fuliss.net</td>\n",
       "      <td>Valid</td>\n",
       "      <td></td>\n",
       "      <td></td>\n",
       "      <td>Bakery products</td>\n",
       "      <td></td>\n",
       "      <td>alan_warner22954315@fuliss.net</td>\n",
       "      <td></td>\n",
       "      <td>Timothy  Lane, 7367</td>\n",
       "      <td>89924828747</td>\n",
       "      <td>2021-08-08</td>\n",
       "      <td></td>\n",
       "      <td>England</td>\n",
       "      <td></td>\n",
       "      <td>False</td>\n",
       "      <td></td>\n",
       "    </tr>\n",
       "    <tr>\n",
       "      <th>6934</th>\n",
       "      <td>Yes</td>\n",
       "      <td>England</td>\n",
       "      <td>alan_warner22954315+103@fuliss.net</td>\n",
       "      <td>Valid</td>\n",
       "      <td></td>\n",
       "      <td></td>\n",
       "      <td>Bakery products</td>\n",
       "      <td></td>\n",
       "      <td>alan_warner22954315@fuliss.net</td>\n",
       "      <td>+(44)7260 282170</td>\n",
       "      <td>Chartham  Tunnel, 2674</td>\n",
       "      <td>89922428342</td>\n",
       "      <td>2021-12-06</td>\n",
       "      <td></td>\n",
       "      <td>England</td>\n",
       "      <td></td>\n",
       "      <td>False</td>\n",
       "      <td>ext 44</td>\n",
       "    </tr>\n",
       "    <tr>\n",
       "      <th>6935</th>\n",
       "      <td>Yes</td>\n",
       "      <td>England</td>\n",
       "      <td>alan_warner22954315+104@fuliss.net</td>\n",
       "      <td>Valid</td>\n",
       "      <td></td>\n",
       "      <td></td>\n",
       "      <td>Fruit;Vegetables</td>\n",
       "      <td></td>\n",
       "      <td>alan_warner22954315@fuliss.net</td>\n",
       "      <td></td>\n",
       "      <td>Vincent  Drive, 874</td>\n",
       "      <td>89922983299</td>\n",
       "      <td>2021-05-28</td>\n",
       "      <td></td>\n",
       "      <td>England</td>\n",
       "      <td></td>\n",
       "      <td>False</td>\n",
       "      <td></td>\n",
       "    </tr>\n",
       "  </tbody>\n",
       "</table>\n",
       "<p>6936 rows × 18 columns</p>\n",
       "</div>"
      ],
      "text/plain": [
       "     Checkbox Country/Region                                Email  \\\n",
       "0         Yes        Ireland      carrie_rees1243518944@tonsy.org   \n",
       "1         Yes                    tyson_newman1021718471@yahoo.com   \n",
       "2         Yes        England  esmeralda_york235096819@ubusive.com   \n",
       "3         Yes        Ireland   javier_ogilvy1286833203@sveldo.biz   \n",
       "4         Yes        Ireland      payton_becker94954582@acrit.org   \n",
       "...       ...            ...                                  ...   \n",
       "6931      Yes        England       alan_warner22954315@fuliss.net   \n",
       "6932      Yes        England   alan_warner22954315+101@fuliss.net   \n",
       "6933      Yes        England   alan_warner22954315+102@fuliss.net   \n",
       "6934      Yes        England   alan_warner22954315+103@fuliss.net   \n",
       "6935      Yes        England   alan_warner22954315+104@fuliss.net   \n",
       "\n",
       "     Email Validation First Name HubSpot Record ID          Industry  \\\n",
       "0               Valid     Carrie                        Animal feeds   \n",
       "1               Valid                 132628438581      Poultry;Fish   \n",
       "2               Valid  Esmeralda                    Fruit;Vegetables   \n",
       "3               Valid     Javier                        Animal feeds   \n",
       "4               Valid     Payton                                Meat   \n",
       "...               ...        ...               ...               ...   \n",
       "6931            Valid       Alan                                Meat   \n",
       "6932            Valid       Alan                        Poultry;Fish   \n",
       "6933            Valid                                Bakery products   \n",
       "6934            Valid                                Bakery products   \n",
       "6935            Valid                               Fruit;Vegetables   \n",
       "\n",
       "     Last Name                    Original Email       Phone Number  \\\n",
       "0         Rees                                      +(353)4527 8522   \n",
       "1               tyson_newman1021718471@yahoo.com                      \n",
       "2         York                                     +(44)6866 445484   \n",
       "3       Ogilvy                                    +(353)4330 564786   \n",
       "4       Becker                                    +(353)4822 073186   \n",
       "...        ...                               ...                ...   \n",
       "6931    Warner    alan_warner22954315@fuliss.net   +(44)7260 282170   \n",
       "6932    Warner    alan_warner22954315@fuliss.net   +(44)7260 282170   \n",
       "6933              alan_warner22954315@fuliss.net                      \n",
       "6934              alan_warner22954315@fuliss.net   +(44)7260 282170   \n",
       "6935              alan_warner22954315@fuliss.net                      \n",
       "\n",
       "                Street Address  Temporary ID Training Create Date      City  \\\n",
       "0        Boadicea   Lane, 1368   89900742223           2021-03-26    Dublin   \n",
       "1           Blake  Grove, 4981   89917963693           2021-03-04             \n",
       "2           Norfolk  Rue, 5174   89923835996           2021-10-27    Oxford   \n",
       "3           Walnut Route, 8868   89926039813           2021-05-10  Limerick   \n",
       "4     Thomas More   Walk, 6363   89931282301           2021-07-31      Cork   \n",
       "...                        ...           ...                  ...       ...   \n",
       "6931        Bede  Avenue, 4773   89929492338           2021-04-28             \n",
       "6932        Cedarne  Vale, 145   89922872760           2021-03-04             \n",
       "6933       Timothy  Lane, 7367   89924828747           2021-08-08             \n",
       "6934    Chartham  Tunnel, 2674   89922428342           2021-12-06             \n",
       "6935       Vincent  Drive, 874   89922983299           2021-05-28             \n",
       "\n",
       "     country_found city_found  Known City Extension  \n",
       "0          Ireland     Dublin        True    ext 25  \n",
       "1                                   False            \n",
       "2          England     Oxford        True    ext 85  \n",
       "3          Ireland   Limerick        True     ext 2  \n",
       "4          Ireland       Cork        True    ext 19  \n",
       "...            ...        ...         ...       ...  \n",
       "6931       England                  False    ext 87  \n",
       "6932       England                  False     ext 2  \n",
       "6933       England                  False            \n",
       "6934       England                  False    ext 44  \n",
       "6935       England                  False            \n",
       "\n",
       "[6936 rows x 18 columns]"
      ]
     },
     "execution_count": 54,
     "metadata": {},
     "output_type": "execute_result"
    }
   ],
   "source": [
    "df"
   ]
  },
  {
   "cell_type": "markdown",
   "id": "6973188e",
   "metadata": {},
   "source": [
    "# Save File"
   ]
  },
  {
   "cell_type": "code",
   "execution_count": 55,
   "id": "34e97b76",
   "metadata": {},
   "outputs": [],
   "source": [
    "df.to_csv(main_folder+r'\\File To Import.csv', index = False)"
   ]
  }
 ],
 "metadata": {
  "kernelspec": {
   "display_name": "Python 3",
   "language": "python",
   "name": "python3"
  },
  "language_info": {
   "codemirror_mode": {
    "name": "ipython",
    "version": 3
   },
   "file_extension": ".py",
   "mimetype": "text/x-python",
   "name": "python",
   "nbconvert_exporter": "python",
   "pygments_lexer": "ipython3",
   "version": "3.13.5"
  }
 },
 "nbformat": 4,
 "nbformat_minor": 5
}
