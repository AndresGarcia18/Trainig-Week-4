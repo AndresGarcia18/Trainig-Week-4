{
 "cells": [
  {
   "cell_type": "code",
   "execution_count": 1,
   "metadata": {},
   "outputs": [],
   "source": [
    "import requests\n",
    "import csv\n",
    "from typing import List\n",
    "import re\n",
    "import pandas as pd\n",
    "import sys"
   ]
  },
  {
   "cell_type": "code",
   "execution_count": 2,
   "metadata": {},
   "outputs": [],
   "source": [
    "# access_token = \"\"\n",
    "url = \"https://api.hubapi.com/crm/v3/objects/contacts/search\"\n",
    "all_contacts = []\n",
    "has_more = True\n",
    "after = None\n",
    "\n",
    "headers = {\n",
    "        \"Authorization\": f\"Bearer {access_token}\",\n",
    "        \"Content-Type\": \"application/json\"\n",
    "}\n",
    "\n",
    "properties = [\n",
    "    \"firstname\", \"lastname\", \"country\", \"phone\", \"training___create_date\",\n",
    "    \"industry\", \"address\", \"checkbox\", \"raw_email_id\", \"hs_object_id\"\n",
    "]\n",
    "\n",
    "data = {\n",
    "    \"filterGroups\": [\n",
    "        {\n",
    "            \"filters\": [\n",
    "                {\n",
    "                    \"propertyName\": \"allowed_to_collect\",\n",
    "                    \"operator\": \"EQ\",\n",
    "                    \"value\": \"true\"\n",
    "                }\n",
    "            ]\n",
    "        }\n",
    "    ],\n",
    "    \"properties\": properties,\n",
    "    \"limit\": 100,\n",
    "    \"after\": 0\n",
    "}"
   ]
  },
  {
   "cell_type": "code",
   "execution_count": 4,
   "metadata": {},
   "outputs": [],
   "source": [
    "while has_more:\n",
    "    if after:\n",
    "        data[\"after\"] = after\n",
    "    response = requests.post(url, headers=headers, json=data)\n",
    "    response.raise_for_status()\n",
    "    result = response.json()\n",
    "    for contact in result.get(\"results\", []):\n",
    "        row = {prop: contact[\"properties\"].get(prop, \"\") for prop in properties}\n",
    "        all_contacts.append(row)\n",
    "    after = result.get(\"paging\", {}).get(\"next\", {}).get(\"after\")\n",
    "    has_more = after is not None\n",
    "\n",
    "file_path = \"../Challenge2/contact_collection.csv\"\n",
    "with open(file_path, mode=\"w\", newline='', encoding=\"utf-8\") as f:\n",
    "    writer = csv.DictWriter(f, fieldnames=properties)\n",
    "    writer.writeheader()\n",
    "    writer.writerows(all_contacts)"
   ]
  }
 ],
 "metadata": {
  "kernelspec": {
   "display_name": "Python 3",
   "language": "python",
   "name": "python3"
  },
  "language_info": {
   "codemirror_mode": {
    "name": "ipython",
    "version": 3
   },
   "file_extension": ".py",
   "mimetype": "text/x-python",
   "name": "python",
   "nbconvert_exporter": "python",
   "pygments_lexer": "ipython3",
   "version": "3.13.5"
  }
 },
 "nbformat": 4,
 "nbformat_minor": 2
}
